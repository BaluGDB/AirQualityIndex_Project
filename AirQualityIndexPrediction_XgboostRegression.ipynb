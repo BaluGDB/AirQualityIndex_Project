{
  "nbformat": 4,
  "nbformat_minor": 0,
  "metadata": {
    "colab": {
      "name": "AirQualityIndexPrediction_XgboostRegression.ipynb",
      "provenance": [],
      "mount_file_id": "1DYfWyshZe_vWktXQmNgH9pnbUJu58rYd",
      "authorship_tag": "ABX9TyOPJPs8pvfIEJOqo5NI4Cjx",
      "include_colab_link": true
    },
    "kernelspec": {
      "name": "python3",
      "display_name": "Python 3"
    }
  },
  "cells": [
    {
      "cell_type": "markdown",
      "metadata": {
        "id": "view-in-github",
        "colab_type": "text"
      },
      "source": [
        "<a href=\"https://colab.research.google.com/github/BaluGDB/AirQualityIndex_Project/blob/main/AirQualityIndexPrediction_XgboostRegression.ipynb\" target=\"_parent\"><img src=\"https://colab.research.google.com/assets/colab-badge.svg\" alt=\"Open In Colab\"/></a>"
      ]
    },
    {
      "cell_type": "code",
      "metadata": {
        "id": "TT9mzvUXzw7Z"
      },
      "source": [
        "import pandas as pd\n",
        "import numpy as np\n",
        "import matplotlib.pyplot as plt\n",
        "import seaborn as sns"
      ],
      "execution_count": 2,
      "outputs": []
    },
    {
      "cell_type": "code",
      "metadata": {
        "id": "xr8C4Wam0WBa"
      },
      "source": [
        "df = pd.read_csv('/content/drive/My Drive/MLProjects/AQI_Prediction/Data1/Real-Data/Real_Combine.csv')"
      ],
      "execution_count": 3,
      "outputs": []
    },
    {
      "cell_type": "code",
      "metadata": {
        "id": "1CD2k1650dox",
        "outputId": "32bc9dfa-37e8-4f3e-f58c-28f54bef132e",
        "colab": {
          "base_uri": "https://localhost:8080/",
          "height": 198
        }
      },
      "source": [
        "df.head()"
      ],
      "execution_count": 4,
      "outputs": [
        {
          "output_type": "execute_result",
          "data": {
            "text/html": [
              "<div>\n",
              "<style scoped>\n",
              "    .dataframe tbody tr th:only-of-type {\n",
              "        vertical-align: middle;\n",
              "    }\n",
              "\n",
              "    .dataframe tbody tr th {\n",
              "        vertical-align: top;\n",
              "    }\n",
              "\n",
              "    .dataframe thead th {\n",
              "        text-align: right;\n",
              "    }\n",
              "</style>\n",
              "<table border=\"1\" class=\"dataframe\">\n",
              "  <thead>\n",
              "    <tr style=\"text-align: right;\">\n",
              "      <th></th>\n",
              "      <th>T</th>\n",
              "      <th>TM</th>\n",
              "      <th>Tm</th>\n",
              "      <th>SLP</th>\n",
              "      <th>H</th>\n",
              "      <th>VV</th>\n",
              "      <th>V</th>\n",
              "      <th>VM</th>\n",
              "      <th>PM 2.5</th>\n",
              "    </tr>\n",
              "  </thead>\n",
              "  <tbody>\n",
              "    <tr>\n",
              "      <th>0</th>\n",
              "      <td>7.4</td>\n",
              "      <td>9.8</td>\n",
              "      <td>4.8</td>\n",
              "      <td>1017.6</td>\n",
              "      <td>93.0</td>\n",
              "      <td>0.5</td>\n",
              "      <td>4.3</td>\n",
              "      <td>9.4</td>\n",
              "      <td>219.720833</td>\n",
              "    </tr>\n",
              "    <tr>\n",
              "      <th>1</th>\n",
              "      <td>7.8</td>\n",
              "      <td>12.7</td>\n",
              "      <td>4.4</td>\n",
              "      <td>1018.5</td>\n",
              "      <td>87.0</td>\n",
              "      <td>0.6</td>\n",
              "      <td>4.4</td>\n",
              "      <td>11.1</td>\n",
              "      <td>182.187500</td>\n",
              "    </tr>\n",
              "    <tr>\n",
              "      <th>2</th>\n",
              "      <td>6.7</td>\n",
              "      <td>13.4</td>\n",
              "      <td>2.4</td>\n",
              "      <td>1019.4</td>\n",
              "      <td>82.0</td>\n",
              "      <td>0.6</td>\n",
              "      <td>4.8</td>\n",
              "      <td>11.1</td>\n",
              "      <td>154.037500</td>\n",
              "    </tr>\n",
              "    <tr>\n",
              "      <th>3</th>\n",
              "      <td>8.6</td>\n",
              "      <td>15.5</td>\n",
              "      <td>3.3</td>\n",
              "      <td>1018.7</td>\n",
              "      <td>72.0</td>\n",
              "      <td>0.8</td>\n",
              "      <td>8.1</td>\n",
              "      <td>20.6</td>\n",
              "      <td>223.208333</td>\n",
              "    </tr>\n",
              "    <tr>\n",
              "      <th>4</th>\n",
              "      <td>12.4</td>\n",
              "      <td>20.9</td>\n",
              "      <td>4.4</td>\n",
              "      <td>1017.3</td>\n",
              "      <td>61.0</td>\n",
              "      <td>1.3</td>\n",
              "      <td>8.7</td>\n",
              "      <td>22.2</td>\n",
              "      <td>200.645833</td>\n",
              "    </tr>\n",
              "  </tbody>\n",
              "</table>\n",
              "</div>"
            ],
            "text/plain": [
              "      T    TM   Tm     SLP     H   VV    V    VM      PM 2.5\n",
              "0   7.4   9.8  4.8  1017.6  93.0  0.5  4.3   9.4  219.720833\n",
              "1   7.8  12.7  4.4  1018.5  87.0  0.6  4.4  11.1  182.187500\n",
              "2   6.7  13.4  2.4  1019.4  82.0  0.6  4.8  11.1  154.037500\n",
              "3   8.6  15.5  3.3  1018.7  72.0  0.8  8.1  20.6  223.208333\n",
              "4  12.4  20.9  4.4  1017.3  61.0  1.3  8.7  22.2  200.645833"
            ]
          },
          "metadata": {
            "tags": []
          },
          "execution_count": 4
        }
      ]
    },
    {
      "cell_type": "code",
      "metadata": {
        "id": "LpyEbsny0gDZ",
        "outputId": "0df1e2d6-d367-460e-b3f9-856e09adf9ce",
        "colab": {
          "base_uri": "https://localhost:8080/",
          "height": 283
        }
      },
      "source": [
        "## Check for null values\n",
        "\n",
        "sns.heatmap(df.isnull(), yticklabels=False, cbar=False, cmap='viridis')"
      ],
      "execution_count": 5,
      "outputs": [
        {
          "output_type": "execute_result",
          "data": {
            "text/plain": [
              "<matplotlib.axes._subplots.AxesSubplot at 0x7f1411be12e8>"
            ]
          },
          "metadata": {
            "tags": []
          },
          "execution_count": 5
        },
        {
          "output_type": "display_data",
          "data": {
            "image/png": "[encoded data removed]",
            "text/plain": [
              "<Figure size 432x288 with 1 Axes>"
            ]
          },
          "metadata": {
            "tags": [],
            "needs_background": "light"
          }
        }
      ]
    },
    {
      "cell_type": "code",
      "metadata": {
        "id": "0YnJsfcl0iSq"
      },
      "source": [
        "df=df.dropna()"
      ],
      "execution_count": 6,
      "outputs": []
    },
    {
      "cell_type": "code",
      "metadata": {
        "id": "TzdUlYdd0lTq"
      },
      "source": [
        "x = df.iloc[:,:-1] ### Independent features\n",
        "y = df.iloc[:,-1] ### Dependent features"
      ],
      "execution_count": 7,
      "outputs": []
    },
    {
      "cell_type": "code",
      "metadata": {
        "id": "jEeyW9cY0nJK",
        "outputId": "7dae0247-f6cb-435e-c7ac-7214d3c6e75b",
        "colab": {
          "base_uri": "https://localhost:8080/",
          "height": 354
        }
      },
      "source": [
        "sns.distplot(y)"
      ],
      "execution_count": 8,
      "outputs": [
        {
          "output_type": "stream",
          "text": [
            "/usr/local/lib/python3.6/dist-packages/seaborn/distributions.py:2551: FutureWarning: `distplot` is a deprecated function and will be removed in a future version. Please adapt your code to use either `displot` (a figure-level function with similar flexibility) or `histplot` (an axes-level function for histograms).\n",
            "  warnings.warn(msg, FutureWarning)\n"
          ],
          "name": "stderr"
        },
        {
          "output_type": "execute_result",
          "data": {
            "text/plain": [
              "<matplotlib.axes._subplots.AxesSubplot at 0x7f140ec3bfd0>"
            ]
          },
          "metadata": {
            "tags": []
          },
          "execution_count": 8
        },
        {
          "output_type": "display_data",
          "data": {
            "image/png": "[encoded data removed]",
            "text/plain": [
              "<Figure size 432x288 with 1 Axes>"
            ]
          },
          "metadata": {
            "tags": [],
            "needs_background": "light"
          }
        }
      ]
    },
    {
      "cell_type": "code",
      "metadata": {
        "id": "u4r5sv9p0qbp"
      },
      "source": [
        "from sklearn.model_selection import train_test_split\n",
        "x_train, x_test, y_train, y_test = train_test_split(x,y,test_size=0.3, random_state=0)"
      ],
      "execution_count": 9,
      "outputs": []
    },
    {
      "cell_type": "markdown",
      "metadata": {
        "id": "uthF3kB4_tfs"
      },
      "source": [
        "**XgBoost Regressor**"
      ]
    },
    {
      "cell_type": "code",
      "metadata": {
        "id": "znUNvFed0tC5"
      },
      "source": [
        "import xgboost as xgb"
      ],
      "execution_count": 11,
      "outputs": []
    },
    {
      "cell_type": "code",
      "metadata": {
        "id": "0CEfZ23o1BNR",
        "outputId": "1420afd9-3f35-43b5-ee3f-41cdf088af8d",
        "colab": {
          "base_uri": "https://localhost:8080/"
        }
      },
      "source": [
        "regressor=xgb.XGBRegressor(objective='reg:squarederror')\n",
        "regressor.fit(x_train, y_train)"
      ],
      "execution_count": 18,
      "outputs": [
        {
          "output_type": "execute_result",
          "data": {
            "text/plain": [
              "XGBRegressor(base_score=0.5, booster='gbtree', colsample_bylevel=1,\n",
              "             colsample_bynode=1, colsample_bytree=1, gamma=0,\n",
              "             importance_type='gain', learning_rate=0.1, max_delta_step=0,\n",
              "             max_depth=3, min_child_weight=1, missing=None, n_estimators=100,\n",
              "             n_jobs=1, nthread=None, objective='reg:squarederror',\n",
              "             random_state=0, reg_alpha=0, reg_lambda=1, scale_pos_weight=1,\n",
              "             seed=None, silent=None, subsample=1, verbosity=1)"
            ]
          },
          "metadata": {
            "tags": []
          },
          "execution_count": 18
        }
      ]
    },
    {
      "cell_type": "code",
      "metadata": {
        "id": "-ymCCv6R1D8h",
        "outputId": "91680e40-c1ec-456f-a1ec-4c39754c2627",
        "colab": {
          "base_uri": "https://localhost:8080/"
        }
      },
      "source": [
        "print(\"Coeffficient of determination R^2 ---on train set:  {}\".format(regressor.score(x_train, y_train)))"
      ],
      "execution_count": 19,
      "outputs": [
        {
          "output_type": "stream",
          "text": [
            "Coeffficient of determination R^2 ---on train set:  0.8606305938167513\n"
          ],
          "name": "stdout"
        }
      ]
    },
    {
      "cell_type": "code",
      "metadata": {
        "id": "Fq_v9H8R1W1J",
        "outputId": "8e3c4ecb-fc93-460c-f24c-4a1417751cbf",
        "colab": {
          "base_uri": "https://localhost:8080/"
        }
      },
      "source": [
        "print(\"Coeffficient of determination R^2 ---on test set:  {}\".format(regressor.score(x_test, y_test)))"
      ],
      "execution_count": 20,
      "outputs": [
        {
          "output_type": "stream",
          "text": [
            "Coeffficient of determination R^2 ---on test set:  0.7210652962292528\n"
          ],
          "name": "stdout"
        }
      ]
    },
    {
      "cell_type": "code",
      "metadata": {
        "id": "mvKZbgLF1fPR"
      },
      "source": [
        "from sklearn.model_selection import cross_val_score\n",
        "score = cross_val_score(regressor,x,y,cv=5)"
      ],
      "execution_count": 21,
      "outputs": []
    },
    {
      "cell_type": "code",
      "metadata": {
        "id": "X2R1x6rk1_55",
        "outputId": "46c22e01-e175-4319-8606-010ba2290b2d",
        "colab": {
          "base_uri": "https://localhost:8080/"
        }
      },
      "source": [
        "score.mean()"
      ],
      "execution_count": 22,
      "outputs": [
        {
          "output_type": "execute_result",
          "data": {
            "text/plain": [
              "0.6582827367763413"
            ]
          },
          "metadata": {
            "tags": []
          },
          "execution_count": 22
        }
      ]
    },
    {
      "cell_type": "markdown",
      "metadata": {
        "id": "CvL1IIAi2JNK"
      },
      "source": [
        "**Model Evaluation**"
      ]
    },
    {
      "cell_type": "code",
      "metadata": {
        "id": "zGPKsQK82Bj5"
      },
      "source": [
        "prediction = regressor.predict(x_test)"
      ],
      "execution_count": 23,
      "outputs": []
    },
    {
      "cell_type": "code",
      "metadata": {
        "id": "9s-ROWZF2O3Y",
        "outputId": "2b222b28-67ac-450e-da19-918ea8946457",
        "colab": {
          "base_uri": "https://localhost:8080/",
          "height": 354
        }
      },
      "source": [
        "sns.distplot(y_test-prediction)"
      ],
      "execution_count": 26,
      "outputs": [
        {
          "output_type": "stream",
          "text": [
            "/usr/local/lib/python3.6/dist-packages/seaborn/distributions.py:2551: FutureWarning: `distplot` is a deprecated function and will be removed in a future version. Please adapt your code to use either `displot` (a figure-level function with similar flexibility) or `histplot` (an axes-level function for histograms).\n",
            "  warnings.warn(msg, FutureWarning)\n"
          ],
          "name": "stderr"
        },
        {
          "output_type": "execute_result",
          "data": {
            "text/plain": [
              "<matplotlib.axes._subplots.AxesSubplot at 0x7f14003c9a20>"
            ]
          },
          "metadata": {
            "tags": []
          },
          "execution_count": 26
        },
        {
          "output_type": "display_data",
          "data": {
            "image/png": "[encoded data removed]",
            "text/plain": [
              "<Figure size 432x288 with 1 Axes>"
            ]
          },
          "metadata": {
            "tags": [],
            "needs_background": "light"
          }
        }
      ]
    },
    {
      "cell_type": "code",
      "metadata": {
        "id": "2Cj28MoE2SbY",
        "outputId": "90998e70-9fbd-4a93-b93b-908e3082793c",
        "colab": {
          "base_uri": "https://localhost:8080/",
          "height": 283
        }
      },
      "source": [
        "plt.scatter(y_test, prediction)"
      ],
      "execution_count": 27,
      "outputs": [
        {
          "output_type": "execute_result",
          "data": {
            "text/plain": [
              "<matplotlib.collections.PathCollection at 0x7f14004e2e10>"
            ]
          },
          "metadata": {
            "tags": []
          },
          "execution_count": 27
        },
        {
          "output_type": "display_data",
          "data": {
            "image/png": "[encoded data removed]",
            "text/plain": [
              "<Figure size 432x288 with 1 Axes>"
            ]
          },
          "metadata": {
            "tags": [],
            "needs_background": "light"
          }
        }
      ]
    },
    {
      "cell_type": "markdown",
      "metadata": {
        "id": "6tPRRaoV2aX5"
      },
      "source": [
        "**Hyperparameter Tuning**"
      ]
    },
    {
      "cell_type": "code",
      "metadata": {
        "id": "hqI6UFc42Xv4",
        "outputId": "b2e31ba3-c986-40ba-aa51-e35f3946a2dd",
        "colab": {
          "base_uri": "https://localhost:8080/"
        }
      },
      "source": [
        "xgb.XGBRegressor()"
      ],
      "execution_count": 28,
      "outputs": [
        {
          "output_type": "execute_result",
          "data": {
            "text/plain": [
              "XGBRegressor(base_score=0.5, booster='gbtree', colsample_bylevel=1,\n",
              "             colsample_bynode=1, colsample_bytree=1, gamma=0,\n",
              "             importance_type='gain', learning_rate=0.1, max_delta_step=0,\n",
              "             max_depth=3, min_child_weight=1, missing=None, n_estimators=100,\n",
              "             n_jobs=1, nthread=None, objective='reg:linear', random_state=0,\n",
              "             reg_alpha=0, reg_lambda=1, scale_pos_weight=1, seed=None,\n",
              "             silent=None, subsample=1, verbosity=1)"
            ]
          },
          "metadata": {
            "tags": []
          },
          "execution_count": 28
        }
      ]
    },
    {
      "cell_type": "code",
      "metadata": {
        "id": "YBcu7FBu4i8P"
      },
      "source": [
        "from sklearn.model_selection import RandomizedSearchCV"
      ],
      "execution_count": 29,
      "outputs": []
    },
    {
      "cell_type": "code",
      "metadata": {
        "id": "-n7rDHKn4qFI",
        "outputId": "494281ae-554c-4fc3-9860-e6c2a924b87b",
        "colab": {
          "base_uri": "https://localhost:8080/"
        }
      },
      "source": [
        "n_estimators = [int(x) for x in np.linspace(start=100, stop=1200, num=12)]\n",
        "print(n_estimators)"
      ],
      "execution_count": null,
      "outputs": [
        {
          "output_type": "stream",
          "text": [
            "[100, 200, 300, 400, 500, 600, 700, 800, 900, 1000, 1100, 1200]\n"
          ],
          "name": "stdout"
        }
      ]
    },
    {
      "cell_type": "code",
      "metadata": {
        "id": "8Z6-gwYb4sZo"
      },
      "source": [
        "### RandomizedSearchCV\n",
        "\n",
        "# Number of trees\n",
        "n_estimators = [int(x) for x in np.linspace(start=100, stop=1200, num=12)]\n",
        "\n",
        "# Various learning rate parameters\n",
        "learning_rate = ['0.05', '0.1', '0.2', '0.3', '0.5', '0.6']\n",
        "\n",
        "# Maximum number of levels in tree\n",
        "max_depth = [int(x) for x in np.linspace(5,30,num=6)]\n",
        "\n",
        "# Subsample parameter values\n",
        "subsample = [0.6, 0.7, 0.8]\n",
        "\n",
        "# Minimum chile weight parameters\n",
        "min_child_weight = [3,4,5,6,7]\n"
      ],
      "execution_count": 30,
      "outputs": []
    },
    {
      "cell_type": "code",
      "metadata": {
        "id": "Fsxbh5YA5OUI",
        "outputId": "4af4ee77-e598-4e9f-f12a-fa96e76ecb68",
        "colab": {
          "base_uri": "https://localhost:8080/"
        }
      },
      "source": [
        "# Create the random grid\n",
        "\n",
        "random_grid = {'n_estimators' : n_estimators,\n",
        "               'learning_rate' : learning_rate,\n",
        "               'max_depth' : max_depth,\n",
        "               'subsample': subsample,\n",
        "               'min_child_weight' : min_child_weight}\n",
        "print(random_grid) "
      ],
      "execution_count": 31,
      "outputs": [
        {
          "output_type": "stream",
          "text": [
            "{'n_estimators': [100, 200, 300, 400, 500, 600, 700, 800, 900, 1000, 1100, 1200], 'learning_rate': ['0.05', '0.1', '0.2', '0.3', '0.5', '0.6'], 'max_depth': [5, 10, 15, 20, 25, 30], 'subsample': [0.6, 0.7, 0.8], 'min_child_weight': [3, 4, 5, 6, 7]}\n"
          ],
          "name": "stdout"
        }
      ]
    },
    {
      "cell_type": "code",
      "metadata": {
        "id": "M6PrktvEBt4M"
      },
      "source": [
        "## Use the ramdom grid to search for best hyperparameters\n",
        "# First create the base model to tune\n",
        "\n",
        "regressor=xgb.XGBRegressor()"
      ],
      "execution_count": 32,
      "outputs": []
    },
    {
      "cell_type": "code",
      "metadata": {
        "id": "cfcUAtlWCGcl"
      },
      "source": [
        "# Random search for parameters, using 3 fold cross validation\n",
        "# Search across 100 different combinations\n",
        "\n",
        "xg_random = RandomizedSearchCV(estimator=regressor, param_distributions = random_grid, scoring='neg_mean_squared_error', n_iter=100, cv=5, verbose=2, random_state=42, n_jobs=1)"
      ],
      "execution_count": 34,
      "outputs": []
    },
    {
      "cell_type": "code",
      "metadata": {
        "id": "Y0BgMcmqDH1z",
        "outputId": "ae06ce17-ab4d-41cd-ffb7-b8e819310b18",
        "colab": {
          "base_uri": "https://localhost:8080/"
        }
      },
      "source": [
        "xg_random.fit(x_train, y_train)"
      ],
      "execution_count": 36,
      "outputs": [
        {
          "output_type": "stream",
          "text": [
            "Fitting 5 folds for each of 100 candidates, totalling 500 fits\n",
            "[CV] subsample=0.6, n_estimators=1100, min_child_weight=6, max_depth=10, learning_rate=0.3 \n",
            "[01:01:46] WARNING: /workspace/src/objective/regression_obj.cu:152: reg:linear is now deprecated in favor of reg:squarederror.\n"
          ],
          "name": "stdout"
        },
        {
          "output_type": "stream",
          "text": [
            "[Parallel(n_jobs=1)]: Using backend SequentialBackend with 1 concurrent workers.\n"
          ],
          "name": "stderr"
        },
        {
          "output_type": "stream",
          "text": [
            "[CV]  subsample=0.6, n_estimators=1100, min_child_weight=6, max_depth=10, learning_rate=0.3, total=   1.0s\n",
            "[CV] subsample=0.6, n_estimators=1100, min_child_weight=6, max_depth=10, learning_rate=0.3 \n",
            "[01:01:47] WARNING: /workspace/src/objective/regression_obj.cu:152: reg:linear is now deprecated in favor of reg:squarederror.\n"
          ],
          "name": "stdout"
        },
        {
          "output_type": "stream",
          "text": [
            "[Parallel(n_jobs=1)]: Done   1 out of   1 | elapsed:    1.0s remaining:    0.0s\n"
          ],
          "name": "stderr"
        },
        {
          "output_type": "stream",
          "text": [
            "[CV]  subsample=0.6, n_estimators=1100, min_child_weight=6, max_depth=10, learning_rate=0.3, total=   1.1s\n",
            "[CV] subsample=0.6, n_estimators=1100, min_child_weight=6, max_depth=10, learning_rate=0.3 \n",
            "[01:01:48] WARNING: /workspace/src/objective/regression_obj.cu:152: reg:linear is now deprecated in favor of reg:squarederror.\n",
            "[CV]  subsample=0.6, n_estimators=1100, min_child_weight=6, max_depth=10, learning_rate=0.3, total=   1.2s\n",
            "[CV] subsample=0.6, n_estimators=1100, min_child_weight=6, max_depth=10, learning_rate=0.3 \n",
            "[01:01:50] WARNING: /workspace/src/objective/regression_obj.cu:152: reg:linear is now deprecated in favor of reg:squarederror.\n",
            "[CV]  subsample=0.6, n_estimators=1100, min_child_weight=6, max_depth=10, learning_rate=0.3, total=   1.3s\n",
            "[CV] subsample=0.6, n_estimators=1100, min_child_weight=6, max_depth=10, learning_rate=0.3 \n",
            "[01:01:51] WARNING: /workspace/src/objective/regression_obj.cu:152: reg:linear is now deprecated in favor of reg:squarederror.\n",
            "[CV]  subsample=0.6, n_estimators=1100, min_child_weight=6, max_depth=10, learning_rate=0.3, total=   1.2s\n",
            "[CV] subsample=0.6, n_estimators=600, min_child_weight=6, max_depth=20, learning_rate=0.3 \n",
            "[01:01:52] WARNING: /workspace/src/objective/regression_obj.cu:152: reg:linear is now deprecated in favor of reg:squarederror.\n",
            "[CV]  subsample=0.6, n_estimators=600, min_child_weight=6, max_depth=20, learning_rate=0.3, total=   1.0s\n",
            "[CV] subsample=0.6, n_estimators=600, min_child_weight=6, max_depth=20, learning_rate=0.3 \n",
            "[01:01:53] WARNING: /workspace/src/objective/regression_obj.cu:152: reg:linear is now deprecated in favor of reg:squarederror.\n",
            "[CV]  subsample=0.6, n_estimators=600, min_child_weight=6, max_depth=20, learning_rate=0.3, total=   1.0s\n",
            "[CV] subsample=0.6, n_estimators=600, min_child_weight=6, max_depth=20, learning_rate=0.3 \n",
            "[01:01:54] WARNING: /workspace/src/objective/regression_obj.cu:152: reg:linear is now deprecated in favor of reg:squarederror.\n",
            "[CV]  subsample=0.6, n_estimators=600, min_child_weight=6, max_depth=20, learning_rate=0.3, total=   1.1s\n",
            "[CV] subsample=0.6, n_estimators=600, min_child_weight=6, max_depth=20, learning_rate=0.3 \n",
            "[01:01:55] WARNING: /workspace/src/objective/regression_obj.cu:152: reg:linear is now deprecated in favor of reg:squarederror.\n",
            "[CV]  subsample=0.6, n_estimators=600, min_child_weight=6, max_depth=20, learning_rate=0.3, total=   1.0s\n",
            "[CV] subsample=0.6, n_estimators=600, min_child_weight=6, max_depth=20, learning_rate=0.3 \n",
            "[01:01:56] WARNING: /workspace/src/objective/regression_obj.cu:152: reg:linear is now deprecated in favor of reg:squarederror.\n",
            "[CV]  subsample=0.6, n_estimators=600, min_child_weight=6, max_depth=20, learning_rate=0.3, total=   1.1s\n",
            "[CV] subsample=0.7, n_estimators=300, min_child_weight=7, max_depth=30, learning_rate=0.1 \n",
            "[01:01:57] WARNING: /workspace/src/objective/regression_obj.cu:152: reg:linear is now deprecated in favor of reg:squarederror.\n",
            "[CV]  subsample=0.7, n_estimators=300, min_child_weight=7, max_depth=30, learning_rate=0.1, total=   0.5s\n",
            "[CV] subsample=0.7, n_estimators=300, min_child_weight=7, max_depth=30, learning_rate=0.1 \n",
            "[01:01:58] WARNING: /workspace/src/objective/regression_obj.cu:152: reg:linear is now deprecated in favor of reg:squarederror.\n",
            "[CV]  subsample=0.7, n_estimators=300, min_child_weight=7, max_depth=30, learning_rate=0.1, total=   0.5s\n",
            "[CV] subsample=0.7, n_estimators=300, min_child_weight=7, max_depth=30, learning_rate=0.1 \n",
            "[01:01:58] WARNING: /workspace/src/objective/regression_obj.cu:152: reg:linear is now deprecated in favor of reg:squarederror.\n",
            "[CV]  subsample=0.7, n_estimators=300, min_child_weight=7, max_depth=30, learning_rate=0.1, total=   0.5s\n",
            "[CV] subsample=0.7, n_estimators=300, min_child_weight=7, max_depth=30, learning_rate=0.1 \n",
            "[01:01:59] WARNING: /workspace/src/objective/regression_obj.cu:152: reg:linear is now deprecated in favor of reg:squarederror.\n",
            "[CV]  subsample=0.7, n_estimators=300, min_child_weight=7, max_depth=30, learning_rate=0.1, total=   0.5s\n",
            "[CV] subsample=0.7, n_estimators=300, min_child_weight=7, max_depth=30, learning_rate=0.1 \n",
            "[01:01:59] WARNING: /workspace/src/objective/regression_obj.cu:152: reg:linear is now deprecated in favor of reg:squarederror.\n",
            "[CV]  subsample=0.7, n_estimators=300, min_child_weight=7, max_depth=30, learning_rate=0.1, total=   0.5s\n",
            "[CV] subsample=0.6, n_estimators=1000, min_child_weight=7, max_depth=10, learning_rate=0.05 \n",
            "[01:02:00] WARNING: /workspace/src/objective/regression_obj.cu:152: reg:linear is now deprecated in favor of reg:squarederror.\n",
            "[CV]  subsample=0.6, n_estimators=1000, min_child_weight=7, max_depth=10, learning_rate=0.05, total=   1.2s\n",
            "[CV] subsample=0.6, n_estimators=1000, min_child_weight=7, max_depth=10, learning_rate=0.05 \n",
            "[01:02:01] WARNING: /workspace/src/objective/regression_obj.cu:152: reg:linear is now deprecated in favor of reg:squarederror.\n",
            "[CV]  subsample=0.6, n_estimators=1000, min_child_weight=7, max_depth=10, learning_rate=0.05, total=   1.2s\n",
            "[CV] subsample=0.6, n_estimators=1000, min_child_weight=7, max_depth=10, learning_rate=0.05 \n",
            "[01:02:02] WARNING: /workspace/src/objective/regression_obj.cu:152: reg:linear is now deprecated in favor of reg:squarederror.\n",
            "[CV]  subsample=0.6, n_estimators=1000, min_child_weight=7, max_depth=10, learning_rate=0.05, total=   1.2s\n",
            "[CV] subsample=0.6, n_estimators=1000, min_child_weight=7, max_depth=10, learning_rate=0.05 \n",
            "[01:02:03] WARNING: /workspace/src/objective/regression_obj.cu:152: reg:linear is now deprecated in favor of reg:squarederror.\n",
            "[CV]  subsample=0.6, n_estimators=1000, min_child_weight=7, max_depth=10, learning_rate=0.05, total=   1.2s\n",
            "[CV] subsample=0.6, n_estimators=1000, min_child_weight=7, max_depth=10, learning_rate=0.05 \n",
            "[01:02:05] WARNING: /workspace/src/objective/regression_obj.cu:152: reg:linear is now deprecated in favor of reg:squarederror.\n",
            "[CV]  subsample=0.6, n_estimators=1000, min_child_weight=7, max_depth=10, learning_rate=0.05, total=   1.2s\n",
            "[CV] subsample=0.8, n_estimators=100, min_child_weight=3, max_depth=10, learning_rate=0.3 \n",
            "[01:02:06] WARNING: /workspace/src/objective/regression_obj.cu:152: reg:linear is now deprecated in favor of reg:squarederror.\n",
            "[CV]  subsample=0.8, n_estimators=100, min_child_weight=3, max_depth=10, learning_rate=0.3, total=   0.1s\n",
            "[CV] subsample=0.8, n_estimators=100, min_child_weight=3, max_depth=10, learning_rate=0.3 \n",
            "[01:02:06] WARNING: /workspace/src/objective/regression_obj.cu:152: reg:linear is now deprecated in favor of reg:squarederror.\n",
            "[CV]  subsample=0.8, n_estimators=100, min_child_weight=3, max_depth=10, learning_rate=0.3, total=   0.2s\n",
            "[CV] subsample=0.8, n_estimators=100, min_child_weight=3, max_depth=10, learning_rate=0.3 \n",
            "[01:02:06] WARNING: /workspace/src/objective/regression_obj.cu:152: reg:linear is now deprecated in favor of reg:squarederror.\n",
            "[CV]  subsample=0.8, n_estimators=100, min_child_weight=3, max_depth=10, learning_rate=0.3, total=   0.2s\n",
            "[CV] subsample=0.8, n_estimators=100, min_child_weight=3, max_depth=10, learning_rate=0.3 \n",
            "[01:02:06] WARNING: /workspace/src/objective/regression_obj.cu:152: reg:linear is now deprecated in favor of reg:squarederror.\n",
            "[CV]  subsample=0.8, n_estimators=100, min_child_weight=3, max_depth=10, learning_rate=0.3, total=   0.2s\n",
            "[CV] subsample=0.8, n_estimators=100, min_child_weight=3, max_depth=10, learning_rate=0.3 \n",
            "[01:02:06] WARNING: /workspace/src/objective/regression_obj.cu:152: reg:linear is now deprecated in favor of reg:squarederror.\n",
            "[CV]  subsample=0.8, n_estimators=100, min_child_weight=3, max_depth=10, learning_rate=0.3, total=   0.2s\n",
            "[CV] subsample=0.7, n_estimators=500, min_child_weight=6, max_depth=5, learning_rate=0.3 \n",
            "[01:02:06] WARNING: /workspace/src/objective/regression_obj.cu:152: reg:linear is now deprecated in favor of reg:squarederror.\n",
            "[CV]  subsample=0.7, n_estimators=500, min_child_weight=6, max_depth=5, learning_rate=0.3, total=   0.4s\n",
            "[CV] subsample=0.7, n_estimators=500, min_child_weight=6, max_depth=5, learning_rate=0.3 \n",
            "[01:02:07] WARNING: /workspace/src/objective/regression_obj.cu:152: reg:linear is now deprecated in favor of reg:squarederror.\n",
            "[CV]  subsample=0.7, n_estimators=500, min_child_weight=6, max_depth=5, learning_rate=0.3, total=   0.4s\n",
            "[CV] subsample=0.7, n_estimators=500, min_child_weight=6, max_depth=5, learning_rate=0.3 \n",
            "[01:02:07] WARNING: /workspace/src/objective/regression_obj.cu:152: reg:linear is now deprecated in favor of reg:squarederror.\n",
            "[CV]  subsample=0.7, n_estimators=500, min_child_weight=6, max_depth=5, learning_rate=0.3, total=   0.3s\n",
            "[CV] subsample=0.7, n_estimators=500, min_child_weight=6, max_depth=5, learning_rate=0.3 \n",
            "[01:02:08] WARNING: /workspace/src/objective/regression_obj.cu:152: reg:linear is now deprecated in favor of reg:squarederror.\n",
            "[CV]  subsample=0.7, n_estimators=500, min_child_weight=6, max_depth=5, learning_rate=0.3, total=   0.3s\n",
            "[CV] subsample=0.7, n_estimators=500, min_child_weight=6, max_depth=5, learning_rate=0.3 \n",
            "[01:02:08] WARNING: /workspace/src/objective/regression_obj.cu:152: reg:linear is now deprecated in favor of reg:squarederror.\n",
            "[CV]  subsample=0.7, n_estimators=500, min_child_weight=6, max_depth=5, learning_rate=0.3, total=   0.4s\n",
            "[CV] subsample=0.7, n_estimators=100, min_child_weight=7, max_depth=25, learning_rate=0.2 \n",
            "[01:02:08] WARNING: /workspace/src/objective/regression_obj.cu:152: reg:linear is now deprecated in favor of reg:squarederror.\n",
            "[CV]  subsample=0.7, n_estimators=100, min_child_weight=7, max_depth=25, learning_rate=0.2, total=   0.2s\n",
            "[CV] subsample=0.7, n_estimators=100, min_child_weight=7, max_depth=25, learning_rate=0.2 \n",
            "[01:02:08] WARNING: /workspace/src/objective/regression_obj.cu:152: reg:linear is now deprecated in favor of reg:squarederror.\n",
            "[CV]  subsample=0.7, n_estimators=100, min_child_weight=7, max_depth=25, learning_rate=0.2, total=   0.2s\n",
            "[CV] subsample=0.7, n_estimators=100, min_child_weight=7, max_depth=25, learning_rate=0.2 \n",
            "[01:02:09] WARNING: /workspace/src/objective/regression_obj.cu:152: reg:linear is now deprecated in favor of reg:squarederror.\n",
            "[CV]  subsample=0.7, n_estimators=100, min_child_weight=7, max_depth=25, learning_rate=0.2, total=   0.2s\n",
            "[CV] subsample=0.7, n_estimators=100, min_child_weight=7, max_depth=25, learning_rate=0.2 \n",
            "[01:02:09] WARNING: /workspace/src/objective/regression_obj.cu:152: reg:linear is now deprecated in favor of reg:squarederror.\n",
            "[CV]  subsample=0.7, n_estimators=100, min_child_weight=7, max_depth=25, learning_rate=0.2, total=   0.2s\n",
            "[CV] subsample=0.7, n_estimators=100, min_child_weight=7, max_depth=25, learning_rate=0.2 \n",
            "[01:02:09] WARNING: /workspace/src/objective/regression_obj.cu:152: reg:linear is now deprecated in favor of reg:squarederror.\n",
            "[CV]  subsample=0.7, n_estimators=100, min_child_weight=7, max_depth=25, learning_rate=0.2, total=   0.2s\n",
            "[CV] subsample=0.7, n_estimators=900, min_child_weight=5, max_depth=10, learning_rate=0.1 \n",
            "[01:02:09] WARNING: /workspace/src/objective/regression_obj.cu:152: reg:linear is now deprecated in favor of reg:squarederror.\n",
            "[CV]  subsample=0.7, n_estimators=900, min_child_weight=5, max_depth=10, learning_rate=0.1, total=   1.1s\n",
            "[CV] subsample=0.7, n_estimators=900, min_child_weight=5, max_depth=10, learning_rate=0.1 \n",
            "[01:02:10] WARNING: /workspace/src/objective/regression_obj.cu:152: reg:linear is now deprecated in favor of reg:squarederror.\n",
            "[CV]  subsample=0.7, n_estimators=900, min_child_weight=5, max_depth=10, learning_rate=0.1, total=   1.2s\n",
            "[CV] subsample=0.7, n_estimators=900, min_child_weight=5, max_depth=10, learning_rate=0.1 \n",
            "[01:02:11] WARNING: /workspace/src/objective/regression_obj.cu:152: reg:linear is now deprecated in favor of reg:squarederror.\n",
            "[CV]  subsample=0.7, n_estimators=900, min_child_weight=5, max_depth=10, learning_rate=0.1, total=   1.1s\n",
            "[CV] subsample=0.7, n_estimators=900, min_child_weight=5, max_depth=10, learning_rate=0.1 \n",
            "[01:02:13] WARNING: /workspace/src/objective/regression_obj.cu:152: reg:linear is now deprecated in favor of reg:squarederror.\n",
            "[CV]  subsample=0.7, n_estimators=900, min_child_weight=5, max_depth=10, learning_rate=0.1, total=   1.2s\n",
            "[CV] subsample=0.7, n_estimators=900, min_child_weight=5, max_depth=10, learning_rate=0.1 \n",
            "[01:02:14] WARNING: /workspace/src/objective/regression_obj.cu:152: reg:linear is now deprecated in favor of reg:squarederror.\n",
            "[CV]  subsample=0.7, n_estimators=900, min_child_weight=5, max_depth=10, learning_rate=0.1, total=   1.2s\n",
            "[CV] subsample=0.6, n_estimators=500, min_child_weight=6, max_depth=15, learning_rate=0.3 \n",
            "[01:02:15] WARNING: /workspace/src/objective/regression_obj.cu:152: reg:linear is now deprecated in favor of reg:squarederror.\n",
            "[CV]  subsample=0.6, n_estimators=500, min_child_weight=6, max_depth=15, learning_rate=0.3, total=   0.8s\n",
            "[CV] subsample=0.6, n_estimators=500, min_child_weight=6, max_depth=15, learning_rate=0.3 \n",
            "[01:02:16] WARNING: /workspace/src/objective/regression_obj.cu:152: reg:linear is now deprecated in favor of reg:squarederror.\n",
            "[CV]  subsample=0.6, n_estimators=500, min_child_weight=6, max_depth=15, learning_rate=0.3, total=   0.8s\n",
            "[CV] subsample=0.6, n_estimators=500, min_child_weight=6, max_depth=15, learning_rate=0.3 \n",
            "[01:02:17] WARNING: /workspace/src/objective/regression_obj.cu:152: reg:linear is now deprecated in favor of reg:squarederror.\n",
            "[CV]  subsample=0.6, n_estimators=500, min_child_weight=6, max_depth=15, learning_rate=0.3, total=   0.8s\n",
            "[CV] subsample=0.6, n_estimators=500, min_child_weight=6, max_depth=15, learning_rate=0.3 \n",
            "[01:02:17] WARNING: /workspace/src/objective/regression_obj.cu:152: reg:linear is now deprecated in favor of reg:squarederror.\n",
            "[CV]  subsample=0.6, n_estimators=500, min_child_weight=6, max_depth=15, learning_rate=0.3, total=   0.8s\n",
            "[CV] subsample=0.6, n_estimators=500, min_child_weight=6, max_depth=15, learning_rate=0.3 \n",
            "[01:02:18] WARNING: /workspace/src/objective/regression_obj.cu:152: reg:linear is now deprecated in favor of reg:squarederror.\n",
            "[CV]  subsample=0.6, n_estimators=500, min_child_weight=6, max_depth=15, learning_rate=0.3, total=   0.8s\n",
            "[CV] subsample=0.6, n_estimators=1000, min_child_weight=5, max_depth=5, learning_rate=0.2 \n",
            "[01:02:19] WARNING: /workspace/src/objective/regression_obj.cu:152: reg:linear is now deprecated in favor of reg:squarederror.\n",
            "[CV]  subsample=0.6, n_estimators=1000, min_child_weight=5, max_depth=5, learning_rate=0.2, total=   0.7s\n",
            "[CV] subsample=0.6, n_estimators=1000, min_child_weight=5, max_depth=5, learning_rate=0.2 \n",
            "[01:02:20] WARNING: /workspace/src/objective/regression_obj.cu:152: reg:linear is now deprecated in favor of reg:squarederror.\n",
            "[CV]  subsample=0.6, n_estimators=1000, min_child_weight=5, max_depth=5, learning_rate=0.2, total=   0.7s\n",
            "[CV] subsample=0.6, n_estimators=1000, min_child_weight=5, max_depth=5, learning_rate=0.2 \n",
            "[01:02:20] WARNING: /workspace/src/objective/regression_obj.cu:152: reg:linear is now deprecated in favor of reg:squarederror.\n",
            "[CV]  subsample=0.6, n_estimators=1000, min_child_weight=5, max_depth=5, learning_rate=0.2, total=   0.7s\n",
            "[CV] subsample=0.6, n_estimators=1000, min_child_weight=5, max_depth=5, learning_rate=0.2 \n",
            "[01:02:21] WARNING: /workspace/src/objective/regression_obj.cu:152: reg:linear is now deprecated in favor of reg:squarederror.\n",
            "[CV]  subsample=0.6, n_estimators=1000, min_child_weight=5, max_depth=5, learning_rate=0.2, total=   0.7s\n",
            "[CV] subsample=0.6, n_estimators=1000, min_child_weight=5, max_depth=5, learning_rate=0.2 \n",
            "[01:02:22] WARNING: /workspace/src/objective/regression_obj.cu:152: reg:linear is now deprecated in favor of reg:squarederror.\n",
            "[CV]  subsample=0.6, n_estimators=1000, min_child_weight=5, max_depth=5, learning_rate=0.2, total=   0.7s\n",
            "[CV] subsample=0.6, n_estimators=800, min_child_weight=5, max_depth=15, learning_rate=0.3 \n",
            "[01:02:22] WARNING: /workspace/src/objective/regression_obj.cu:152: reg:linear is now deprecated in favor of reg:squarederror.\n",
            "[CV]  subsample=0.6, n_estimators=800, min_child_weight=5, max_depth=15, learning_rate=0.3, total=   1.2s\n",
            "[CV] subsample=0.6, n_estimators=800, min_child_weight=5, max_depth=15, learning_rate=0.3 \n",
            "[01:02:24] WARNING: /workspace/src/objective/regression_obj.cu:152: reg:linear is now deprecated in favor of reg:squarederror.\n",
            "[CV]  subsample=0.6, n_estimators=800, min_child_weight=5, max_depth=15, learning_rate=0.3, total=   1.1s\n",
            "[CV] subsample=0.6, n_estimators=800, min_child_weight=5, max_depth=15, learning_rate=0.3 \n",
            "[01:02:25] WARNING: /workspace/src/objective/regression_obj.cu:152: reg:linear is now deprecated in favor of reg:squarederror.\n",
            "[CV]  subsample=0.6, n_estimators=800, min_child_weight=5, max_depth=15, learning_rate=0.3, total=   1.2s\n",
            "[CV] subsample=0.6, n_estimators=800, min_child_weight=5, max_depth=15, learning_rate=0.3 \n",
            "[01:02:26] WARNING: /workspace/src/objective/regression_obj.cu:152: reg:linear is now deprecated in favor of reg:squarederror.\n",
            "[CV]  subsample=0.6, n_estimators=800, min_child_weight=5, max_depth=15, learning_rate=0.3, total=   1.3s\n",
            "[CV] subsample=0.6, n_estimators=800, min_child_weight=5, max_depth=15, learning_rate=0.3 \n",
            "[01:02:27] WARNING: /workspace/src/objective/regression_obj.cu:152: reg:linear is now deprecated in favor of reg:squarederror.\n",
            "[CV]  subsample=0.6, n_estimators=800, min_child_weight=5, max_depth=15, learning_rate=0.3, total=   1.2s\n",
            "[CV] subsample=0.6, n_estimators=200, min_child_weight=7, max_depth=30, learning_rate=0.05 \n",
            "[01:02:28] WARNING: /workspace/src/objective/regression_obj.cu:152: reg:linear is now deprecated in favor of reg:squarederror.\n",
            "[CV]  subsample=0.6, n_estimators=200, min_child_weight=7, max_depth=30, learning_rate=0.05, total=   0.3s\n",
            "[CV] subsample=0.6, n_estimators=200, min_child_weight=7, max_depth=30, learning_rate=0.05 \n",
            "[01:02:29] WARNING: /workspace/src/objective/regression_obj.cu:152: reg:linear is now deprecated in favor of reg:squarederror.\n",
            "[CV]  subsample=0.6, n_estimators=200, min_child_weight=7, max_depth=30, learning_rate=0.05, total=   0.3s\n",
            "[CV] subsample=0.6, n_estimators=200, min_child_weight=7, max_depth=30, learning_rate=0.05 \n",
            "[01:02:29] WARNING: /workspace/src/objective/regression_obj.cu:152: reg:linear is now deprecated in favor of reg:squarederror.\n",
            "[CV]  subsample=0.6, n_estimators=200, min_child_weight=7, max_depth=30, learning_rate=0.05, total=   0.3s\n",
            "[CV] subsample=0.6, n_estimators=200, min_child_weight=7, max_depth=30, learning_rate=0.05 \n",
            "[01:02:29] WARNING: /workspace/src/objective/regression_obj.cu:152: reg:linear is now deprecated in favor of reg:squarederror.\n",
            "[CV]  subsample=0.6, n_estimators=200, min_child_weight=7, max_depth=30, learning_rate=0.05, total=   0.3s\n",
            "[CV] subsample=0.6, n_estimators=200, min_child_weight=7, max_depth=30, learning_rate=0.05 \n",
            "[01:02:30] WARNING: /workspace/src/objective/regression_obj.cu:152: reg:linear is now deprecated in favor of reg:squarederror.\n",
            "[CV]  subsample=0.6, n_estimators=200, min_child_weight=7, max_depth=30, learning_rate=0.05, total=   0.3s\n",
            "[CV] subsample=0.6, n_estimators=800, min_child_weight=3, max_depth=15, learning_rate=0.05 \n",
            "[01:02:30] WARNING: /workspace/src/objective/regression_obj.cu:152: reg:linear is now deprecated in favor of reg:squarederror.\n",
            "[CV]  subsample=0.6, n_estimators=800, min_child_weight=3, max_depth=15, learning_rate=0.05, total=   1.5s\n",
            "[CV] subsample=0.6, n_estimators=800, min_child_weight=3, max_depth=15, learning_rate=0.05 \n",
            "[01:02:31] WARNING: /workspace/src/objective/regression_obj.cu:152: reg:linear is now deprecated in favor of reg:squarederror.\n",
            "[CV]  subsample=0.6, n_estimators=800, min_child_weight=3, max_depth=15, learning_rate=0.05, total=   1.5s\n",
            "[CV] subsample=0.6, n_estimators=800, min_child_weight=3, max_depth=15, learning_rate=0.05 \n",
            "[01:02:33] WARNING: /workspace/src/objective/regression_obj.cu:152: reg:linear is now deprecated in favor of reg:squarederror.\n",
            "[CV]  subsample=0.6, n_estimators=800, min_child_weight=3, max_depth=15, learning_rate=0.05, total=   1.5s\n",
            "[CV] subsample=0.6, n_estimators=800, min_child_weight=3, max_depth=15, learning_rate=0.05 \n",
            "[01:02:34] WARNING: /workspace/src/objective/regression_obj.cu:152: reg:linear is now deprecated in favor of reg:squarederror.\n",
            "[CV]  subsample=0.6, n_estimators=800, min_child_weight=3, max_depth=15, learning_rate=0.05, total=   1.5s\n",
            "[CV] subsample=0.6, n_estimators=800, min_child_weight=3, max_depth=15, learning_rate=0.05 \n",
            "[01:02:36] WARNING: /workspace/src/objective/regression_obj.cu:152: reg:linear is now deprecated in favor of reg:squarederror.\n",
            "[CV]  subsample=0.6, n_estimators=800, min_child_weight=3, max_depth=15, learning_rate=0.05, total=   1.5s\n",
            "[CV] subsample=0.6, n_estimators=800, min_child_weight=4, max_depth=30, learning_rate=0.05 \n",
            "[01:02:37] WARNING: /workspace/src/objective/regression_obj.cu:152: reg:linear is now deprecated in favor of reg:squarederror.\n",
            "[CV]  subsample=0.6, n_estimators=800, min_child_weight=4, max_depth=30, learning_rate=0.05, total=   1.6s\n",
            "[CV] subsample=0.6, n_estimators=800, min_child_weight=4, max_depth=30, learning_rate=0.05 \n",
            "[01:02:39] WARNING: /workspace/src/objective/regression_obj.cu:152: reg:linear is now deprecated in favor of reg:squarederror.\n",
            "[CV]  subsample=0.6, n_estimators=800, min_child_weight=4, max_depth=30, learning_rate=0.05, total=   1.5s\n",
            "[CV] subsample=0.6, n_estimators=800, min_child_weight=4, max_depth=30, learning_rate=0.05 \n",
            "[01:02:41] WARNING: /workspace/src/objective/regression_obj.cu:152: reg:linear is now deprecated in favor of reg:squarederror.\n",
            "[CV]  subsample=0.6, n_estimators=800, min_child_weight=4, max_depth=30, learning_rate=0.05, total=   1.6s\n",
            "[CV] subsample=0.6, n_estimators=800, min_child_weight=4, max_depth=30, learning_rate=0.05 \n",
            "[01:02:42] WARNING: /workspace/src/objective/regression_obj.cu:152: reg:linear is now deprecated in favor of reg:squarederror.\n",
            "[CV]  subsample=0.6, n_estimators=800, min_child_weight=4, max_depth=30, learning_rate=0.05, total=   1.6s\n",
            "[CV] subsample=0.6, n_estimators=800, min_child_weight=4, max_depth=30, learning_rate=0.05 \n",
            "[01:02:44] WARNING: /workspace/src/objective/regression_obj.cu:152: reg:linear is now deprecated in favor of reg:squarederror.\n",
            "[CV]  subsample=0.6, n_estimators=800, min_child_weight=4, max_depth=30, learning_rate=0.05, total=   1.5s\n",
            "[CV] subsample=0.6, n_estimators=1100, min_child_weight=7, max_depth=30, learning_rate=0.5 \n",
            "[01:02:45] WARNING: /workspace/src/objective/regression_obj.cu:152: reg:linear is now deprecated in favor of reg:squarederror.\n",
            "[CV]  subsample=0.6, n_estimators=1100, min_child_weight=7, max_depth=30, learning_rate=0.5, total=   1.4s\n",
            "[CV] subsample=0.6, n_estimators=1100, min_child_weight=7, max_depth=30, learning_rate=0.5 \n",
            "[01:02:47] WARNING: /workspace/src/objective/regression_obj.cu:152: reg:linear is now deprecated in favor of reg:squarederror.\n",
            "[CV]  subsample=0.6, n_estimators=1100, min_child_weight=7, max_depth=30, learning_rate=0.5, total=   1.3s\n",
            "[CV] subsample=0.6, n_estimators=1100, min_child_weight=7, max_depth=30, learning_rate=0.5 \n",
            "[01:02:48] WARNING: /workspace/src/objective/regression_obj.cu:152: reg:linear is now deprecated in favor of reg:squarederror.\n",
            "[CV]  subsample=0.6, n_estimators=1100, min_child_weight=7, max_depth=30, learning_rate=0.5, total=   1.2s\n",
            "[CV] subsample=0.6, n_estimators=1100, min_child_weight=7, max_depth=30, learning_rate=0.5 \n",
            "[01:02:49] WARNING: /workspace/src/objective/regression_obj.cu:152: reg:linear is now deprecated in favor of reg:squarederror.\n",
            "[CV]  subsample=0.6, n_estimators=1100, min_child_weight=7, max_depth=30, learning_rate=0.5, total=   1.1s\n",
            "[CV] subsample=0.6, n_estimators=1100, min_child_weight=7, max_depth=30, learning_rate=0.5 \n",
            "[01:02:50] WARNING: /workspace/src/objective/regression_obj.cu:152: reg:linear is now deprecated in favor of reg:squarederror.\n",
            "[CV]  subsample=0.6, n_estimators=1100, min_child_weight=7, max_depth=30, learning_rate=0.5, total=   1.3s\n",
            "[CV] subsample=0.7, n_estimators=800, min_child_weight=5, max_depth=25, learning_rate=0.3 \n",
            "[01:02:52] WARNING: /workspace/src/objective/regression_obj.cu:152: reg:linear is now deprecated in favor of reg:squarederror.\n",
            "[CV]  subsample=0.7, n_estimators=800, min_child_weight=5, max_depth=25, learning_rate=0.3, total=   0.9s\n",
            "[CV] subsample=0.7, n_estimators=800, min_child_weight=5, max_depth=25, learning_rate=0.3 \n",
            "[01:02:53] WARNING: /workspace/src/objective/regression_obj.cu:152: reg:linear is now deprecated in favor of reg:squarederror.\n",
            "[CV]  subsample=0.7, n_estimators=800, min_child_weight=5, max_depth=25, learning_rate=0.3, total=   1.3s\n",
            "[CV] subsample=0.7, n_estimators=800, min_child_weight=5, max_depth=25, learning_rate=0.3 \n",
            "[01:02:54] WARNING: /workspace/src/objective/regression_obj.cu:152: reg:linear is now deprecated in favor of reg:squarederror.\n",
            "[CV]  subsample=0.7, n_estimators=800, min_child_weight=5, max_depth=25, learning_rate=0.3, total=   1.0s\n",
            "[CV] subsample=0.7, n_estimators=800, min_child_weight=5, max_depth=25, learning_rate=0.3 \n",
            "[01:02:55] WARNING: /workspace/src/objective/regression_obj.cu:152: reg:linear is now deprecated in favor of reg:squarederror.\n",
            "[CV]  subsample=0.7, n_estimators=800, min_child_weight=5, max_depth=25, learning_rate=0.3, total=   1.6s\n",
            "[CV] subsample=0.7, n_estimators=800, min_child_weight=5, max_depth=25, learning_rate=0.3 \n",
            "[01:02:57] WARNING: /workspace/src/objective/regression_obj.cu:152: reg:linear is now deprecated in favor of reg:squarederror.\n",
            "[CV]  subsample=0.7, n_estimators=800, min_child_weight=5, max_depth=25, learning_rate=0.3, total=   1.0s\n",
            "[CV] subsample=0.7, n_estimators=600, min_child_weight=7, max_depth=15, learning_rate=0.1 \n",
            "[01:02:57] WARNING: /workspace/src/objective/regression_obj.cu:152: reg:linear is now deprecated in favor of reg:squarederror.\n",
            "[CV]  subsample=0.7, n_estimators=600, min_child_weight=7, max_depth=15, learning_rate=0.1, total=   1.0s\n",
            "[CV] subsample=0.7, n_estimators=600, min_child_weight=7, max_depth=15, learning_rate=0.1 \n",
            "[01:02:58] WARNING: /workspace/src/objective/regression_obj.cu:152: reg:linear is now deprecated in favor of reg:squarederror.\n",
            "[CV]  subsample=0.7, n_estimators=600, min_child_weight=7, max_depth=15, learning_rate=0.1, total=   1.0s\n",
            "[CV] subsample=0.7, n_estimators=600, min_child_weight=7, max_depth=15, learning_rate=0.1 \n",
            "[01:02:59] WARNING: /workspace/src/objective/regression_obj.cu:152: reg:linear is now deprecated in favor of reg:squarederror.\n",
            "[CV]  subsample=0.7, n_estimators=600, min_child_weight=7, max_depth=15, learning_rate=0.1, total=   1.0s\n",
            "[CV] subsample=0.7, n_estimators=600, min_child_weight=7, max_depth=15, learning_rate=0.1 \n",
            "[01:03:00] WARNING: /workspace/src/objective/regression_obj.cu:152: reg:linear is now deprecated in favor of reg:squarederror.\n",
            "[CV]  subsample=0.7, n_estimators=600, min_child_weight=7, max_depth=15, learning_rate=0.1, total=   1.0s\n",
            "[CV] subsample=0.7, n_estimators=600, min_child_weight=7, max_depth=15, learning_rate=0.1 \n",
            "[01:03:01] WARNING: /workspace/src/objective/regression_obj.cu:152: reg:linear is now deprecated in favor of reg:squarederror.\n",
            "[CV]  subsample=0.7, n_estimators=600, min_child_weight=7, max_depth=15, learning_rate=0.1, total=   1.0s\n",
            "[CV] subsample=0.8, n_estimators=500, min_child_weight=4, max_depth=30, learning_rate=0.3 \n",
            "[01:03:02] WARNING: /workspace/src/objective/regression_obj.cu:152: reg:linear is now deprecated in favor of reg:squarederror.\n",
            "[CV]  subsample=0.8, n_estimators=500, min_child_weight=4, max_depth=30, learning_rate=0.3, total=   1.0s\n",
            "[CV] subsample=0.8, n_estimators=500, min_child_weight=4, max_depth=30, learning_rate=0.3 \n",
            "[01:03:03] WARNING: /workspace/src/objective/regression_obj.cu:152: reg:linear is now deprecated in favor of reg:squarederror.\n",
            "[CV]  subsample=0.8, n_estimators=500, min_child_weight=4, max_depth=30, learning_rate=0.3, total=   0.7s\n",
            "[CV] subsample=0.8, n_estimators=500, min_child_weight=4, max_depth=30, learning_rate=0.3 \n",
            "[01:03:04] WARNING: /workspace/src/objective/regression_obj.cu:152: reg:linear is now deprecated in favor of reg:squarederror.\n",
            "[CV]  subsample=0.8, n_estimators=500, min_child_weight=4, max_depth=30, learning_rate=0.3, total=   0.6s\n",
            "[CV] subsample=0.8, n_estimators=500, min_child_weight=4, max_depth=30, learning_rate=0.3 \n",
            "[01:03:05] WARNING: /workspace/src/objective/regression_obj.cu:152: reg:linear is now deprecated in favor of reg:squarederror.\n",
            "[CV]  subsample=0.8, n_estimators=500, min_child_weight=4, max_depth=30, learning_rate=0.3, total=   0.9s\n",
            "[CV] subsample=0.8, n_estimators=500, min_child_weight=4, max_depth=30, learning_rate=0.3 \n",
            "[01:03:06] WARNING: /workspace/src/objective/regression_obj.cu:152: reg:linear is now deprecated in favor of reg:squarederror.\n",
            "[CV]  subsample=0.8, n_estimators=500, min_child_weight=4, max_depth=30, learning_rate=0.3, total=   0.5s\n",
            "[CV] subsample=0.8, n_estimators=500, min_child_weight=3, max_depth=10, learning_rate=0.3 \n",
            "[01:03:06] WARNING: /workspace/src/objective/regression_obj.cu:152: reg:linear is now deprecated in favor of reg:squarederror.\n",
            "[CV]  subsample=0.8, n_estimators=500, min_child_weight=3, max_depth=10, learning_rate=0.3, total=   0.4s\n",
            "[CV] subsample=0.8, n_estimators=500, min_child_weight=3, max_depth=10, learning_rate=0.3 \n",
            "[01:03:06] WARNING: /workspace/src/objective/regression_obj.cu:152: reg:linear is now deprecated in favor of reg:squarederror.\n",
            "[CV]  subsample=0.8, n_estimators=500, min_child_weight=3, max_depth=10, learning_rate=0.3, total=   0.3s\n",
            "[CV] subsample=0.8, n_estimators=500, min_child_weight=3, max_depth=10, learning_rate=0.3 \n",
            "[01:03:07] WARNING: /workspace/src/objective/regression_obj.cu:152: reg:linear is now deprecated in favor of reg:squarederror.\n",
            "[CV]  subsample=0.8, n_estimators=500, min_child_weight=3, max_depth=10, learning_rate=0.3, total=   0.3s\n",
            "[CV] subsample=0.8, n_estimators=500, min_child_weight=3, max_depth=10, learning_rate=0.3 \n",
            "[01:03:07] WARNING: /workspace/src/objective/regression_obj.cu:152: reg:linear is now deprecated in favor of reg:squarederror.\n",
            "[CV]  subsample=0.8, n_estimators=500, min_child_weight=3, max_depth=10, learning_rate=0.3, total=   0.3s\n",
            "[CV] subsample=0.8, n_estimators=500, min_child_weight=3, max_depth=10, learning_rate=0.3 \n",
            "[01:03:07] WARNING: /workspace/src/objective/regression_obj.cu:152: reg:linear is now deprecated in favor of reg:squarederror.\n",
            "[CV]  subsample=0.8, n_estimators=500, min_child_weight=3, max_depth=10, learning_rate=0.3, total=   0.3s\n",
            "[CV] subsample=0.7, n_estimators=300, min_child_weight=6, max_depth=30, learning_rate=0.5 \n",
            "[01:03:08] WARNING: /workspace/src/objective/regression_obj.cu:152: reg:linear is now deprecated in favor of reg:squarederror.\n",
            "[CV]  subsample=0.7, n_estimators=300, min_child_weight=6, max_depth=30, learning_rate=0.5, total=   0.6s\n",
            "[CV] subsample=0.7, n_estimators=300, min_child_weight=6, max_depth=30, learning_rate=0.5 \n",
            "[01:03:08] WARNING: /workspace/src/objective/regression_obj.cu:152: reg:linear is now deprecated in favor of reg:squarederror.\n",
            "[CV]  subsample=0.7, n_estimators=300, min_child_weight=6, max_depth=30, learning_rate=0.5, total=   0.5s\n",
            "[CV] subsample=0.7, n_estimators=300, min_child_weight=6, max_depth=30, learning_rate=0.5 \n",
            "[01:03:09] WARNING: /workspace/src/objective/regression_obj.cu:152: reg:linear is now deprecated in favor of reg:squarederror.\n",
            "[CV]  subsample=0.7, n_estimators=300, min_child_weight=6, max_depth=30, learning_rate=0.5, total=   0.6s\n",
            "[CV] subsample=0.7, n_estimators=300, min_child_weight=6, max_depth=30, learning_rate=0.5 \n",
            "[01:03:10] WARNING: /workspace/src/objective/regression_obj.cu:152: reg:linear is now deprecated in favor of reg:squarederror.\n",
            "[CV]  subsample=0.7, n_estimators=300, min_child_weight=6, max_depth=30, learning_rate=0.5, total=   0.5s\n",
            "[CV] subsample=0.7, n_estimators=300, min_child_weight=6, max_depth=30, learning_rate=0.5 \n",
            "[01:03:10] WARNING: /workspace/src/objective/regression_obj.cu:152: reg:linear is now deprecated in favor of reg:squarederror.\n",
            "[CV]  subsample=0.7, n_estimators=300, min_child_weight=6, max_depth=30, learning_rate=0.5, total=   0.6s\n",
            "[CV] subsample=0.8, n_estimators=700, min_child_weight=7, max_depth=30, learning_rate=0.5 \n",
            "[01:03:11] WARNING: /workspace/src/objective/regression_obj.cu:152: reg:linear is now deprecated in favor of reg:squarederror.\n",
            "[CV]  subsample=0.8, n_estimators=700, min_child_weight=7, max_depth=30, learning_rate=0.5, total=   0.7s\n",
            "[CV] subsample=0.8, n_estimators=700, min_child_weight=7, max_depth=30, learning_rate=0.5 \n",
            "[01:03:11] WARNING: /workspace/src/objective/regression_obj.cu:152: reg:linear is now deprecated in favor of reg:squarederror.\n",
            "[CV]  subsample=0.8, n_estimators=700, min_child_weight=7, max_depth=30, learning_rate=0.5, total=   1.0s\n",
            "[CV] subsample=0.8, n_estimators=700, min_child_weight=7, max_depth=30, learning_rate=0.5 \n",
            "[01:03:12] WARNING: /workspace/src/objective/regression_obj.cu:152: reg:linear is now deprecated in favor of reg:squarederror.\n",
            "[CV]  subsample=0.8, n_estimators=700, min_child_weight=7, max_depth=30, learning_rate=0.5, total=   1.1s\n",
            "[CV] subsample=0.8, n_estimators=700, min_child_weight=7, max_depth=30, learning_rate=0.5 \n",
            "[01:03:13] WARNING: /workspace/src/objective/regression_obj.cu:152: reg:linear is now deprecated in favor of reg:squarederror.\n",
            "[CV]  subsample=0.8, n_estimators=700, min_child_weight=7, max_depth=30, learning_rate=0.5, total=   0.6s\n",
            "[CV] subsample=0.8, n_estimators=700, min_child_weight=7, max_depth=30, learning_rate=0.5 \n",
            "[01:03:14] WARNING: /workspace/src/objective/regression_obj.cu:152: reg:linear is now deprecated in favor of reg:squarederror.\n",
            "[CV]  subsample=0.8, n_estimators=700, min_child_weight=7, max_depth=30, learning_rate=0.5, total=   0.9s\n",
            "[CV] subsample=0.8, n_estimators=1100, min_child_weight=3, max_depth=20, learning_rate=0.6 \n",
            "[01:03:15] WARNING: /workspace/src/objective/regression_obj.cu:152: reg:linear is now deprecated in favor of reg:squarederror.\n",
            "[CV]  subsample=0.8, n_estimators=1100, min_child_weight=3, max_depth=20, learning_rate=0.6, total=   0.5s\n",
            "[CV] subsample=0.8, n_estimators=1100, min_child_weight=3, max_depth=20, learning_rate=0.6 \n",
            "[01:03:15] WARNING: /workspace/src/objective/regression_obj.cu:152: reg:linear is now deprecated in favor of reg:squarederror.\n",
            "[CV]  subsample=0.8, n_estimators=1100, min_child_weight=3, max_depth=20, learning_rate=0.6, total=   0.5s\n",
            "[CV] subsample=0.8, n_estimators=1100, min_child_weight=3, max_depth=20, learning_rate=0.6 \n",
            "[01:03:16] WARNING: /workspace/src/objective/regression_obj.cu:152: reg:linear is now deprecated in favor of reg:squarederror.\n",
            "[CV]  subsample=0.8, n_estimators=1100, min_child_weight=3, max_depth=20, learning_rate=0.6, total=   0.5s\n",
            "[CV] subsample=0.8, n_estimators=1100, min_child_weight=3, max_depth=20, learning_rate=0.6 \n",
            "[01:03:16] WARNING: /workspace/src/objective/regression_obj.cu:152: reg:linear is now deprecated in favor of reg:squarederror.\n",
            "[CV]  subsample=0.8, n_estimators=1100, min_child_weight=3, max_depth=20, learning_rate=0.6, total=   0.4s\n",
            "[CV] subsample=0.8, n_estimators=1100, min_child_weight=3, max_depth=20, learning_rate=0.6 \n",
            "[01:03:17] WARNING: /workspace/src/objective/regression_obj.cu:152: reg:linear is now deprecated in favor of reg:squarederror.\n",
            "[CV]  subsample=0.8, n_estimators=1100, min_child_weight=3, max_depth=20, learning_rate=0.6, total=   0.4s\n",
            "[CV] subsample=0.7, n_estimators=1200, min_child_weight=5, max_depth=10, learning_rate=0.2 \n",
            "[01:03:17] WARNING: /workspace/src/objective/regression_obj.cu:152: reg:linear is now deprecated in favor of reg:squarederror.\n",
            "[CV]  subsample=0.7, n_estimators=1200, min_child_weight=5, max_depth=10, learning_rate=0.2, total=   1.1s\n",
            "[CV] subsample=0.7, n_estimators=1200, min_child_weight=5, max_depth=10, learning_rate=0.2 \n",
            "[01:03:18] WARNING: /workspace/src/objective/regression_obj.cu:152: reg:linear is now deprecated in favor of reg:squarederror.\n",
            "[CV]  subsample=0.7, n_estimators=1200, min_child_weight=5, max_depth=10, learning_rate=0.2, total=   1.2s\n",
            "[CV] subsample=0.7, n_estimators=1200, min_child_weight=5, max_depth=10, learning_rate=0.2 \n",
            "[01:03:19] WARNING: /workspace/src/objective/regression_obj.cu:152: reg:linear is now deprecated in favor of reg:squarederror.\n",
            "[CV]  subsample=0.7, n_estimators=1200, min_child_weight=5, max_depth=10, learning_rate=0.2, total=   1.3s\n",
            "[CV] subsample=0.7, n_estimators=1200, min_child_weight=5, max_depth=10, learning_rate=0.2 \n",
            "[01:03:21] WARNING: /workspace/src/objective/regression_obj.cu:152: reg:linear is now deprecated in favor of reg:squarederror.\n",
            "[CV]  subsample=0.7, n_estimators=1200, min_child_weight=5, max_depth=10, learning_rate=0.2, total=   1.5s\n",
            "[CV] subsample=0.7, n_estimators=1200, min_child_weight=5, max_depth=10, learning_rate=0.2 \n",
            "[01:03:22] WARNING: /workspace/src/objective/regression_obj.cu:152: reg:linear is now deprecated in favor of reg:squarederror.\n",
            "[CV]  subsample=0.7, n_estimators=1200, min_child_weight=5, max_depth=10, learning_rate=0.2, total=   0.9s\n",
            "[CV] subsample=0.7, n_estimators=800, min_child_weight=3, max_depth=30, learning_rate=0.1 \n",
            "[01:03:23] WARNING: /workspace/src/objective/regression_obj.cu:152: reg:linear is now deprecated in favor of reg:squarederror.\n",
            "[CV]  subsample=0.7, n_estimators=800, min_child_weight=3, max_depth=30, learning_rate=0.1, total=   1.7s\n",
            "[CV] subsample=0.7, n_estimators=800, min_child_weight=3, max_depth=30, learning_rate=0.1 \n",
            "[01:03:25] WARNING: /workspace/src/objective/regression_obj.cu:152: reg:linear is now deprecated in favor of reg:squarederror.\n",
            "[CV]  subsample=0.7, n_estimators=800, min_child_weight=3, max_depth=30, learning_rate=0.1, total=   1.5s\n",
            "[CV] subsample=0.7, n_estimators=800, min_child_weight=3, max_depth=30, learning_rate=0.1 \n",
            "[01:03:26] WARNING: /workspace/src/objective/regression_obj.cu:152: reg:linear is now deprecated in favor of reg:squarederror.\n",
            "[CV]  subsample=0.7, n_estimators=800, min_child_weight=3, max_depth=30, learning_rate=0.1, total=   1.5s\n",
            "[CV] subsample=0.7, n_estimators=800, min_child_weight=3, max_depth=30, learning_rate=0.1 \n",
            "[01:03:28] WARNING: /workspace/src/objective/regression_obj.cu:152: reg:linear is now deprecated in favor of reg:squarederror.\n",
            "[CV]  subsample=0.7, n_estimators=800, min_child_weight=3, max_depth=30, learning_rate=0.1, total=   1.5s\n",
            "[CV] subsample=0.7, n_estimators=800, min_child_weight=3, max_depth=30, learning_rate=0.1 \n",
            "[01:03:29] WARNING: /workspace/src/objective/regression_obj.cu:152: reg:linear is now deprecated in favor of reg:squarederror.\n",
            "[CV]  subsample=0.7, n_estimators=800, min_child_weight=3, max_depth=30, learning_rate=0.1, total=   1.6s\n",
            "[CV] subsample=0.6, n_estimators=400, min_child_weight=4, max_depth=30, learning_rate=0.5 \n",
            "[01:03:31] WARNING: /workspace/src/objective/regression_obj.cu:152: reg:linear is now deprecated in favor of reg:squarederror.\n",
            "[CV]  subsample=0.6, n_estimators=400, min_child_weight=4, max_depth=30, learning_rate=0.5, total=   0.5s\n",
            "[CV] subsample=0.6, n_estimators=400, min_child_weight=4, max_depth=30, learning_rate=0.5 \n",
            "[01:03:31] WARNING: /workspace/src/objective/regression_obj.cu:152: reg:linear is now deprecated in favor of reg:squarederror.\n",
            "[CV]  subsample=0.6, n_estimators=400, min_child_weight=4, max_depth=30, learning_rate=0.5, total=   0.8s\n",
            "[CV] subsample=0.6, n_estimators=400, min_child_weight=4, max_depth=30, learning_rate=0.5 \n",
            "[01:03:32] WARNING: /workspace/src/objective/regression_obj.cu:152: reg:linear is now deprecated in favor of reg:squarederror.\n",
            "[CV]  subsample=0.6, n_estimators=400, min_child_weight=4, max_depth=30, learning_rate=0.5, total=   0.6s\n",
            "[CV] subsample=0.6, n_estimators=400, min_child_weight=4, max_depth=30, learning_rate=0.5 \n",
            "[01:03:33] WARNING: /workspace/src/objective/regression_obj.cu:152: reg:linear is now deprecated in favor of reg:squarederror.\n",
            "[CV]  subsample=0.6, n_estimators=400, min_child_weight=4, max_depth=30, learning_rate=0.5, total=   0.8s\n",
            "[CV] subsample=0.6, n_estimators=400, min_child_weight=4, max_depth=30, learning_rate=0.5 \n",
            "[01:03:34] WARNING: /workspace/src/objective/regression_obj.cu:152: reg:linear is now deprecated in favor of reg:squarederror.\n",
            "[CV]  subsample=0.6, n_estimators=400, min_child_weight=4, max_depth=30, learning_rate=0.5, total=   0.6s\n",
            "[CV] subsample=0.8, n_estimators=300, min_child_weight=4, max_depth=30, learning_rate=0.1 \n",
            "[01:03:34] WARNING: /workspace/src/objective/regression_obj.cu:152: reg:linear is now deprecated in favor of reg:squarederror.\n",
            "[CV]  subsample=0.8, n_estimators=300, min_child_weight=4, max_depth=30, learning_rate=0.1, total=   0.7s\n",
            "[CV] subsample=0.8, n_estimators=300, min_child_weight=4, max_depth=30, learning_rate=0.1 \n",
            "[01:03:35] WARNING: /workspace/src/objective/regression_obj.cu:152: reg:linear is now deprecated in favor of reg:squarederror.\n",
            "[CV]  subsample=0.8, n_estimators=300, min_child_weight=4, max_depth=30, learning_rate=0.1, total=   0.7s\n",
            "[CV] subsample=0.8, n_estimators=300, min_child_weight=4, max_depth=30, learning_rate=0.1 \n",
            "[01:03:36] WARNING: /workspace/src/objective/regression_obj.cu:152: reg:linear is now deprecated in favor of reg:squarederror.\n",
            "[CV]  subsample=0.8, n_estimators=300, min_child_weight=4, max_depth=30, learning_rate=0.1, total=   0.7s\n",
            "[CV] subsample=0.8, n_estimators=300, min_child_weight=4, max_depth=30, learning_rate=0.1 \n",
            "[01:03:36] WARNING: /workspace/src/objective/regression_obj.cu:152: reg:linear is now deprecated in favor of reg:squarederror.\n",
            "[CV]  subsample=0.8, n_estimators=300, min_child_weight=4, max_depth=30, learning_rate=0.1, total=   0.7s\n",
            "[CV] subsample=0.8, n_estimators=300, min_child_weight=4, max_depth=30, learning_rate=0.1 \n",
            "[01:03:37] WARNING: /workspace/src/objective/regression_obj.cu:152: reg:linear is now deprecated in favor of reg:squarederror.\n",
            "[CV]  subsample=0.8, n_estimators=300, min_child_weight=4, max_depth=30, learning_rate=0.1, total=   0.7s\n",
            "[CV] subsample=0.7, n_estimators=300, min_child_weight=7, max_depth=20, learning_rate=0.3 \n",
            "[01:03:38] WARNING: /workspace/src/objective/regression_obj.cu:152: reg:linear is now deprecated in favor of reg:squarederror.\n",
            "[CV]  subsample=0.7, n_estimators=300, min_child_weight=7, max_depth=20, learning_rate=0.3, total=   0.5s\n",
            "[CV] subsample=0.7, n_estimators=300, min_child_weight=7, max_depth=20, learning_rate=0.3 \n",
            "[01:03:38] WARNING: /workspace/src/objective/regression_obj.cu:152: reg:linear is now deprecated in favor of reg:squarederror.\n",
            "[CV]  subsample=0.7, n_estimators=300, min_child_weight=7, max_depth=20, learning_rate=0.3, total=   0.5s\n",
            "[CV] subsample=0.7, n_estimators=300, min_child_weight=7, max_depth=20, learning_rate=0.3 \n",
            "[01:03:39] WARNING: /workspace/src/objective/regression_obj.cu:152: reg:linear is now deprecated in favor of reg:squarederror.\n",
            "[CV]  subsample=0.7, n_estimators=300, min_child_weight=7, max_depth=20, learning_rate=0.3, total=   0.6s\n",
            "[CV] subsample=0.7, n_estimators=300, min_child_weight=7, max_depth=20, learning_rate=0.3 \n",
            "[01:03:39] WARNING: /workspace/src/objective/regression_obj.cu:152: reg:linear is now deprecated in favor of reg:squarederror.\n",
            "[CV]  subsample=0.7, n_estimators=300, min_child_weight=7, max_depth=20, learning_rate=0.3, total=   0.5s\n",
            "[CV] subsample=0.7, n_estimators=300, min_child_weight=7, max_depth=20, learning_rate=0.3 \n",
            "[01:03:40] WARNING: /workspace/src/objective/regression_obj.cu:152: reg:linear is now deprecated in favor of reg:squarederror.\n",
            "[CV]  subsample=0.7, n_estimators=300, min_child_weight=7, max_depth=20, learning_rate=0.3, total=   0.5s\n",
            "[CV] subsample=0.7, n_estimators=1200, min_child_weight=3, max_depth=30, learning_rate=0.3 \n",
            "[01:03:40] WARNING: /workspace/src/objective/regression_obj.cu:152: reg:linear is now deprecated in favor of reg:squarederror.\n",
            "[CV]  subsample=0.7, n_estimators=1200, min_child_weight=3, max_depth=30, learning_rate=0.3, total=   1.1s\n",
            "[CV] subsample=0.7, n_estimators=1200, min_child_weight=3, max_depth=30, learning_rate=0.3 \n",
            "[01:03:42] WARNING: /workspace/src/objective/regression_obj.cu:152: reg:linear is now deprecated in favor of reg:squarederror.\n",
            "[CV]  subsample=0.7, n_estimators=1200, min_child_weight=3, max_depth=30, learning_rate=0.3, total=   0.8s\n",
            "[CV] subsample=0.7, n_estimators=1200, min_child_weight=3, max_depth=30, learning_rate=0.3 \n",
            "[01:03:42] WARNING: /workspace/src/objective/regression_obj.cu:152: reg:linear is now deprecated in favor of reg:squarederror.\n",
            "[CV]  subsample=0.7, n_estimators=1200, min_child_weight=3, max_depth=30, learning_rate=0.3, total=   0.8s\n",
            "[CV] subsample=0.7, n_estimators=1200, min_child_weight=3, max_depth=30, learning_rate=0.3 \n",
            "[01:03:43] WARNING: /workspace/src/objective/regression_obj.cu:152: reg:linear is now deprecated in favor of reg:squarederror.\n",
            "[CV]  subsample=0.7, n_estimators=1200, min_child_weight=3, max_depth=30, learning_rate=0.3, total=   1.0s\n",
            "[CV] subsample=0.7, n_estimators=1200, min_child_weight=3, max_depth=30, learning_rate=0.3 \n",
            "[01:03:44] WARNING: /workspace/src/objective/regression_obj.cu:152: reg:linear is now deprecated in favor of reg:squarederror.\n",
            "[CV]  subsample=0.7, n_estimators=1200, min_child_weight=3, max_depth=30, learning_rate=0.3, total=   0.7s\n",
            "[CV] subsample=0.6, n_estimators=1200, min_child_weight=4, max_depth=5, learning_rate=0.1 \n",
            "[01:03:45] WARNING: /workspace/src/objective/regression_obj.cu:152: reg:linear is now deprecated in favor of reg:squarederror.\n",
            "[CV]  subsample=0.6, n_estimators=1200, min_child_weight=4, max_depth=5, learning_rate=0.1, total=   0.9s\n",
            "[CV] subsample=0.6, n_estimators=1200, min_child_weight=4, max_depth=5, learning_rate=0.1 \n",
            "[01:03:46] WARNING: /workspace/src/objective/regression_obj.cu:152: reg:linear is now deprecated in favor of reg:squarederror.\n",
            "[CV]  subsample=0.6, n_estimators=1200, min_child_weight=4, max_depth=5, learning_rate=0.1, total=   0.9s\n",
            "[CV] subsample=0.6, n_estimators=1200, min_child_weight=4, max_depth=5, learning_rate=0.1 \n",
            "[01:03:47] WARNING: /workspace/src/objective/regression_obj.cu:152: reg:linear is now deprecated in favor of reg:squarederror.\n",
            "[CV]  subsample=0.6, n_estimators=1200, min_child_weight=4, max_depth=5, learning_rate=0.1, total=   0.9s\n",
            "[CV] subsample=0.6, n_estimators=1200, min_child_weight=4, max_depth=5, learning_rate=0.1 \n",
            "[01:03:47] WARNING: /workspace/src/objective/regression_obj.cu:152: reg:linear is now deprecated in favor of reg:squarederror.\n",
            "[CV]  subsample=0.6, n_estimators=1200, min_child_weight=4, max_depth=5, learning_rate=0.1, total=   0.8s\n",
            "[CV] subsample=0.6, n_estimators=1200, min_child_weight=4, max_depth=5, learning_rate=0.1 \n",
            "[01:03:48] WARNING: /workspace/src/objective/regression_obj.cu:152: reg:linear is now deprecated in favor of reg:squarederror.\n",
            "[CV]  subsample=0.6, n_estimators=1200, min_child_weight=4, max_depth=5, learning_rate=0.1, total=   0.9s\n",
            "[CV] subsample=0.8, n_estimators=100, min_child_weight=6, max_depth=20, learning_rate=0.5 \n",
            "[01:03:49] WARNING: /workspace/src/objective/regression_obj.cu:152: reg:linear is now deprecated in favor of reg:squarederror.\n",
            "[CV]  subsample=0.8, n_estimators=100, min_child_weight=6, max_depth=20, learning_rate=0.5, total=   0.2s\n",
            "[CV] subsample=0.8, n_estimators=100, min_child_weight=6, max_depth=20, learning_rate=0.5 \n",
            "[01:03:49] WARNING: /workspace/src/objective/regression_obj.cu:152: reg:linear is now deprecated in favor of reg:squarederror.\n",
            "[CV]  subsample=0.8, n_estimators=100, min_child_weight=6, max_depth=20, learning_rate=0.5, total=   0.2s\n",
            "[CV] subsample=0.8, n_estimators=100, min_child_weight=6, max_depth=20, learning_rate=0.5 \n",
            "[01:03:50] WARNING: /workspace/src/objective/regression_obj.cu:152: reg:linear is now deprecated in favor of reg:squarederror.\n",
            "[CV]  subsample=0.8, n_estimators=100, min_child_weight=6, max_depth=20, learning_rate=0.5, total=   0.2s\n",
            "[CV] subsample=0.8, n_estimators=100, min_child_weight=6, max_depth=20, learning_rate=0.5 \n",
            "[01:03:50] WARNING: /workspace/src/objective/regression_obj.cu:152: reg:linear is now deprecated in favor of reg:squarederror.\n",
            "[CV]  subsample=0.8, n_estimators=100, min_child_weight=6, max_depth=20, learning_rate=0.5, total=   0.2s\n",
            "[CV] subsample=0.8, n_estimators=100, min_child_weight=6, max_depth=20, learning_rate=0.5 \n",
            "[01:03:50] WARNING: /workspace/src/objective/regression_obj.cu:152: reg:linear is now deprecated in favor of reg:squarederror.\n",
            "[CV]  subsample=0.8, n_estimators=100, min_child_weight=6, max_depth=20, learning_rate=0.5, total=   0.2s\n",
            "[CV] subsample=0.6, n_estimators=800, min_child_weight=7, max_depth=25, learning_rate=0.6 \n",
            "[01:03:50] WARNING: /workspace/src/objective/regression_obj.cu:152: reg:linear is now deprecated in favor of reg:squarederror.\n",
            "[CV]  subsample=0.6, n_estimators=800, min_child_weight=7, max_depth=25, learning_rate=0.6, total=   0.9s\n",
            "[CV] subsample=0.6, n_estimators=800, min_child_weight=7, max_depth=25, learning_rate=0.6 \n",
            "[01:03:51] WARNING: /workspace/src/objective/regression_obj.cu:152: reg:linear is now deprecated in favor of reg:squarederror.\n",
            "[CV]  subsample=0.6, n_estimators=800, min_child_weight=7, max_depth=25, learning_rate=0.6, total=   0.7s\n",
            "[CV] subsample=0.6, n_estimators=800, min_child_weight=7, max_depth=25, learning_rate=0.6 \n",
            "[01:03:52] WARNING: /workspace/src/objective/regression_obj.cu:152: reg:linear is now deprecated in favor of reg:squarederror.\n",
            "[CV]  subsample=0.6, n_estimators=800, min_child_weight=7, max_depth=25, learning_rate=0.6, total=   0.9s\n",
            "[CV] subsample=0.6, n_estimators=800, min_child_weight=7, max_depth=25, learning_rate=0.6 \n",
            "[01:03:53] WARNING: /workspace/src/objective/regression_obj.cu:152: reg:linear is now deprecated in favor of reg:squarederror.\n",
            "[CV]  subsample=0.6, n_estimators=800, min_child_weight=7, max_depth=25, learning_rate=0.6, total=   0.6s\n",
            "[CV] subsample=0.6, n_estimators=800, min_child_weight=7, max_depth=25, learning_rate=0.6 \n",
            "[01:03:53] WARNING: /workspace/src/objective/regression_obj.cu:152: reg:linear is now deprecated in favor of reg:squarederror.\n",
            "[CV]  subsample=0.6, n_estimators=800, min_child_weight=7, max_depth=25, learning_rate=0.6, total=   1.0s\n",
            "[CV] subsample=0.6, n_estimators=200, min_child_weight=5, max_depth=10, learning_rate=0.1 \n",
            "[01:03:54] WARNING: /workspace/src/objective/regression_obj.cu:152: reg:linear is now deprecated in favor of reg:squarederror.\n",
            "[CV]  subsample=0.6, n_estimators=200, min_child_weight=5, max_depth=10, learning_rate=0.1, total=   0.3s\n",
            "[CV] subsample=0.6, n_estimators=200, min_child_weight=5, max_depth=10, learning_rate=0.1 \n",
            "[01:03:55] WARNING: /workspace/src/objective/regression_obj.cu:152: reg:linear is now deprecated in favor of reg:squarederror.\n",
            "[CV]  subsample=0.6, n_estimators=200, min_child_weight=5, max_depth=10, learning_rate=0.1, total=   0.3s\n",
            "[CV] subsample=0.6, n_estimators=200, min_child_weight=5, max_depth=10, learning_rate=0.1 \n",
            "[01:03:55] WARNING: /workspace/src/objective/regression_obj.cu:152: reg:linear is now deprecated in favor of reg:squarederror.\n",
            "[CV]  subsample=0.6, n_estimators=200, min_child_weight=5, max_depth=10, learning_rate=0.1, total=   0.3s\n",
            "[CV] subsample=0.6, n_estimators=200, min_child_weight=5, max_depth=10, learning_rate=0.1 \n",
            "[01:03:55] WARNING: /workspace/src/objective/regression_obj.cu:152: reg:linear is now deprecated in favor of reg:squarederror.\n",
            "[CV]  subsample=0.6, n_estimators=200, min_child_weight=5, max_depth=10, learning_rate=0.1, total=   0.3s\n",
            "[CV] subsample=0.6, n_estimators=200, min_child_weight=5, max_depth=10, learning_rate=0.1 \n",
            "[01:03:55] WARNING: /workspace/src/objective/regression_obj.cu:152: reg:linear is now deprecated in favor of reg:squarederror.\n",
            "[CV]  subsample=0.6, n_estimators=200, min_child_weight=5, max_depth=10, learning_rate=0.1, total=   0.3s\n",
            "[CV] subsample=0.8, n_estimators=200, min_child_weight=7, max_depth=30, learning_rate=0.05 \n",
            "[01:03:56] WARNING: /workspace/src/objective/regression_obj.cu:152: reg:linear is now deprecated in favor of reg:squarederror.\n",
            "[CV]  subsample=0.8, n_estimators=200, min_child_weight=7, max_depth=30, learning_rate=0.05, total=   0.3s\n",
            "[CV] subsample=0.8, n_estimators=200, min_child_weight=7, max_depth=30, learning_rate=0.05 \n",
            "[01:03:56] WARNING: /workspace/src/objective/regression_obj.cu:152: reg:linear is now deprecated in favor of reg:squarederror.\n",
            "[CV]  subsample=0.8, n_estimators=200, min_child_weight=7, max_depth=30, learning_rate=0.05, total=   0.3s\n",
            "[CV] subsample=0.8, n_estimators=200, min_child_weight=7, max_depth=30, learning_rate=0.05 \n",
            "[01:03:56] WARNING: /workspace/src/objective/regression_obj.cu:152: reg:linear is now deprecated in favor of reg:squarederror.\n",
            "[CV]  subsample=0.8, n_estimators=200, min_child_weight=7, max_depth=30, learning_rate=0.05, total=   0.4s\n",
            "[CV] subsample=0.8, n_estimators=200, min_child_weight=7, max_depth=30, learning_rate=0.05 \n",
            "[01:03:57] WARNING: /workspace/src/objective/regression_obj.cu:152: reg:linear is now deprecated in favor of reg:squarederror.\n",
            "[CV]  subsample=0.8, n_estimators=200, min_child_weight=7, max_depth=30, learning_rate=0.05, total=   0.3s\n",
            "[CV] subsample=0.8, n_estimators=200, min_child_weight=7, max_depth=30, learning_rate=0.05 \n",
            "[01:03:57] WARNING: /workspace/src/objective/regression_obj.cu:152: reg:linear is now deprecated in favor of reg:squarederror.\n",
            "[CV]  subsample=0.8, n_estimators=200, min_child_weight=7, max_depth=30, learning_rate=0.05, total=   0.4s\n",
            "[CV] subsample=0.6, n_estimators=1200, min_child_weight=6, max_depth=5, learning_rate=0.1 \n",
            "[01:03:57] WARNING: /workspace/src/objective/regression_obj.cu:152: reg:linear is now deprecated in favor of reg:squarederror.\n",
            "[CV]  subsample=0.6, n_estimators=1200, min_child_weight=6, max_depth=5, learning_rate=0.1, total=   0.8s\n",
            "[CV] subsample=0.6, n_estimators=1200, min_child_weight=6, max_depth=5, learning_rate=0.1 \n",
            "[01:03:58] WARNING: /workspace/src/objective/regression_obj.cu:152: reg:linear is now deprecated in favor of reg:squarederror.\n",
            "[CV]  subsample=0.6, n_estimators=1200, min_child_weight=6, max_depth=5, learning_rate=0.1, total=   0.8s\n",
            "[CV] subsample=0.6, n_estimators=1200, min_child_weight=6, max_depth=5, learning_rate=0.1 \n",
            "[01:03:59] WARNING: /workspace/src/objective/regression_obj.cu:152: reg:linear is now deprecated in favor of reg:squarederror.\n",
            "[CV]  subsample=0.6, n_estimators=1200, min_child_weight=6, max_depth=5, learning_rate=0.1, total=   0.8s\n",
            "[CV] subsample=0.6, n_estimators=1200, min_child_weight=6, max_depth=5, learning_rate=0.1 \n",
            "[01:04:00] WARNING: /workspace/src/objective/regression_obj.cu:152: reg:linear is now deprecated in favor of reg:squarederror.\n",
            "[CV]  subsample=0.6, n_estimators=1200, min_child_weight=6, max_depth=5, learning_rate=0.1, total=   0.8s\n",
            "[CV] subsample=0.6, n_estimators=1200, min_child_weight=6, max_depth=5, learning_rate=0.1 \n",
            "[01:04:01] WARNING: /workspace/src/objective/regression_obj.cu:152: reg:linear is now deprecated in favor of reg:squarederror.\n",
            "[CV]  subsample=0.6, n_estimators=1200, min_child_weight=6, max_depth=5, learning_rate=0.1, total=   0.8s\n",
            "[CV] subsample=0.7, n_estimators=100, min_child_weight=6, max_depth=15, learning_rate=0.05 \n",
            "[01:04:02] WARNING: /workspace/src/objective/regression_obj.cu:152: reg:linear is now deprecated in favor of reg:squarederror.\n",
            "[CV]  subsample=0.7, n_estimators=100, min_child_weight=6, max_depth=15, learning_rate=0.05, total=   0.2s\n",
            "[CV] subsample=0.7, n_estimators=100, min_child_weight=6, max_depth=15, learning_rate=0.05 \n",
            "[01:04:02] WARNING: /workspace/src/objective/regression_obj.cu:152: reg:linear is now deprecated in favor of reg:squarederror.\n",
            "[CV]  subsample=0.7, n_estimators=100, min_child_weight=6, max_depth=15, learning_rate=0.05, total=   0.2s\n",
            "[CV] subsample=0.7, n_estimators=100, min_child_weight=6, max_depth=15, learning_rate=0.05 \n",
            "[01:04:02] WARNING: /workspace/src/objective/regression_obj.cu:152: reg:linear is now deprecated in favor of reg:squarederror.\n",
            "[CV]  subsample=0.7, n_estimators=100, min_child_weight=6, max_depth=15, learning_rate=0.05, total=   0.2s\n",
            "[CV] subsample=0.7, n_estimators=100, min_child_weight=6, max_depth=15, learning_rate=0.05 \n",
            "[01:04:02] WARNING: /workspace/src/objective/regression_obj.cu:152: reg:linear is now deprecated in favor of reg:squarederror.\n",
            "[CV]  subsample=0.7, n_estimators=100, min_child_weight=6, max_depth=15, learning_rate=0.05, total=   0.2s\n",
            "[CV] subsample=0.7, n_estimators=100, min_child_weight=6, max_depth=15, learning_rate=0.05 \n",
            "[01:04:02] WARNING: /workspace/src/objective/regression_obj.cu:152: reg:linear is now deprecated in favor of reg:squarederror.\n",
            "[CV]  subsample=0.7, n_estimators=100, min_child_weight=6, max_depth=15, learning_rate=0.05, total=   0.2s\n",
            "[CV] subsample=0.7, n_estimators=1000, min_child_weight=7, max_depth=15, learning_rate=0.1 \n",
            "[01:04:02] WARNING: /workspace/src/objective/regression_obj.cu:152: reg:linear is now deprecated in favor of reg:squarederror.\n",
            "[CV]  subsample=0.7, n_estimators=1000, min_child_weight=7, max_depth=15, learning_rate=0.1, total=   1.6s\n",
            "[CV] subsample=0.7, n_estimators=1000, min_child_weight=7, max_depth=15, learning_rate=0.1 \n",
            "[01:04:04] WARNING: /workspace/src/objective/regression_obj.cu:152: reg:linear is now deprecated in favor of reg:squarederror.\n",
            "[CV]  subsample=0.7, n_estimators=1000, min_child_weight=7, max_depth=15, learning_rate=0.1, total=   1.6s\n",
            "[CV] subsample=0.7, n_estimators=1000, min_child_weight=7, max_depth=15, learning_rate=0.1 \n",
            "[01:04:06] WARNING: /workspace/src/objective/regression_obj.cu:152: reg:linear is now deprecated in favor of reg:squarederror.\n",
            "[CV]  subsample=0.7, n_estimators=1000, min_child_weight=7, max_depth=15, learning_rate=0.1, total=   1.6s\n",
            "[CV] subsample=0.7, n_estimators=1000, min_child_weight=7, max_depth=15, learning_rate=0.1 \n",
            "[01:04:07] WARNING: /workspace/src/objective/regression_obj.cu:152: reg:linear is now deprecated in favor of reg:squarederror.\n",
            "[CV]  subsample=0.7, n_estimators=1000, min_child_weight=7, max_depth=15, learning_rate=0.1, total=   1.6s\n",
            "[CV] subsample=0.7, n_estimators=1000, min_child_weight=7, max_depth=15, learning_rate=0.1 \n",
            "[01:04:09] WARNING: /workspace/src/objective/regression_obj.cu:152: reg:linear is now deprecated in favor of reg:squarederror.\n",
            "[CV]  subsample=0.7, n_estimators=1000, min_child_weight=7, max_depth=15, learning_rate=0.1, total=   1.6s\n",
            "[CV] subsample=0.6, n_estimators=400, min_child_weight=7, max_depth=5, learning_rate=0.6 \n",
            "[01:04:10] WARNING: /workspace/src/objective/regression_obj.cu:152: reg:linear is now deprecated in favor of reg:squarederror.\n",
            "[CV]  subsample=0.6, n_estimators=400, min_child_weight=7, max_depth=5, learning_rate=0.6, total=   0.3s\n",
            "[CV] subsample=0.6, n_estimators=400, min_child_weight=7, max_depth=5, learning_rate=0.6 \n",
            "[01:04:11] WARNING: /workspace/src/objective/regression_obj.cu:152: reg:linear is now deprecated in favor of reg:squarederror.\n",
            "[CV]  subsample=0.6, n_estimators=400, min_child_weight=7, max_depth=5, learning_rate=0.6, total=   0.3s\n",
            "[CV] subsample=0.6, n_estimators=400, min_child_weight=7, max_depth=5, learning_rate=0.6 \n",
            "[01:04:11] WARNING: /workspace/src/objective/regression_obj.cu:152: reg:linear is now deprecated in favor of reg:squarederror.\n",
            "[CV]  subsample=0.6, n_estimators=400, min_child_weight=7, max_depth=5, learning_rate=0.6, total=   0.3s\n",
            "[CV] subsample=0.6, n_estimators=400, min_child_weight=7, max_depth=5, learning_rate=0.6 \n",
            "[01:04:11] WARNING: /workspace/src/objective/regression_obj.cu:152: reg:linear is now deprecated in favor of reg:squarederror.\n",
            "[CV]  subsample=0.6, n_estimators=400, min_child_weight=7, max_depth=5, learning_rate=0.6, total=   0.3s\n",
            "[CV] subsample=0.6, n_estimators=400, min_child_weight=7, max_depth=5, learning_rate=0.6 \n",
            "[01:04:12] WARNING: /workspace/src/objective/regression_obj.cu:152: reg:linear is now deprecated in favor of reg:squarederror.\n",
            "[CV]  subsample=0.6, n_estimators=400, min_child_weight=7, max_depth=5, learning_rate=0.6, total=   0.3s\n",
            "[CV] subsample=0.8, n_estimators=900, min_child_weight=7, max_depth=15, learning_rate=0.3 \n",
            "[01:04:12] WARNING: /workspace/src/objective/regression_obj.cu:152: reg:linear is now deprecated in favor of reg:squarederror.\n",
            "[CV]  subsample=0.8, n_estimators=900, min_child_weight=7, max_depth=15, learning_rate=0.3, total=   1.2s\n",
            "[CV] subsample=0.8, n_estimators=900, min_child_weight=7, max_depth=15, learning_rate=0.3 \n",
            "[01:04:13] WARNING: /workspace/src/objective/regression_obj.cu:152: reg:linear is now deprecated in favor of reg:squarederror.\n",
            "[CV]  subsample=0.8, n_estimators=900, min_child_weight=7, max_depth=15, learning_rate=0.3, total=   1.3s\n",
            "[CV] subsample=0.8, n_estimators=900, min_child_weight=7, max_depth=15, learning_rate=0.3 \n",
            "[01:04:14] WARNING: /workspace/src/objective/regression_obj.cu:152: reg:linear is now deprecated in favor of reg:squarederror.\n",
            "[CV]  subsample=0.8, n_estimators=900, min_child_weight=7, max_depth=15, learning_rate=0.3, total=   1.4s\n",
            "[CV] subsample=0.8, n_estimators=900, min_child_weight=7, max_depth=15, learning_rate=0.3 \n",
            "[01:04:16] WARNING: /workspace/src/objective/regression_obj.cu:152: reg:linear is now deprecated in favor of reg:squarederror.\n",
            "[CV]  subsample=0.8, n_estimators=900, min_child_weight=7, max_depth=15, learning_rate=0.3, total=   1.5s\n",
            "[CV] subsample=0.8, n_estimators=900, min_child_weight=7, max_depth=15, learning_rate=0.3 \n",
            "[01:04:17] WARNING: /workspace/src/objective/regression_obj.cu:152: reg:linear is now deprecated in favor of reg:squarederror.\n",
            "[CV]  subsample=0.8, n_estimators=900, min_child_weight=7, max_depth=15, learning_rate=0.3, total=   1.2s\n",
            "[CV] subsample=0.7, n_estimators=300, min_child_weight=5, max_depth=5, learning_rate=0.3 \n",
            "[01:04:18] WARNING: /workspace/src/objective/regression_obj.cu:152: reg:linear is now deprecated in favor of reg:squarederror.\n",
            "[CV]  subsample=0.7, n_estimators=300, min_child_weight=5, max_depth=5, learning_rate=0.3, total=   0.2s\n",
            "[CV] subsample=0.7, n_estimators=300, min_child_weight=5, max_depth=5, learning_rate=0.3 \n",
            "[01:04:19] WARNING: /workspace/src/objective/regression_obj.cu:152: reg:linear is now deprecated in favor of reg:squarederror.\n",
            "[CV]  subsample=0.7, n_estimators=300, min_child_weight=5, max_depth=5, learning_rate=0.3, total=   0.2s\n",
            "[CV] subsample=0.7, n_estimators=300, min_child_weight=5, max_depth=5, learning_rate=0.3 \n",
            "[01:04:19] WARNING: /workspace/src/objective/regression_obj.cu:152: reg:linear is now deprecated in favor of reg:squarederror.\n",
            "[CV]  subsample=0.7, n_estimators=300, min_child_weight=5, max_depth=5, learning_rate=0.3, total=   0.2s\n",
            "[CV] subsample=0.7, n_estimators=300, min_child_weight=5, max_depth=5, learning_rate=0.3 \n",
            "[01:04:19] WARNING: /workspace/src/objective/regression_obj.cu:152: reg:linear is now deprecated in favor of reg:squarederror.\n",
            "[CV]  subsample=0.7, n_estimators=300, min_child_weight=5, max_depth=5, learning_rate=0.3, total=   0.2s\n",
            "[CV] subsample=0.7, n_estimators=300, min_child_weight=5, max_depth=5, learning_rate=0.3 \n",
            "[01:04:19] WARNING: /workspace/src/objective/regression_obj.cu:152: reg:linear is now deprecated in favor of reg:squarederror.\n",
            "[CV]  subsample=0.7, n_estimators=300, min_child_weight=5, max_depth=5, learning_rate=0.3, total=   0.2s\n",
            "[CV] subsample=0.6, n_estimators=900, min_child_weight=7, max_depth=10, learning_rate=0.6 \n",
            "[01:04:20] WARNING: /workspace/src/objective/regression_obj.cu:152: reg:linear is now deprecated in favor of reg:squarederror.\n",
            "[CV]  subsample=0.6, n_estimators=900, min_child_weight=7, max_depth=10, learning_rate=0.6, total=   0.7s\n",
            "[CV] subsample=0.6, n_estimators=900, min_child_weight=7, max_depth=10, learning_rate=0.6 \n",
            "[01:04:20] WARNING: /workspace/src/objective/regression_obj.cu:152: reg:linear is now deprecated in favor of reg:squarederror.\n",
            "[CV]  subsample=0.6, n_estimators=900, min_child_weight=7, max_depth=10, learning_rate=0.6, total=   0.6s\n",
            "[CV] subsample=0.6, n_estimators=900, min_child_weight=7, max_depth=10, learning_rate=0.6 \n",
            "[01:04:21] WARNING: /workspace/src/objective/regression_obj.cu:152: reg:linear is now deprecated in favor of reg:squarederror.\n",
            "[CV]  subsample=0.6, n_estimators=900, min_child_weight=7, max_depth=10, learning_rate=0.6, total=   0.6s\n",
            "[CV] subsample=0.6, n_estimators=900, min_child_weight=7, max_depth=10, learning_rate=0.6 \n",
            "[01:04:21] WARNING: /workspace/src/objective/regression_obj.cu:152: reg:linear is now deprecated in favor of reg:squarederror.\n",
            "[CV]  subsample=0.6, n_estimators=900, min_child_weight=7, max_depth=10, learning_rate=0.6, total=   0.6s\n",
            "[CV] subsample=0.6, n_estimators=900, min_child_weight=7, max_depth=10, learning_rate=0.6 \n",
            "[01:04:22] WARNING: /workspace/src/objective/regression_obj.cu:152: reg:linear is now deprecated in favor of reg:squarederror.\n",
            "[CV]  subsample=0.6, n_estimators=900, min_child_weight=7, max_depth=10, learning_rate=0.6, total=   0.8s\n",
            "[CV] subsample=0.8, n_estimators=500, min_child_weight=7, max_depth=20, learning_rate=0.3 \n",
            "[01:04:23] WARNING: /workspace/src/objective/regression_obj.cu:152: reg:linear is now deprecated in favor of reg:squarederror.\n",
            "[CV]  subsample=0.8, n_estimators=500, min_child_weight=7, max_depth=20, learning_rate=0.3, total=   0.9s\n",
            "[CV] subsample=0.8, n_estimators=500, min_child_weight=7, max_depth=20, learning_rate=0.3 \n",
            "[01:04:24] WARNING: /workspace/src/objective/regression_obj.cu:152: reg:linear is now deprecated in favor of reg:squarederror.\n",
            "[CV]  subsample=0.8, n_estimators=500, min_child_weight=7, max_depth=20, learning_rate=0.3, total=   0.9s\n",
            "[CV] subsample=0.8, n_estimators=500, min_child_weight=7, max_depth=20, learning_rate=0.3 \n",
            "[01:04:25] WARNING: /workspace/src/objective/regression_obj.cu:152: reg:linear is now deprecated in favor of reg:squarederror.\n",
            "[CV]  subsample=0.8, n_estimators=500, min_child_weight=7, max_depth=20, learning_rate=0.3, total=   1.0s\n",
            "[CV] subsample=0.8, n_estimators=500, min_child_weight=7, max_depth=20, learning_rate=0.3 \n",
            "[01:04:26] WARNING: /workspace/src/objective/regression_obj.cu:152: reg:linear is now deprecated in favor of reg:squarederror.\n",
            "[CV]  subsample=0.8, n_estimators=500, min_child_weight=7, max_depth=20, learning_rate=0.3, total=   1.0s\n",
            "[CV] subsample=0.8, n_estimators=500, min_child_weight=7, max_depth=20, learning_rate=0.3 \n",
            "[01:04:27] WARNING: /workspace/src/objective/regression_obj.cu:152: reg:linear is now deprecated in favor of reg:squarederror.\n",
            "[CV]  subsample=0.8, n_estimators=500, min_child_weight=7, max_depth=20, learning_rate=0.3, total=   0.9s\n",
            "[CV] subsample=0.8, n_estimators=1000, min_child_weight=7, max_depth=5, learning_rate=0.3 \n",
            "[01:04:28] WARNING: /workspace/src/objective/regression_obj.cu:152: reg:linear is now deprecated in favor of reg:squarederror.\n",
            "[CV]  subsample=0.8, n_estimators=1000, min_child_weight=7, max_depth=5, learning_rate=0.3, total=   0.6s\n",
            "[CV] subsample=0.8, n_estimators=1000, min_child_weight=7, max_depth=5, learning_rate=0.3 \n",
            "[01:04:28] WARNING: /workspace/src/objective/regression_obj.cu:152: reg:linear is now deprecated in favor of reg:squarederror.\n",
            "[CV]  subsample=0.8, n_estimators=1000, min_child_weight=7, max_depth=5, learning_rate=0.3, total=   0.6s\n",
            "[CV] subsample=0.8, n_estimators=1000, min_child_weight=7, max_depth=5, learning_rate=0.3 \n",
            "[01:04:29] WARNING: /workspace/src/objective/regression_obj.cu:152: reg:linear is now deprecated in favor of reg:squarederror.\n",
            "[CV]  subsample=0.8, n_estimators=1000, min_child_weight=7, max_depth=5, learning_rate=0.3, total=   0.6s\n",
            "[CV] subsample=0.8, n_estimators=1000, min_child_weight=7, max_depth=5, learning_rate=0.3 \n",
            "[01:04:29] WARNING: /workspace/src/objective/regression_obj.cu:152: reg:linear is now deprecated in favor of reg:squarederror.\n",
            "[CV]  subsample=0.8, n_estimators=1000, min_child_weight=7, max_depth=5, learning_rate=0.3, total=   0.7s\n",
            "[CV] subsample=0.8, n_estimators=1000, min_child_weight=7, max_depth=5, learning_rate=0.3 \n",
            "[01:04:30] WARNING: /workspace/src/objective/regression_obj.cu:152: reg:linear is now deprecated in favor of reg:squarederror.\n",
            "[CV]  subsample=0.8, n_estimators=1000, min_child_weight=7, max_depth=5, learning_rate=0.3, total=   0.7s\n",
            "[CV] subsample=0.7, n_estimators=1100, min_child_weight=3, max_depth=5, learning_rate=0.05 \n",
            "[01:04:31] WARNING: /workspace/src/objective/regression_obj.cu:152: reg:linear is now deprecated in favor of reg:squarederror.\n",
            "[CV]  subsample=0.7, n_estimators=1100, min_child_weight=3, max_depth=5, learning_rate=0.05, total=   0.8s\n",
            "[CV] subsample=0.7, n_estimators=1100, min_child_weight=3, max_depth=5, learning_rate=0.05 \n",
            "[01:04:32] WARNING: /workspace/src/objective/regression_obj.cu:152: reg:linear is now deprecated in favor of reg:squarederror.\n",
            "[CV]  subsample=0.7, n_estimators=1100, min_child_weight=3, max_depth=5, learning_rate=0.05, total=   0.8s\n",
            "[CV] subsample=0.7, n_estimators=1100, min_child_weight=3, max_depth=5, learning_rate=0.05 \n",
            "[01:04:32] WARNING: /workspace/src/objective/regression_obj.cu:152: reg:linear is now deprecated in favor of reg:squarederror.\n",
            "[CV]  subsample=0.7, n_estimators=1100, min_child_weight=3, max_depth=5, learning_rate=0.05, total=   0.8s\n",
            "[CV] subsample=0.7, n_estimators=1100, min_child_weight=3, max_depth=5, learning_rate=0.05 \n",
            "[01:04:33] WARNING: /workspace/src/objective/regression_obj.cu:152: reg:linear is now deprecated in favor of reg:squarederror.\n",
            "[CV]  subsample=0.7, n_estimators=1100, min_child_weight=3, max_depth=5, learning_rate=0.05, total=   0.8s\n",
            "[CV] subsample=0.7, n_estimators=1100, min_child_weight=3, max_depth=5, learning_rate=0.05 \n",
            "[01:04:34] WARNING: /workspace/src/objective/regression_obj.cu:152: reg:linear is now deprecated in favor of reg:squarederror.\n",
            "[CV]  subsample=0.7, n_estimators=1100, min_child_weight=3, max_depth=5, learning_rate=0.05, total=   0.8s\n",
            "[CV] subsample=0.8, n_estimators=1100, min_child_weight=3, max_depth=30, learning_rate=0.05 \n",
            "[01:04:35] WARNING: /workspace/src/objective/regression_obj.cu:152: reg:linear is now deprecated in favor of reg:squarederror.\n",
            "[CV]  subsample=0.8, n_estimators=1100, min_child_weight=3, max_depth=30, learning_rate=0.05, total=   2.5s\n",
            "[CV] subsample=0.8, n_estimators=1100, min_child_weight=3, max_depth=30, learning_rate=0.05 \n",
            "[01:04:37] WARNING: /workspace/src/objective/regression_obj.cu:152: reg:linear is now deprecated in favor of reg:squarederror.\n",
            "[CV]  subsample=0.8, n_estimators=1100, min_child_weight=3, max_depth=30, learning_rate=0.05, total=   2.4s\n",
            "[CV] subsample=0.8, n_estimators=1100, min_child_weight=3, max_depth=30, learning_rate=0.05 \n",
            "[01:04:40] WARNING: /workspace/src/objective/regression_obj.cu:152: reg:linear is now deprecated in favor of reg:squarederror.\n",
            "[CV]  subsample=0.8, n_estimators=1100, min_child_weight=3, max_depth=30, learning_rate=0.05, total=   2.6s\n",
            "[CV] subsample=0.8, n_estimators=1100, min_child_weight=3, max_depth=30, learning_rate=0.05 \n",
            "[01:04:42] WARNING: /workspace/src/objective/regression_obj.cu:152: reg:linear is now deprecated in favor of reg:squarederror.\n",
            "[CV]  subsample=0.8, n_estimators=1100, min_child_weight=3, max_depth=30, learning_rate=0.05, total=   2.6s\n",
            "[CV] subsample=0.8, n_estimators=1100, min_child_weight=3, max_depth=30, learning_rate=0.05 \n",
            "[01:04:45] WARNING: /workspace/src/objective/regression_obj.cu:152: reg:linear is now deprecated in favor of reg:squarederror.\n",
            "[CV]  subsample=0.8, n_estimators=1100, min_child_weight=3, max_depth=30, learning_rate=0.05, total=   2.5s\n",
            "[CV] subsample=0.7, n_estimators=1200, min_child_weight=5, max_depth=30, learning_rate=0.2 \n",
            "[01:04:47] WARNING: /workspace/src/objective/regression_obj.cu:152: reg:linear is now deprecated in favor of reg:squarederror.\n",
            "[CV]  subsample=0.7, n_estimators=1200, min_child_weight=5, max_depth=30, learning_rate=0.2, total=   1.8s\n",
            "[CV] subsample=0.7, n_estimators=1200, min_child_weight=5, max_depth=30, learning_rate=0.2 \n",
            "[01:04:49] WARNING: /workspace/src/objective/regression_obj.cu:152: reg:linear is now deprecated in favor of reg:squarederror.\n",
            "[CV]  subsample=0.7, n_estimators=1200, min_child_weight=5, max_depth=30, learning_rate=0.2, total=   1.8s\n",
            "[CV] subsample=0.7, n_estimators=1200, min_child_weight=5, max_depth=30, learning_rate=0.2 \n",
            "[01:04:51] WARNING: /workspace/src/objective/regression_obj.cu:152: reg:linear is now deprecated in favor of reg:squarederror.\n",
            "[CV]  subsample=0.7, n_estimators=1200, min_child_weight=5, max_depth=30, learning_rate=0.2, total=   1.9s\n",
            "[CV] subsample=0.7, n_estimators=1200, min_child_weight=5, max_depth=30, learning_rate=0.2 \n",
            "[01:04:53] WARNING: /workspace/src/objective/regression_obj.cu:152: reg:linear is now deprecated in favor of reg:squarederror.\n",
            "[CV]  subsample=0.7, n_estimators=1200, min_child_weight=5, max_depth=30, learning_rate=0.2, total=   2.1s\n",
            "[CV] subsample=0.7, n_estimators=1200, min_child_weight=5, max_depth=30, learning_rate=0.2 \n",
            "[01:04:55] WARNING: /workspace/src/objective/regression_obj.cu:152: reg:linear is now deprecated in favor of reg:squarederror.\n",
            "[CV]  subsample=0.7, n_estimators=1200, min_child_weight=5, max_depth=30, learning_rate=0.2, total=   1.5s\n",
            "[CV] subsample=0.8, n_estimators=1200, min_child_weight=5, max_depth=10, learning_rate=0.2 \n",
            "[01:04:56] WARNING: /workspace/src/objective/regression_obj.cu:152: reg:linear is now deprecated in favor of reg:squarederror.\n",
            "[CV]  subsample=0.8, n_estimators=1200, min_child_weight=5, max_depth=10, learning_rate=0.2, total=   0.8s\n",
            "[CV] subsample=0.8, n_estimators=1200, min_child_weight=5, max_depth=10, learning_rate=0.2 \n",
            "[01:04:57] WARNING: /workspace/src/objective/regression_obj.cu:152: reg:linear is now deprecated in favor of reg:squarederror.\n",
            "[CV]  subsample=0.8, n_estimators=1200, min_child_weight=5, max_depth=10, learning_rate=0.2, total=   1.0s\n",
            "[CV] subsample=0.8, n_estimators=1200, min_child_weight=5, max_depth=10, learning_rate=0.2 \n",
            "[01:04:58] WARNING: /workspace/src/objective/regression_obj.cu:152: reg:linear is now deprecated in favor of reg:squarederror.\n",
            "[CV]  subsample=0.8, n_estimators=1200, min_child_weight=5, max_depth=10, learning_rate=0.2, total=   1.2s\n",
            "[CV] subsample=0.8, n_estimators=1200, min_child_weight=5, max_depth=10, learning_rate=0.2 \n",
            "[01:04:59] WARNING: /workspace/src/objective/regression_obj.cu:152: reg:linear is now deprecated in favor of reg:squarederror.\n",
            "[CV]  subsample=0.8, n_estimators=1200, min_child_weight=5, max_depth=10, learning_rate=0.2, total=   1.5s\n",
            "[CV] subsample=0.8, n_estimators=1200, min_child_weight=5, max_depth=10, learning_rate=0.2 \n",
            "[01:05:01] WARNING: /workspace/src/objective/regression_obj.cu:152: reg:linear is now deprecated in favor of reg:squarederror.\n",
            "[CV]  subsample=0.8, n_estimators=1200, min_child_weight=5, max_depth=10, learning_rate=0.2, total=   0.8s\n",
            "[CV] subsample=0.7, n_estimators=900, min_child_weight=4, max_depth=10, learning_rate=0.6 \n",
            "[01:05:02] WARNING: /workspace/src/objective/regression_obj.cu:152: reg:linear is now deprecated in favor of reg:squarederror.\n",
            "[CV]  subsample=0.7, n_estimators=900, min_child_weight=4, max_depth=10, learning_rate=0.6, total=   0.3s\n",
            "[CV] subsample=0.7, n_estimators=900, min_child_weight=4, max_depth=10, learning_rate=0.6 \n",
            "[01:05:02] WARNING: /workspace/src/objective/regression_obj.cu:152: reg:linear is now deprecated in favor of reg:squarederror.\n",
            "[CV]  subsample=0.7, n_estimators=900, min_child_weight=4, max_depth=10, learning_rate=0.6, total=   0.3s\n",
            "[CV] subsample=0.7, n_estimators=900, min_child_weight=4, max_depth=10, learning_rate=0.6 \n",
            "[01:05:02] WARNING: /workspace/src/objective/regression_obj.cu:152: reg:linear is now deprecated in favor of reg:squarederror.\n",
            "[CV]  subsample=0.7, n_estimators=900, min_child_weight=4, max_depth=10, learning_rate=0.6, total=   0.4s\n",
            "[CV] subsample=0.7, n_estimators=900, min_child_weight=4, max_depth=10, learning_rate=0.6 \n",
            "[01:05:03] WARNING: /workspace/src/objective/regression_obj.cu:152: reg:linear is now deprecated in favor of reg:squarederror.\n",
            "[CV]  subsample=0.7, n_estimators=900, min_child_weight=4, max_depth=10, learning_rate=0.6, total=   0.4s\n",
            "[CV] subsample=0.7, n_estimators=900, min_child_weight=4, max_depth=10, learning_rate=0.6 \n",
            "[01:05:03] WARNING: /workspace/src/objective/regression_obj.cu:152: reg:linear is now deprecated in favor of reg:squarederror.\n",
            "[CV]  subsample=0.7, n_estimators=900, min_child_weight=4, max_depth=10, learning_rate=0.6, total=   0.4s\n",
            "[CV] subsample=0.8, n_estimators=1100, min_child_weight=6, max_depth=20, learning_rate=0.1 \n",
            "[01:05:03] WARNING: /workspace/src/objective/regression_obj.cu:152: reg:linear is now deprecated in favor of reg:squarederror.\n",
            "[CV]  subsample=0.8, n_estimators=1100, min_child_weight=6, max_depth=20, learning_rate=0.1, total=   2.1s\n",
            "[CV] subsample=0.8, n_estimators=1100, min_child_weight=6, max_depth=20, learning_rate=0.1 \n",
            "[01:05:06] WARNING: /workspace/src/objective/regression_obj.cu:152: reg:linear is now deprecated in favor of reg:squarederror.\n",
            "[CV]  subsample=0.8, n_estimators=1100, min_child_weight=6, max_depth=20, learning_rate=0.1, total=   2.1s\n",
            "[CV] subsample=0.8, n_estimators=1100, min_child_weight=6, max_depth=20, learning_rate=0.1 \n",
            "[01:05:08] WARNING: /workspace/src/objective/regression_obj.cu:152: reg:linear is now deprecated in favor of reg:squarederror.\n",
            "[CV]  subsample=0.8, n_estimators=1100, min_child_weight=6, max_depth=20, learning_rate=0.1, total=   2.2s\n",
            "[CV] subsample=0.8, n_estimators=1100, min_child_weight=6, max_depth=20, learning_rate=0.1 \n",
            "[01:05:10] WARNING: /workspace/src/objective/regression_obj.cu:152: reg:linear is now deprecated in favor of reg:squarederror.\n",
            "[CV]  subsample=0.8, n_estimators=1100, min_child_weight=6, max_depth=20, learning_rate=0.1, total=   2.1s\n",
            "[CV] subsample=0.8, n_estimators=1100, min_child_weight=6, max_depth=20, learning_rate=0.1 \n",
            "[01:05:12] WARNING: /workspace/src/objective/regression_obj.cu:152: reg:linear is now deprecated in favor of reg:squarederror.\n",
            "[CV]  subsample=0.8, n_estimators=1100, min_child_weight=6, max_depth=20, learning_rate=0.1, total=   2.2s\n",
            "[CV] subsample=0.7, n_estimators=800, min_child_weight=7, max_depth=10, learning_rate=0.05 \n",
            "[01:05:14] WARNING: /workspace/src/objective/regression_obj.cu:152: reg:linear is now deprecated in favor of reg:squarederror.\n",
            "[CV]  subsample=0.7, n_estimators=800, min_child_weight=7, max_depth=10, learning_rate=0.05, total=   1.0s\n",
            "[CV] subsample=0.7, n_estimators=800, min_child_weight=7, max_depth=10, learning_rate=0.05 \n",
            "[01:05:15] WARNING: /workspace/src/objective/regression_obj.cu:152: reg:linear is now deprecated in favor of reg:squarederror.\n",
            "[CV]  subsample=0.7, n_estimators=800, min_child_weight=7, max_depth=10, learning_rate=0.05, total=   1.0s\n",
            "[CV] subsample=0.7, n_estimators=800, min_child_weight=7, max_depth=10, learning_rate=0.05 \n",
            "[01:05:16] WARNING: /workspace/src/objective/regression_obj.cu:152: reg:linear is now deprecated in favor of reg:squarederror.\n",
            "[CV]  subsample=0.7, n_estimators=800, min_child_weight=7, max_depth=10, learning_rate=0.05, total=   1.0s\n",
            "[CV] subsample=0.7, n_estimators=800, min_child_weight=7, max_depth=10, learning_rate=0.05 \n",
            "[01:05:17] WARNING: /workspace/src/objective/regression_obj.cu:152: reg:linear is now deprecated in favor of reg:squarederror.\n",
            "[CV]  subsample=0.7, n_estimators=800, min_child_weight=7, max_depth=10, learning_rate=0.05, total=   1.0s\n",
            "[CV] subsample=0.7, n_estimators=800, min_child_weight=7, max_depth=10, learning_rate=0.05 \n",
            "[01:05:18] WARNING: /workspace/src/objective/regression_obj.cu:152: reg:linear is now deprecated in favor of reg:squarederror.\n",
            "[CV]  subsample=0.7, n_estimators=800, min_child_weight=7, max_depth=10, learning_rate=0.05, total=   1.0s\n",
            "[CV] subsample=0.8, n_estimators=1200, min_child_weight=6, max_depth=20, learning_rate=0.5 \n",
            "[01:05:19] WARNING: /workspace/src/objective/regression_obj.cu:152: reg:linear is now deprecated in favor of reg:squarederror.\n",
            "[CV]  subsample=0.8, n_estimators=1200, min_child_weight=6, max_depth=20, learning_rate=0.5, total=   0.7s\n",
            "[CV] subsample=0.8, n_estimators=1200, min_child_weight=6, max_depth=20, learning_rate=0.5 \n",
            "[01:05:20] WARNING: /workspace/src/objective/regression_obj.cu:152: reg:linear is now deprecated in favor of reg:squarederror.\n",
            "[CV]  subsample=0.8, n_estimators=1200, min_child_weight=6, max_depth=20, learning_rate=0.5, total=   0.9s\n",
            "[CV] subsample=0.8, n_estimators=1200, min_child_weight=6, max_depth=20, learning_rate=0.5 \n",
            "[01:05:21] WARNING: /workspace/src/objective/regression_obj.cu:152: reg:linear is now deprecated in favor of reg:squarederror.\n",
            "[CV]  subsample=0.8, n_estimators=1200, min_child_weight=6, max_depth=20, learning_rate=0.5, total=   0.6s\n",
            "[CV] subsample=0.8, n_estimators=1200, min_child_weight=6, max_depth=20, learning_rate=0.5 \n",
            "[01:05:21] WARNING: /workspace/src/objective/regression_obj.cu:152: reg:linear is now deprecated in favor of reg:squarederror.\n",
            "[CV]  subsample=0.8, n_estimators=1200, min_child_weight=6, max_depth=20, learning_rate=0.5, total=   1.3s\n",
            "[CV] subsample=0.8, n_estimators=1200, min_child_weight=6, max_depth=20, learning_rate=0.5 \n",
            "[01:05:23] WARNING: /workspace/src/objective/regression_obj.cu:152: reg:linear is now deprecated in favor of reg:squarederror.\n",
            "[CV]  subsample=0.8, n_estimators=1200, min_child_weight=6, max_depth=20, learning_rate=0.5, total=   0.9s\n",
            "[CV] subsample=0.6, n_estimators=900, min_child_weight=7, max_depth=15, learning_rate=0.1 \n",
            "[01:05:24] WARNING: /workspace/src/objective/regression_obj.cu:152: reg:linear is now deprecated in favor of reg:squarederror.\n",
            "[CV]  subsample=0.6, n_estimators=900, min_child_weight=7, max_depth=15, learning_rate=0.1, total=   1.4s\n",
            "[CV] subsample=0.6, n_estimators=900, min_child_weight=7, max_depth=15, learning_rate=0.1 \n",
            "[01:05:25] WARNING: /workspace/src/objective/regression_obj.cu:152: reg:linear is now deprecated in favor of reg:squarederror.\n",
            "[CV]  subsample=0.6, n_estimators=900, min_child_weight=7, max_depth=15, learning_rate=0.1, total=   1.4s\n",
            "[CV] subsample=0.6, n_estimators=900, min_child_weight=7, max_depth=15, learning_rate=0.1 \n",
            "[01:05:26] WARNING: /workspace/src/objective/regression_obj.cu:152: reg:linear is now deprecated in favor of reg:squarederror.\n",
            "[CV]  subsample=0.6, n_estimators=900, min_child_weight=7, max_depth=15, learning_rate=0.1, total=   1.4s\n",
            "[CV] subsample=0.6, n_estimators=900, min_child_weight=7, max_depth=15, learning_rate=0.1 \n",
            "[01:05:28] WARNING: /workspace/src/objective/regression_obj.cu:152: reg:linear is now deprecated in favor of reg:squarederror.\n",
            "[CV]  subsample=0.6, n_estimators=900, min_child_weight=7, max_depth=15, learning_rate=0.1, total=   1.4s\n",
            "[CV] subsample=0.6, n_estimators=900, min_child_weight=7, max_depth=15, learning_rate=0.1 \n",
            "[01:05:29] WARNING: /workspace/src/objective/regression_obj.cu:152: reg:linear is now deprecated in favor of reg:squarederror.\n",
            "[CV]  subsample=0.6, n_estimators=900, min_child_weight=7, max_depth=15, learning_rate=0.1, total=   1.4s\n",
            "[CV] subsample=0.6, n_estimators=100, min_child_weight=7, max_depth=30, learning_rate=0.6 \n",
            "[01:05:30] WARNING: /workspace/src/objective/regression_obj.cu:152: reg:linear is now deprecated in favor of reg:squarederror.\n",
            "[CV]  subsample=0.6, n_estimators=100, min_child_weight=7, max_depth=30, learning_rate=0.6, total=   0.2s\n",
            "[CV] subsample=0.6, n_estimators=100, min_child_weight=7, max_depth=30, learning_rate=0.6 \n",
            "[01:05:31] WARNING: /workspace/src/objective/regression_obj.cu:152: reg:linear is now deprecated in favor of reg:squarederror.\n",
            "[CV]  subsample=0.6, n_estimators=100, min_child_weight=7, max_depth=30, learning_rate=0.6, total=   0.2s\n",
            "[CV] subsample=0.6, n_estimators=100, min_child_weight=7, max_depth=30, learning_rate=0.6 \n",
            "[01:05:31] WARNING: /workspace/src/objective/regression_obj.cu:152: reg:linear is now deprecated in favor of reg:squarederror.\n",
            "[CV]  subsample=0.6, n_estimators=100, min_child_weight=7, max_depth=30, learning_rate=0.6, total=   0.2s\n",
            "[CV] subsample=0.6, n_estimators=100, min_child_weight=7, max_depth=30, learning_rate=0.6 \n",
            "[01:05:31] WARNING: /workspace/src/objective/regression_obj.cu:152: reg:linear is now deprecated in favor of reg:squarederror.\n",
            "[CV]  subsample=0.6, n_estimators=100, min_child_weight=7, max_depth=30, learning_rate=0.6, total=   0.2s\n",
            "[CV] subsample=0.6, n_estimators=100, min_child_weight=7, max_depth=30, learning_rate=0.6 \n",
            "[01:05:31] WARNING: /workspace/src/objective/regression_obj.cu:152: reg:linear is now deprecated in favor of reg:squarederror.\n",
            "[CV]  subsample=0.6, n_estimators=100, min_child_weight=7, max_depth=30, learning_rate=0.6, total=   0.2s\n",
            "[CV] subsample=0.6, n_estimators=900, min_child_weight=6, max_depth=5, learning_rate=0.05 \n",
            "[01:05:31] WARNING: /workspace/src/objective/regression_obj.cu:152: reg:linear is now deprecated in favor of reg:squarederror.\n",
            "[CV]  subsample=0.6, n_estimators=900, min_child_weight=6, max_depth=5, learning_rate=0.05, total=   0.6s\n",
            "[CV] subsample=0.6, n_estimators=900, min_child_weight=6, max_depth=5, learning_rate=0.05 \n",
            "[01:05:32] WARNING: /workspace/src/objective/regression_obj.cu:152: reg:linear is now deprecated in favor of reg:squarederror.\n",
            "[CV]  subsample=0.6, n_estimators=900, min_child_weight=6, max_depth=5, learning_rate=0.05, total=   0.6s\n",
            "[CV] subsample=0.6, n_estimators=900, min_child_weight=6, max_depth=5, learning_rate=0.05 \n",
            "[01:05:33] WARNING: /workspace/src/objective/regression_obj.cu:152: reg:linear is now deprecated in favor of reg:squarederror.\n",
            "[CV]  subsample=0.6, n_estimators=900, min_child_weight=6, max_depth=5, learning_rate=0.05, total=   0.6s\n",
            "[CV] subsample=0.6, n_estimators=900, min_child_weight=6, max_depth=5, learning_rate=0.05 \n",
            "[01:05:33] WARNING: /workspace/src/objective/regression_obj.cu:152: reg:linear is now deprecated in favor of reg:squarederror.\n",
            "[CV]  subsample=0.6, n_estimators=900, min_child_weight=6, max_depth=5, learning_rate=0.05, total=   0.6s\n",
            "[CV] subsample=0.6, n_estimators=900, min_child_weight=6, max_depth=5, learning_rate=0.05 \n",
            "[01:05:34] WARNING: /workspace/src/objective/regression_obj.cu:152: reg:linear is now deprecated in favor of reg:squarederror.\n",
            "[CV]  subsample=0.6, n_estimators=900, min_child_weight=6, max_depth=5, learning_rate=0.05, total=   0.6s\n",
            "[CV] subsample=0.8, n_estimators=1100, min_child_weight=3, max_depth=15, learning_rate=0.5 \n",
            "[01:05:34] WARNING: /workspace/src/objective/regression_obj.cu:152: reg:linear is now deprecated in favor of reg:squarederror.\n",
            "[CV]  subsample=0.8, n_estimators=1100, min_child_weight=3, max_depth=15, learning_rate=0.5, total=   0.4s\n",
            "[CV] subsample=0.8, n_estimators=1100, min_child_weight=3, max_depth=15, learning_rate=0.5 \n",
            "[01:05:35] WARNING: /workspace/src/objective/regression_obj.cu:152: reg:linear is now deprecated in favor of reg:squarederror.\n",
            "[CV]  subsample=0.8, n_estimators=1100, min_child_weight=3, max_depth=15, learning_rate=0.5, total=   0.4s\n",
            "[CV] subsample=0.8, n_estimators=1100, min_child_weight=3, max_depth=15, learning_rate=0.5 \n",
            "[01:05:35] WARNING: /workspace/src/objective/regression_obj.cu:152: reg:linear is now deprecated in favor of reg:squarederror.\n",
            "[CV]  subsample=0.8, n_estimators=1100, min_child_weight=3, max_depth=15, learning_rate=0.5, total=   0.4s\n",
            "[CV] subsample=0.8, n_estimators=1100, min_child_weight=3, max_depth=15, learning_rate=0.5 \n",
            "[01:05:36] WARNING: /workspace/src/objective/regression_obj.cu:152: reg:linear is now deprecated in favor of reg:squarederror.\n",
            "[CV]  subsample=0.8, n_estimators=1100, min_child_weight=3, max_depth=15, learning_rate=0.5, total=   0.5s\n",
            "[CV] subsample=0.8, n_estimators=1100, min_child_weight=3, max_depth=15, learning_rate=0.5 \n",
            "[01:05:36] WARNING: /workspace/src/objective/regression_obj.cu:152: reg:linear is now deprecated in favor of reg:squarederror.\n",
            "[CV]  subsample=0.8, n_estimators=1100, min_child_weight=3, max_depth=15, learning_rate=0.5, total=   0.4s\n",
            "[CV] subsample=0.7, n_estimators=1200, min_child_weight=5, max_depth=5, learning_rate=0.3 \n",
            "[01:05:37] WARNING: /workspace/src/objective/regression_obj.cu:152: reg:linear is now deprecated in favor of reg:squarederror.\n",
            "[CV]  subsample=0.7, n_estimators=1200, min_child_weight=5, max_depth=5, learning_rate=0.3, total=   0.6s\n",
            "[CV] subsample=0.7, n_estimators=1200, min_child_weight=5, max_depth=5, learning_rate=0.3 \n",
            "[01:05:37] WARNING: /workspace/src/objective/regression_obj.cu:152: reg:linear is now deprecated in favor of reg:squarederror.\n",
            "[CV]  subsample=0.7, n_estimators=1200, min_child_weight=5, max_depth=5, learning_rate=0.3, total=   0.6s\n",
            "[CV] subsample=0.7, n_estimators=1200, min_child_weight=5, max_depth=5, learning_rate=0.3 \n",
            "[01:05:38] WARNING: /workspace/src/objective/regression_obj.cu:152: reg:linear is now deprecated in favor of reg:squarederror.\n",
            "[CV]  subsample=0.7, n_estimators=1200, min_child_weight=5, max_depth=5, learning_rate=0.3, total=   0.6s\n",
            "[CV] subsample=0.7, n_estimators=1200, min_child_weight=5, max_depth=5, learning_rate=0.3 \n",
            "[01:05:38] WARNING: /workspace/src/objective/regression_obj.cu:152: reg:linear is now deprecated in favor of reg:squarederror.\n",
            "[CV]  subsample=0.7, n_estimators=1200, min_child_weight=5, max_depth=5, learning_rate=0.3, total=   0.6s\n",
            "[CV] subsample=0.7, n_estimators=1200, min_child_weight=5, max_depth=5, learning_rate=0.3 \n",
            "[01:05:39] WARNING: /workspace/src/objective/regression_obj.cu:152: reg:linear is now deprecated in favor of reg:squarederror.\n",
            "[CV]  subsample=0.7, n_estimators=1200, min_child_weight=5, max_depth=5, learning_rate=0.3, total=   0.6s\n",
            "[CV] subsample=0.8, n_estimators=100, min_child_weight=6, max_depth=15, learning_rate=0.5 \n",
            "[01:05:40] WARNING: /workspace/src/objective/regression_obj.cu:152: reg:linear is now deprecated in favor of reg:squarederror.\n",
            "[CV]  subsample=0.8, n_estimators=100, min_child_weight=6, max_depth=15, learning_rate=0.5, total=   0.2s\n",
            "[CV] subsample=0.8, n_estimators=100, min_child_weight=6, max_depth=15, learning_rate=0.5 \n",
            "[01:05:40] WARNING: /workspace/src/objective/regression_obj.cu:152: reg:linear is now deprecated in favor of reg:squarederror.\n",
            "[CV]  subsample=0.8, n_estimators=100, min_child_weight=6, max_depth=15, learning_rate=0.5, total=   0.2s\n",
            "[CV] subsample=0.8, n_estimators=100, min_child_weight=6, max_depth=15, learning_rate=0.5 \n",
            "[01:05:40] WARNING: /workspace/src/objective/regression_obj.cu:152: reg:linear is now deprecated in favor of reg:squarederror.\n",
            "[CV]  subsample=0.8, n_estimators=100, min_child_weight=6, max_depth=15, learning_rate=0.5, total=   0.2s\n",
            "[CV] subsample=0.8, n_estimators=100, min_child_weight=6, max_depth=15, learning_rate=0.5 \n",
            "[01:05:40] WARNING: /workspace/src/objective/regression_obj.cu:152: reg:linear is now deprecated in favor of reg:squarederror.\n",
            "[CV]  subsample=0.8, n_estimators=100, min_child_weight=6, max_depth=15, learning_rate=0.5, total=   0.2s\n",
            "[CV] subsample=0.8, n_estimators=100, min_child_weight=6, max_depth=15, learning_rate=0.5 \n",
            "[01:05:40] WARNING: /workspace/src/objective/regression_obj.cu:152: reg:linear is now deprecated in favor of reg:squarederror.\n",
            "[CV]  subsample=0.8, n_estimators=100, min_child_weight=6, max_depth=15, learning_rate=0.5, total=   0.2s\n",
            "[CV] subsample=0.6, n_estimators=400, min_child_weight=6, max_depth=20, learning_rate=0.1 \n",
            "[01:05:41] WARNING: /workspace/src/objective/regression_obj.cu:152: reg:linear is now deprecated in favor of reg:squarederror.\n",
            "[CV]  subsample=0.6, n_estimators=400, min_child_weight=6, max_depth=20, learning_rate=0.1, total=   0.7s\n",
            "[CV] subsample=0.6, n_estimators=400, min_child_weight=6, max_depth=20, learning_rate=0.1 \n",
            "[01:05:41] WARNING: /workspace/src/objective/regression_obj.cu:152: reg:linear is now deprecated in favor of reg:squarederror.\n",
            "[CV]  subsample=0.6, n_estimators=400, min_child_weight=6, max_depth=20, learning_rate=0.1, total=   0.7s\n",
            "[CV] subsample=0.6, n_estimators=400, min_child_weight=6, max_depth=20, learning_rate=0.1 \n",
            "[01:05:42] WARNING: /workspace/src/objective/regression_obj.cu:152: reg:linear is now deprecated in favor of reg:squarederror.\n",
            "[CV]  subsample=0.6, n_estimators=400, min_child_weight=6, max_depth=20, learning_rate=0.1, total=   0.7s\n",
            "[CV] subsample=0.6, n_estimators=400, min_child_weight=6, max_depth=20, learning_rate=0.1 \n",
            "[01:05:43] WARNING: /workspace/src/objective/regression_obj.cu:152: reg:linear is now deprecated in favor of reg:squarederror.\n",
            "[CV]  subsample=0.6, n_estimators=400, min_child_weight=6, max_depth=20, learning_rate=0.1, total=   0.7s\n",
            "[CV] subsample=0.6, n_estimators=400, min_child_weight=6, max_depth=20, learning_rate=0.1 \n",
            "[01:05:43] WARNING: /workspace/src/objective/regression_obj.cu:152: reg:linear is now deprecated in favor of reg:squarederror.\n",
            "[CV]  subsample=0.6, n_estimators=400, min_child_weight=6, max_depth=20, learning_rate=0.1, total=   0.7s\n",
            "[CV] subsample=0.6, n_estimators=800, min_child_weight=7, max_depth=10, learning_rate=0.3 \n",
            "[01:05:44] WARNING: /workspace/src/objective/regression_obj.cu:152: reg:linear is now deprecated in favor of reg:squarederror.\n",
            "[CV]  subsample=0.6, n_estimators=800, min_child_weight=7, max_depth=10, learning_rate=0.3, total=   0.9s\n",
            "[CV] subsample=0.6, n_estimators=800, min_child_weight=7, max_depth=10, learning_rate=0.3 \n",
            "[01:05:45] WARNING: /workspace/src/objective/regression_obj.cu:152: reg:linear is now deprecated in favor of reg:squarederror.\n",
            "[CV]  subsample=0.6, n_estimators=800, min_child_weight=7, max_depth=10, learning_rate=0.3, total=   0.9s\n",
            "[CV] subsample=0.6, n_estimators=800, min_child_weight=7, max_depth=10, learning_rate=0.3 \n",
            "[01:05:46] WARNING: /workspace/src/objective/regression_obj.cu:152: reg:linear is now deprecated in favor of reg:squarederror.\n",
            "[CV]  subsample=0.6, n_estimators=800, min_child_weight=7, max_depth=10, learning_rate=0.3, total=   0.9s\n",
            "[CV] subsample=0.6, n_estimators=800, min_child_weight=7, max_depth=10, learning_rate=0.3 \n",
            "[01:05:47] WARNING: /workspace/src/objective/regression_obj.cu:152: reg:linear is now deprecated in favor of reg:squarederror.\n",
            "[CV]  subsample=0.6, n_estimators=800, min_child_weight=7, max_depth=10, learning_rate=0.3, total=   0.9s\n",
            "[CV] subsample=0.6, n_estimators=800, min_child_weight=7, max_depth=10, learning_rate=0.3 \n",
            "[01:05:48] WARNING: /workspace/src/objective/regression_obj.cu:152: reg:linear is now deprecated in favor of reg:squarederror.\n",
            "[CV]  subsample=0.6, n_estimators=800, min_child_weight=7, max_depth=10, learning_rate=0.3, total=   0.9s\n",
            "[CV] subsample=0.8, n_estimators=300, min_child_weight=6, max_depth=15, learning_rate=0.05 \n",
            "[01:05:49] WARNING: /workspace/src/objective/regression_obj.cu:152: reg:linear is now deprecated in favor of reg:squarederror.\n",
            "[CV]  subsample=0.8, n_estimators=300, min_child_weight=6, max_depth=15, learning_rate=0.05, total=   0.5s\n",
            "[CV] subsample=0.8, n_estimators=300, min_child_weight=6, max_depth=15, learning_rate=0.05 \n",
            "[01:05:49] WARNING: /workspace/src/objective/regression_obj.cu:152: reg:linear is now deprecated in favor of reg:squarederror.\n",
            "[CV]  subsample=0.8, n_estimators=300, min_child_weight=6, max_depth=15, learning_rate=0.05, total=   0.5s\n",
            "[CV] subsample=0.8, n_estimators=300, min_child_weight=6, max_depth=15, learning_rate=0.05 \n",
            "[01:05:50] WARNING: /workspace/src/objective/regression_obj.cu:152: reg:linear is now deprecated in favor of reg:squarederror.\n",
            "[CV]  subsample=0.8, n_estimators=300, min_child_weight=6, max_depth=15, learning_rate=0.05, total=   0.5s\n",
            "[CV] subsample=0.8, n_estimators=300, min_child_weight=6, max_depth=15, learning_rate=0.05 \n",
            "[01:05:50] WARNING: /workspace/src/objective/regression_obj.cu:152: reg:linear is now deprecated in favor of reg:squarederror.\n",
            "[CV]  subsample=0.8, n_estimators=300, min_child_weight=6, max_depth=15, learning_rate=0.05, total=   0.5s\n",
            "[CV] subsample=0.8, n_estimators=300, min_child_weight=6, max_depth=15, learning_rate=0.05 \n",
            "[01:05:51] WARNING: /workspace/src/objective/regression_obj.cu:152: reg:linear is now deprecated in favor of reg:squarederror.\n",
            "[CV]  subsample=0.8, n_estimators=300, min_child_weight=6, max_depth=15, learning_rate=0.05, total=   0.5s\n",
            "[CV] subsample=0.6, n_estimators=300, min_child_weight=5, max_depth=20, learning_rate=0.3 \n",
            "[01:05:51] WARNING: /workspace/src/objective/regression_obj.cu:152: reg:linear is now deprecated in favor of reg:squarederror.\n",
            "[CV]  subsample=0.6, n_estimators=300, min_child_weight=5, max_depth=20, learning_rate=0.3, total=   0.6s\n",
            "[CV] subsample=0.6, n_estimators=300, min_child_weight=5, max_depth=20, learning_rate=0.3 \n",
            "[01:05:52] WARNING: /workspace/src/objective/regression_obj.cu:152: reg:linear is now deprecated in favor of reg:squarederror.\n",
            "[CV]  subsample=0.6, n_estimators=300, min_child_weight=5, max_depth=20, learning_rate=0.3, total=   0.6s\n",
            "[CV] subsample=0.6, n_estimators=300, min_child_weight=5, max_depth=20, learning_rate=0.3 \n",
            "[01:05:52] WARNING: /workspace/src/objective/regression_obj.cu:152: reg:linear is now deprecated in favor of reg:squarederror.\n",
            "[CV]  subsample=0.6, n_estimators=300, min_child_weight=5, max_depth=20, learning_rate=0.3, total=   0.6s\n",
            "[CV] subsample=0.6, n_estimators=300, min_child_weight=5, max_depth=20, learning_rate=0.3 \n",
            "[01:05:53] WARNING: /workspace/src/objective/regression_obj.cu:152: reg:linear is now deprecated in favor of reg:squarederror.\n",
            "[CV]  subsample=0.6, n_estimators=300, min_child_weight=5, max_depth=20, learning_rate=0.3, total=   0.6s\n",
            "[CV] subsample=0.6, n_estimators=300, min_child_weight=5, max_depth=20, learning_rate=0.3 \n",
            "[01:05:53] WARNING: /workspace/src/objective/regression_obj.cu:152: reg:linear is now deprecated in favor of reg:squarederror.\n",
            "[CV]  subsample=0.6, n_estimators=300, min_child_weight=5, max_depth=20, learning_rate=0.3, total=   0.6s\n",
            "[CV] subsample=0.7, n_estimators=600, min_child_weight=4, max_depth=25, learning_rate=0.2 \n",
            "[01:05:54] WARNING: /workspace/src/objective/regression_obj.cu:152: reg:linear is now deprecated in favor of reg:squarederror.\n",
            "[CV]  subsample=0.7, n_estimators=600, min_child_weight=4, max_depth=25, learning_rate=0.2, total=   1.3s\n",
            "[CV] subsample=0.7, n_estimators=600, min_child_weight=4, max_depth=25, learning_rate=0.2 \n",
            "[01:05:55] WARNING: /workspace/src/objective/regression_obj.cu:152: reg:linear is now deprecated in favor of reg:squarederror.\n",
            "[CV]  subsample=0.7, n_estimators=600, min_child_weight=4, max_depth=25, learning_rate=0.2, total=   1.0s\n",
            "[CV] subsample=0.7, n_estimators=600, min_child_weight=4, max_depth=25, learning_rate=0.2 \n",
            "[01:05:56] WARNING: /workspace/src/objective/regression_obj.cu:152: reg:linear is now deprecated in favor of reg:squarederror.\n",
            "[CV]  subsample=0.7, n_estimators=600, min_child_weight=4, max_depth=25, learning_rate=0.2, total=   1.1s\n",
            "[CV] subsample=0.7, n_estimators=600, min_child_weight=4, max_depth=25, learning_rate=0.2 \n",
            "[01:05:57] WARNING: /workspace/src/objective/regression_obj.cu:152: reg:linear is now deprecated in favor of reg:squarederror.\n",
            "[CV]  subsample=0.7, n_estimators=600, min_child_weight=4, max_depth=25, learning_rate=0.2, total=   0.9s\n",
            "[CV] subsample=0.7, n_estimators=600, min_child_weight=4, max_depth=25, learning_rate=0.2 \n",
            "[01:05:58] WARNING: /workspace/src/objective/regression_obj.cu:152: reg:linear is now deprecated in favor of reg:squarederror.\n",
            "[CV]  subsample=0.7, n_estimators=600, min_child_weight=4, max_depth=25, learning_rate=0.2, total=   1.1s\n",
            "[CV] subsample=0.6, n_estimators=200, min_child_weight=3, max_depth=25, learning_rate=0.5 \n",
            "[01:05:59] WARNING: /workspace/src/objective/regression_obj.cu:152: reg:linear is now deprecated in favor of reg:squarederror.\n",
            "[CV]  subsample=0.6, n_estimators=200, min_child_weight=3, max_depth=25, learning_rate=0.5, total=   0.4s\n",
            "[CV] subsample=0.6, n_estimators=200, min_child_weight=3, max_depth=25, learning_rate=0.5 \n",
            "[01:06:00] WARNING: /workspace/src/objective/regression_obj.cu:152: reg:linear is now deprecated in favor of reg:squarederror.\n",
            "[CV]  subsample=0.6, n_estimators=200, min_child_weight=3, max_depth=25, learning_rate=0.5, total=   0.4s\n",
            "[CV] subsample=0.6, n_estimators=200, min_child_weight=3, max_depth=25, learning_rate=0.5 \n",
            "[01:06:00] WARNING: /workspace/src/objective/regression_obj.cu:152: reg:linear is now deprecated in favor of reg:squarederror.\n",
            "[CV]  subsample=0.6, n_estimators=200, min_child_weight=3, max_depth=25, learning_rate=0.5, total=   0.4s\n",
            "[CV] subsample=0.6, n_estimators=200, min_child_weight=3, max_depth=25, learning_rate=0.5 \n",
            "[01:06:01] WARNING: /workspace/src/objective/regression_obj.cu:152: reg:linear is now deprecated in favor of reg:squarederror.\n",
            "[CV]  subsample=0.6, n_estimators=200, min_child_weight=3, max_depth=25, learning_rate=0.5, total=   0.4s\n",
            "[CV] subsample=0.6, n_estimators=200, min_child_weight=3, max_depth=25, learning_rate=0.5 \n",
            "[01:06:01] WARNING: /workspace/src/objective/regression_obj.cu:152: reg:linear is now deprecated in favor of reg:squarederror.\n",
            "[CV]  subsample=0.6, n_estimators=200, min_child_weight=3, max_depth=25, learning_rate=0.5, total=   0.4s\n",
            "[CV] subsample=0.6, n_estimators=800, min_child_weight=3, max_depth=20, learning_rate=0.05 \n",
            "[01:06:01] WARNING: /workspace/src/objective/regression_obj.cu:152: reg:linear is now deprecated in favor of reg:squarederror.\n",
            "[CV]  subsample=0.6, n_estimators=800, min_child_weight=3, max_depth=20, learning_rate=0.05, total=   1.7s\n",
            "[CV] subsample=0.6, n_estimators=800, min_child_weight=3, max_depth=20, learning_rate=0.05 \n",
            "[01:06:03] WARNING: /workspace/src/objective/regression_obj.cu:152: reg:linear is now deprecated in favor of reg:squarederror.\n",
            "[CV]  subsample=0.6, n_estimators=800, min_child_weight=3, max_depth=20, learning_rate=0.05, total=   1.7s\n",
            "[CV] subsample=0.6, n_estimators=800, min_child_weight=3, max_depth=20, learning_rate=0.05 \n",
            "[01:06:05] WARNING: /workspace/src/objective/regression_obj.cu:152: reg:linear is now deprecated in favor of reg:squarederror.\n",
            "[CV]  subsample=0.6, n_estimators=800, min_child_weight=3, max_depth=20, learning_rate=0.05, total=   1.7s\n",
            "[CV] subsample=0.6, n_estimators=800, min_child_weight=3, max_depth=20, learning_rate=0.05 \n",
            "[01:06:06] WARNING: /workspace/src/objective/regression_obj.cu:152: reg:linear is now deprecated in favor of reg:squarederror.\n",
            "[CV]  subsample=0.6, n_estimators=800, min_child_weight=3, max_depth=20, learning_rate=0.05, total=   1.7s\n",
            "[CV] subsample=0.6, n_estimators=800, min_child_weight=3, max_depth=20, learning_rate=0.05 \n",
            "[01:06:08] WARNING: /workspace/src/objective/regression_obj.cu:152: reg:linear is now deprecated in favor of reg:squarederror.\n",
            "[CV]  subsample=0.6, n_estimators=800, min_child_weight=3, max_depth=20, learning_rate=0.05, total=   1.7s\n",
            "[CV] subsample=0.8, n_estimators=800, min_child_weight=4, max_depth=10, learning_rate=0.05 \n",
            "[01:06:10] WARNING: /workspace/src/objective/regression_obj.cu:152: reg:linear is now deprecated in favor of reg:squarederror.\n",
            "[CV]  subsample=0.8, n_estimators=800, min_child_weight=4, max_depth=10, learning_rate=0.05, total=   1.1s\n",
            "[CV] subsample=0.8, n_estimators=800, min_child_weight=4, max_depth=10, learning_rate=0.05 \n",
            "[01:06:11] WARNING: /workspace/src/objective/regression_obj.cu:152: reg:linear is now deprecated in favor of reg:squarederror.\n",
            "[CV]  subsample=0.8, n_estimators=800, min_child_weight=4, max_depth=10, learning_rate=0.05, total=   1.1s\n",
            "[CV] subsample=0.8, n_estimators=800, min_child_weight=4, max_depth=10, learning_rate=0.05 \n",
            "[01:06:12] WARNING: /workspace/src/objective/regression_obj.cu:152: reg:linear is now deprecated in favor of reg:squarederror.\n",
            "[CV]  subsample=0.8, n_estimators=800, min_child_weight=4, max_depth=10, learning_rate=0.05, total=   1.1s\n",
            "[CV] subsample=0.8, n_estimators=800, min_child_weight=4, max_depth=10, learning_rate=0.05 \n",
            "[01:06:13] WARNING: /workspace/src/objective/regression_obj.cu:152: reg:linear is now deprecated in favor of reg:squarederror.\n",
            "[CV]  subsample=0.8, n_estimators=800, min_child_weight=4, max_depth=10, learning_rate=0.05, total=   1.1s\n",
            "[CV] subsample=0.8, n_estimators=800, min_child_weight=4, max_depth=10, learning_rate=0.05 \n",
            "[01:06:14] WARNING: /workspace/src/objective/regression_obj.cu:152: reg:linear is now deprecated in favor of reg:squarederror.\n",
            "[CV]  subsample=0.8, n_estimators=800, min_child_weight=4, max_depth=10, learning_rate=0.05, total=   1.2s\n",
            "[CV] subsample=0.6, n_estimators=600, min_child_weight=4, max_depth=5, learning_rate=0.6 \n",
            "[01:06:15] WARNING: /workspace/src/objective/regression_obj.cu:152: reg:linear is now deprecated in favor of reg:squarederror.\n",
            "[CV]  subsample=0.6, n_estimators=600, min_child_weight=4, max_depth=5, learning_rate=0.6, total=   0.3s\n",
            "[CV] subsample=0.6, n_estimators=600, min_child_weight=4, max_depth=5, learning_rate=0.6 \n",
            "[01:06:16] WARNING: /workspace/src/objective/regression_obj.cu:152: reg:linear is now deprecated in favor of reg:squarederror.\n",
            "[CV]  subsample=0.6, n_estimators=600, min_child_weight=4, max_depth=5, learning_rate=0.6, total=   0.3s\n",
            "[CV] subsample=0.6, n_estimators=600, min_child_weight=4, max_depth=5, learning_rate=0.6 \n",
            "[01:06:16] WARNING: /workspace/src/objective/regression_obj.cu:152: reg:linear is now deprecated in favor of reg:squarederror.\n",
            "[CV]  subsample=0.6, n_estimators=600, min_child_weight=4, max_depth=5, learning_rate=0.6, total=   0.3s\n",
            "[CV] subsample=0.6, n_estimators=600, min_child_weight=4, max_depth=5, learning_rate=0.6 \n",
            "[01:06:16] WARNING: /workspace/src/objective/regression_obj.cu:152: reg:linear is now deprecated in favor of reg:squarederror.\n",
            "[CV]  subsample=0.6, n_estimators=600, min_child_weight=4, max_depth=5, learning_rate=0.6, total=   0.4s\n",
            "[CV] subsample=0.6, n_estimators=600, min_child_weight=4, max_depth=5, learning_rate=0.6 \n",
            "[01:06:17] WARNING: /workspace/src/objective/regression_obj.cu:152: reg:linear is now deprecated in favor of reg:squarederror.\n",
            "[CV]  subsample=0.6, n_estimators=600, min_child_weight=4, max_depth=5, learning_rate=0.6, total=   0.3s\n",
            "[CV] subsample=0.7, n_estimators=900, min_child_weight=5, max_depth=30, learning_rate=0.6 \n",
            "[01:06:17] WARNING: /workspace/src/objective/regression_obj.cu:152: reg:linear is now deprecated in favor of reg:squarederror.\n",
            "[CV]  subsample=0.7, n_estimators=900, min_child_weight=5, max_depth=30, learning_rate=0.6, total=   0.7s\n",
            "[CV] subsample=0.7, n_estimators=900, min_child_weight=5, max_depth=30, learning_rate=0.6 \n",
            "[01:06:18] WARNING: /workspace/src/objective/regression_obj.cu:152: reg:linear is now deprecated in favor of reg:squarederror.\n",
            "[CV]  subsample=0.7, n_estimators=900, min_child_weight=5, max_depth=30, learning_rate=0.6, total=   0.8s\n",
            "[CV] subsample=0.7, n_estimators=900, min_child_weight=5, max_depth=30, learning_rate=0.6 \n",
            "[01:06:19] WARNING: /workspace/src/objective/regression_obj.cu:152: reg:linear is now deprecated in favor of reg:squarederror.\n",
            "[CV]  subsample=0.7, n_estimators=900, min_child_weight=5, max_depth=30, learning_rate=0.6, total=   0.5s\n",
            "[CV] subsample=0.7, n_estimators=900, min_child_weight=5, max_depth=30, learning_rate=0.6 \n",
            "[01:06:19] WARNING: /workspace/src/objective/regression_obj.cu:152: reg:linear is now deprecated in favor of reg:squarederror.\n",
            "[CV]  subsample=0.7, n_estimators=900, min_child_weight=5, max_depth=30, learning_rate=0.6, total=   1.1s\n",
            "[CV] subsample=0.7, n_estimators=900, min_child_weight=5, max_depth=30, learning_rate=0.6 \n",
            "[01:06:20] WARNING: /workspace/src/objective/regression_obj.cu:152: reg:linear is now deprecated in favor of reg:squarederror.\n",
            "[CV]  subsample=0.7, n_estimators=900, min_child_weight=5, max_depth=30, learning_rate=0.6, total=   0.8s\n",
            "[CV] subsample=0.6, n_estimators=1100, min_child_weight=5, max_depth=10, learning_rate=0.5 \n",
            "[01:06:21] WARNING: /workspace/src/objective/regression_obj.cu:152: reg:linear is now deprecated in favor of reg:squarederror.\n",
            "[CV]  subsample=0.6, n_estimators=1100, min_child_weight=5, max_depth=10, learning_rate=0.5, total=   0.7s\n",
            "[CV] subsample=0.6, n_estimators=1100, min_child_weight=5, max_depth=10, learning_rate=0.5 \n",
            "[01:06:22] WARNING: /workspace/src/objective/regression_obj.cu:152: reg:linear is now deprecated in favor of reg:squarederror.\n",
            "[CV]  subsample=0.6, n_estimators=1100, min_child_weight=5, max_depth=10, learning_rate=0.5, total=   0.6s\n",
            "[CV] subsample=0.6, n_estimators=1100, min_child_weight=5, max_depth=10, learning_rate=0.5 \n",
            "[01:06:22] WARNING: /workspace/src/objective/regression_obj.cu:152: reg:linear is now deprecated in favor of reg:squarederror.\n",
            "[CV]  subsample=0.6, n_estimators=1100, min_child_weight=5, max_depth=10, learning_rate=0.5, total=   0.7s\n",
            "[CV] subsample=0.6, n_estimators=1100, min_child_weight=5, max_depth=10, learning_rate=0.5 \n",
            "[01:06:23] WARNING: /workspace/src/objective/regression_obj.cu:152: reg:linear is now deprecated in favor of reg:squarederror.\n",
            "[CV]  subsample=0.6, n_estimators=1100, min_child_weight=5, max_depth=10, learning_rate=0.5, total=   0.6s\n",
            "[CV] subsample=0.6, n_estimators=1100, min_child_weight=5, max_depth=10, learning_rate=0.5 \n",
            "[01:06:24] WARNING: /workspace/src/objective/regression_obj.cu:152: reg:linear is now deprecated in favor of reg:squarederror.\n",
            "[CV]  subsample=0.6, n_estimators=1100, min_child_weight=5, max_depth=10, learning_rate=0.5, total=   0.6s\n",
            "[CV] subsample=0.6, n_estimators=100, min_child_weight=3, max_depth=5, learning_rate=0.3 \n",
            "[01:06:24] WARNING: /workspace/src/objective/regression_obj.cu:152: reg:linear is now deprecated in favor of reg:squarederror.\n",
            "[CV]  subsample=0.6, n_estimators=100, min_child_weight=3, max_depth=5, learning_rate=0.3, total=   0.1s\n",
            "[CV] subsample=0.6, n_estimators=100, min_child_weight=3, max_depth=5, learning_rate=0.3 \n",
            "[01:06:24] WARNING: /workspace/src/objective/regression_obj.cu:152: reg:linear is now deprecated in favor of reg:squarederror.\n",
            "[CV]  subsample=0.6, n_estimators=100, min_child_weight=3, max_depth=5, learning_rate=0.3, total=   0.1s\n",
            "[CV] subsample=0.6, n_estimators=100, min_child_weight=3, max_depth=5, learning_rate=0.3 \n",
            "[01:06:24] WARNING: /workspace/src/objective/regression_obj.cu:152: reg:linear is now deprecated in favor of reg:squarederror.\n",
            "[CV]  subsample=0.6, n_estimators=100, min_child_weight=3, max_depth=5, learning_rate=0.3, total=   0.1s\n",
            "[CV] subsample=0.6, n_estimators=100, min_child_weight=3, max_depth=5, learning_rate=0.3 \n",
            "[01:06:25] WARNING: /workspace/src/objective/regression_obj.cu:152: reg:linear is now deprecated in favor of reg:squarederror.\n",
            "[CV]  subsample=0.6, n_estimators=100, min_child_weight=3, max_depth=5, learning_rate=0.3, total=   0.1s\n",
            "[CV] subsample=0.6, n_estimators=100, min_child_weight=3, max_depth=5, learning_rate=0.3 \n",
            "[01:06:25] WARNING: /workspace/src/objective/regression_obj.cu:152: reg:linear is now deprecated in favor of reg:squarederror.\n",
            "[CV]  subsample=0.6, n_estimators=100, min_child_weight=3, max_depth=5, learning_rate=0.3, total=   0.1s\n",
            "[CV] subsample=0.6, n_estimators=200, min_child_weight=3, max_depth=5, learning_rate=0.5 \n",
            "[01:06:25] WARNING: /workspace/src/objective/regression_obj.cu:152: reg:linear is now deprecated in favor of reg:squarederror.\n",
            "[CV]  subsample=0.6, n_estimators=200, min_child_weight=3, max_depth=5, learning_rate=0.5, total=   0.2s\n",
            "[CV] subsample=0.6, n_estimators=200, min_child_weight=3, max_depth=5, learning_rate=0.5 \n",
            "[01:06:25] WARNING: /workspace/src/objective/regression_obj.cu:152: reg:linear is now deprecated in favor of reg:squarederror.\n",
            "[CV]  subsample=0.6, n_estimators=200, min_child_weight=3, max_depth=5, learning_rate=0.5, total=   0.1s\n",
            "[CV] subsample=0.6, n_estimators=200, min_child_weight=3, max_depth=5, learning_rate=0.5 \n",
            "[01:06:25] WARNING: /workspace/src/objective/regression_obj.cu:152: reg:linear is now deprecated in favor of reg:squarederror.\n",
            "[CV]  subsample=0.6, n_estimators=200, min_child_weight=3, max_depth=5, learning_rate=0.5, total=   0.2s\n",
            "[CV] subsample=0.6, n_estimators=200, min_child_weight=3, max_depth=5, learning_rate=0.5 \n",
            "[01:06:25] WARNING: /workspace/src/objective/regression_obj.cu:152: reg:linear is now deprecated in favor of reg:squarederror.\n",
            "[CV]  subsample=0.6, n_estimators=200, min_child_weight=3, max_depth=5, learning_rate=0.5, total=   0.1s\n",
            "[CV] subsample=0.6, n_estimators=200, min_child_weight=3, max_depth=5, learning_rate=0.5 \n",
            "[01:06:25] WARNING: /workspace/src/objective/regression_obj.cu:152: reg:linear is now deprecated in favor of reg:squarederror.\n",
            "[CV]  subsample=0.6, n_estimators=200, min_child_weight=3, max_depth=5, learning_rate=0.5, total=   0.2s\n",
            "[CV] subsample=0.8, n_estimators=900, min_child_weight=3, max_depth=30, learning_rate=0.05 \n",
            "[01:06:25] WARNING: /workspace/src/objective/regression_obj.cu:152: reg:linear is now deprecated in favor of reg:squarederror.\n",
            "[CV]  subsample=0.8, n_estimators=900, min_child_weight=3, max_depth=30, learning_rate=0.05, total=   2.2s\n",
            "[CV] subsample=0.8, n_estimators=900, min_child_weight=3, max_depth=30, learning_rate=0.05 \n",
            "[01:06:28] WARNING: /workspace/src/objective/regression_obj.cu:152: reg:linear is now deprecated in favor of reg:squarederror.\n",
            "[CV]  subsample=0.8, n_estimators=900, min_child_weight=3, max_depth=30, learning_rate=0.05, total=   2.1s\n",
            "[CV] subsample=0.8, n_estimators=900, min_child_weight=3, max_depth=30, learning_rate=0.05 \n",
            "[01:06:30] WARNING: /workspace/src/objective/regression_obj.cu:152: reg:linear is now deprecated in favor of reg:squarederror.\n",
            "[CV]  subsample=0.8, n_estimators=900, min_child_weight=3, max_depth=30, learning_rate=0.05, total=   2.3s\n",
            "[CV] subsample=0.8, n_estimators=900, min_child_weight=3, max_depth=30, learning_rate=0.05 \n",
            "[01:06:32] WARNING: /workspace/src/objective/regression_obj.cu:152: reg:linear is now deprecated in favor of reg:squarederror.\n",
            "[CV]  subsample=0.8, n_estimators=900, min_child_weight=3, max_depth=30, learning_rate=0.05, total=   2.2s\n",
            "[CV] subsample=0.8, n_estimators=900, min_child_weight=3, max_depth=30, learning_rate=0.05 \n",
            "[01:06:34] WARNING: /workspace/src/objective/regression_obj.cu:152: reg:linear is now deprecated in favor of reg:squarederror.\n",
            "[CV]  subsample=0.8, n_estimators=900, min_child_weight=3, max_depth=30, learning_rate=0.05, total=   2.2s\n",
            "[CV] subsample=0.8, n_estimators=500, min_child_weight=7, max_depth=30, learning_rate=0.5 \n",
            "[01:06:36] WARNING: /workspace/src/objective/regression_obj.cu:152: reg:linear is now deprecated in favor of reg:squarederror.\n",
            "[CV]  subsample=0.8, n_estimators=500, min_child_weight=7, max_depth=30, learning_rate=0.5, total=   0.7s\n",
            "[CV] subsample=0.8, n_estimators=500, min_child_weight=7, max_depth=30, learning_rate=0.5 \n",
            "[01:06:37] WARNING: /workspace/src/objective/regression_obj.cu:152: reg:linear is now deprecated in favor of reg:squarederror.\n",
            "[CV]  subsample=0.8, n_estimators=500, min_child_weight=7, max_depth=30, learning_rate=0.5, total=   0.8s\n",
            "[CV] subsample=0.8, n_estimators=500, min_child_weight=7, max_depth=30, learning_rate=0.5 \n",
            "[01:06:38] WARNING: /workspace/src/objective/regression_obj.cu:152: reg:linear is now deprecated in favor of reg:squarederror.\n",
            "[CV]  subsample=0.8, n_estimators=500, min_child_weight=7, max_depth=30, learning_rate=0.5, total=   0.9s\n",
            "[CV] subsample=0.8, n_estimators=500, min_child_weight=7, max_depth=30, learning_rate=0.5 \n",
            "[01:06:39] WARNING: /workspace/src/objective/regression_obj.cu:152: reg:linear is now deprecated in favor of reg:squarederror.\n",
            "[CV]  subsample=0.8, n_estimators=500, min_child_weight=7, max_depth=30, learning_rate=0.5, total=   0.5s\n",
            "[CV] subsample=0.8, n_estimators=500, min_child_weight=7, max_depth=30, learning_rate=0.5 \n",
            "[01:06:39] WARNING: /workspace/src/objective/regression_obj.cu:152: reg:linear is now deprecated in favor of reg:squarederror.\n",
            "[CV]  subsample=0.8, n_estimators=500, min_child_weight=7, max_depth=30, learning_rate=0.5, total=   0.8s\n",
            "[CV] subsample=0.6, n_estimators=500, min_child_weight=6, max_depth=15, learning_rate=0.2 \n",
            "[01:06:40] WARNING: /workspace/src/objective/regression_obj.cu:152: reg:linear is now deprecated in favor of reg:squarederror.\n",
            "[CV]  subsample=0.6, n_estimators=500, min_child_weight=6, max_depth=15, learning_rate=0.2, total=   0.8s\n",
            "[CV] subsample=0.6, n_estimators=500, min_child_weight=6, max_depth=15, learning_rate=0.2 \n",
            "[01:06:41] WARNING: /workspace/src/objective/regression_obj.cu:152: reg:linear is now deprecated in favor of reg:squarederror.\n",
            "[CV]  subsample=0.6, n_estimators=500, min_child_weight=6, max_depth=15, learning_rate=0.2, total=   0.8s\n",
            "[CV] subsample=0.6, n_estimators=500, min_child_weight=6, max_depth=15, learning_rate=0.2 \n",
            "[01:06:42] WARNING: /workspace/src/objective/regression_obj.cu:152: reg:linear is now deprecated in favor of reg:squarederror.\n",
            "[CV]  subsample=0.6, n_estimators=500, min_child_weight=6, max_depth=15, learning_rate=0.2, total=   0.8s\n",
            "[CV] subsample=0.6, n_estimators=500, min_child_weight=6, max_depth=15, learning_rate=0.2 \n",
            "[01:06:43] WARNING: /workspace/src/objective/regression_obj.cu:152: reg:linear is now deprecated in favor of reg:squarederror.\n",
            "[CV]  subsample=0.6, n_estimators=500, min_child_weight=6, max_depth=15, learning_rate=0.2, total=   0.8s\n",
            "[CV] subsample=0.6, n_estimators=500, min_child_weight=6, max_depth=15, learning_rate=0.2 \n",
            "[01:06:43] WARNING: /workspace/src/objective/regression_obj.cu:152: reg:linear is now deprecated in favor of reg:squarederror.\n",
            "[CV]  subsample=0.6, n_estimators=500, min_child_weight=6, max_depth=15, learning_rate=0.2, total=   0.8s\n",
            "[CV] subsample=0.7, n_estimators=400, min_child_weight=3, max_depth=25, learning_rate=0.5 \n",
            "[01:06:44] WARNING: /workspace/src/objective/regression_obj.cu:152: reg:linear is now deprecated in favor of reg:squarederror.\n",
            "[CV]  subsample=0.7, n_estimators=400, min_child_weight=3, max_depth=25, learning_rate=0.5, total=   0.4s\n",
            "[CV] subsample=0.7, n_estimators=400, min_child_weight=3, max_depth=25, learning_rate=0.5 \n",
            "[01:06:45] WARNING: /workspace/src/objective/regression_obj.cu:152: reg:linear is now deprecated in favor of reg:squarederror.\n",
            "[CV]  subsample=0.7, n_estimators=400, min_child_weight=3, max_depth=25, learning_rate=0.5, total=   0.4s\n",
            "[CV] subsample=0.7, n_estimators=400, min_child_weight=3, max_depth=25, learning_rate=0.5 \n",
            "[01:06:45] WARNING: /workspace/src/objective/regression_obj.cu:152: reg:linear is now deprecated in favor of reg:squarederror.\n",
            "[CV]  subsample=0.7, n_estimators=400, min_child_weight=3, max_depth=25, learning_rate=0.5, total=   0.4s\n",
            "[CV] subsample=0.7, n_estimators=400, min_child_weight=3, max_depth=25, learning_rate=0.5 \n",
            "[01:06:46] WARNING: /workspace/src/objective/regression_obj.cu:152: reg:linear is now deprecated in favor of reg:squarederror.\n",
            "[CV]  subsample=0.7, n_estimators=400, min_child_weight=3, max_depth=25, learning_rate=0.5, total=   0.4s\n",
            "[CV] subsample=0.7, n_estimators=400, min_child_weight=3, max_depth=25, learning_rate=0.5 \n",
            "[01:06:46] WARNING: /workspace/src/objective/regression_obj.cu:152: reg:linear is now deprecated in favor of reg:squarederror.\n",
            "[CV]  subsample=0.7, n_estimators=400, min_child_weight=3, max_depth=25, learning_rate=0.5, total=   0.4s\n",
            "[CV] subsample=0.6, n_estimators=900, min_child_weight=3, max_depth=30, learning_rate=0.5 \n",
            "[01:06:46] WARNING: /workspace/src/objective/regression_obj.cu:152: reg:linear is now deprecated in favor of reg:squarederror.\n",
            "[CV]  subsample=0.6, n_estimators=900, min_child_weight=3, max_depth=30, learning_rate=0.5, total=   0.7s\n",
            "[CV] subsample=0.6, n_estimators=900, min_child_weight=3, max_depth=30, learning_rate=0.5 \n",
            "[01:06:47] WARNING: /workspace/src/objective/regression_obj.cu:152: reg:linear is now deprecated in favor of reg:squarederror.\n",
            "[CV]  subsample=0.6, n_estimators=900, min_child_weight=3, max_depth=30, learning_rate=0.5, total=   0.6s\n",
            "[CV] subsample=0.6, n_estimators=900, min_child_weight=3, max_depth=30, learning_rate=0.5 \n",
            "[01:06:48] WARNING: /workspace/src/objective/regression_obj.cu:152: reg:linear is now deprecated in favor of reg:squarederror.\n",
            "[CV]  subsample=0.6, n_estimators=900, min_child_weight=3, max_depth=30, learning_rate=0.5, total=   0.7s\n",
            "[CV] subsample=0.6, n_estimators=900, min_child_weight=3, max_depth=30, learning_rate=0.5 \n",
            "[01:06:48] WARNING: /workspace/src/objective/regression_obj.cu:152: reg:linear is now deprecated in favor of reg:squarederror.\n",
            "[CV]  subsample=0.6, n_estimators=900, min_child_weight=3, max_depth=30, learning_rate=0.5, total=   0.7s\n",
            "[CV] subsample=0.6, n_estimators=900, min_child_weight=3, max_depth=30, learning_rate=0.5 \n",
            "[01:06:49] WARNING: /workspace/src/objective/regression_obj.cu:152: reg:linear is now deprecated in favor of reg:squarederror.\n",
            "[CV]  subsample=0.6, n_estimators=900, min_child_weight=3, max_depth=30, learning_rate=0.5, total=   0.6s\n",
            "[CV] subsample=0.7, n_estimators=600, min_child_weight=6, max_depth=25, learning_rate=0.6 \n",
            "[01:06:50] WARNING: /workspace/src/objective/regression_obj.cu:152: reg:linear is now deprecated in favor of reg:squarederror.\n",
            "[CV]  subsample=0.7, n_estimators=600, min_child_weight=6, max_depth=25, learning_rate=0.6, total=   0.5s\n",
            "[CV] subsample=0.7, n_estimators=600, min_child_weight=6, max_depth=25, learning_rate=0.6 \n",
            "[01:06:50] WARNING: /workspace/src/objective/regression_obj.cu:152: reg:linear is now deprecated in favor of reg:squarederror.\n",
            "[CV]  subsample=0.7, n_estimators=600, min_child_weight=6, max_depth=25, learning_rate=0.6, total=   0.6s\n",
            "[CV] subsample=0.7, n_estimators=600, min_child_weight=6, max_depth=25, learning_rate=0.6 \n",
            "[01:06:51] WARNING: /workspace/src/objective/regression_obj.cu:152: reg:linear is now deprecated in favor of reg:squarederror.\n",
            "[CV]  subsample=0.7, n_estimators=600, min_child_weight=6, max_depth=25, learning_rate=0.6, total=   0.7s\n",
            "[CV] subsample=0.7, n_estimators=600, min_child_weight=6, max_depth=25, learning_rate=0.6 \n",
            "[01:06:51] WARNING: /workspace/src/objective/regression_obj.cu:152: reg:linear is now deprecated in favor of reg:squarederror.\n",
            "[CV]  subsample=0.7, n_estimators=600, min_child_weight=6, max_depth=25, learning_rate=0.6, total=   1.2s\n",
            "[CV] subsample=0.7, n_estimators=600, min_child_weight=6, max_depth=25, learning_rate=0.6 \n",
            "[01:06:53] WARNING: /workspace/src/objective/regression_obj.cu:152: reg:linear is now deprecated in favor of reg:squarederror.\n",
            "[CV]  subsample=0.7, n_estimators=600, min_child_weight=6, max_depth=25, learning_rate=0.6, total=   1.0s\n",
            "[CV] subsample=0.7, n_estimators=100, min_child_weight=4, max_depth=10, learning_rate=0.05 \n",
            "[01:06:54] WARNING: /workspace/src/objective/regression_obj.cu:152: reg:linear is now deprecated in favor of reg:squarederror.\n",
            "[CV]  subsample=0.7, n_estimators=100, min_child_weight=4, max_depth=10, learning_rate=0.05, total=   0.1s\n",
            "[CV] subsample=0.7, n_estimators=100, min_child_weight=4, max_depth=10, learning_rate=0.05 \n",
            "[01:06:54] WARNING: /workspace/src/objective/regression_obj.cu:152: reg:linear is now deprecated in favor of reg:squarederror.\n",
            "[CV]  subsample=0.7, n_estimators=100, min_child_weight=4, max_depth=10, learning_rate=0.05, total=   0.1s\n",
            "[CV] subsample=0.7, n_estimators=100, min_child_weight=4, max_depth=10, learning_rate=0.05 \n",
            "[01:06:54] WARNING: /workspace/src/objective/regression_obj.cu:152: reg:linear is now deprecated in favor of reg:squarederror.\n",
            "[CV]  subsample=0.7, n_estimators=100, min_child_weight=4, max_depth=10, learning_rate=0.05, total=   0.1s\n",
            "[CV] subsample=0.7, n_estimators=100, min_child_weight=4, max_depth=10, learning_rate=0.05 \n",
            "[01:06:54] WARNING: /workspace/src/objective/regression_obj.cu:152: reg:linear is now deprecated in favor of reg:squarederror.\n",
            "[CV]  subsample=0.7, n_estimators=100, min_child_weight=4, max_depth=10, learning_rate=0.05, total=   0.1s\n",
            "[CV] subsample=0.7, n_estimators=100, min_child_weight=4, max_depth=10, learning_rate=0.05 \n",
            "[01:06:54] WARNING: /workspace/src/objective/regression_obj.cu:152: reg:linear is now deprecated in favor of reg:squarederror.\n",
            "[CV]  subsample=0.7, n_estimators=100, min_child_weight=4, max_depth=10, learning_rate=0.05, total=   0.1s\n",
            "[CV] subsample=0.7, n_estimators=700, min_child_weight=7, max_depth=5, learning_rate=0.2 \n",
            "[01:06:54] WARNING: /workspace/src/objective/regression_obj.cu:152: reg:linear is now deprecated in favor of reg:squarederror.\n",
            "[CV]  subsample=0.7, n_estimators=700, min_child_weight=7, max_depth=5, learning_rate=0.2, total=   0.5s\n",
            "[CV] subsample=0.7, n_estimators=700, min_child_weight=7, max_depth=5, learning_rate=0.2 \n",
            "[01:06:55] WARNING: /workspace/src/objective/regression_obj.cu:152: reg:linear is now deprecated in favor of reg:squarederror.\n",
            "[CV]  subsample=0.7, n_estimators=700, min_child_weight=7, max_depth=5, learning_rate=0.2, total=   0.5s\n",
            "[CV] subsample=0.7, n_estimators=700, min_child_weight=7, max_depth=5, learning_rate=0.2 \n",
            "[01:06:55] WARNING: /workspace/src/objective/regression_obj.cu:152: reg:linear is now deprecated in favor of reg:squarederror.\n",
            "[CV]  subsample=0.7, n_estimators=700, min_child_weight=7, max_depth=5, learning_rate=0.2, total=   0.5s\n",
            "[CV] subsample=0.7, n_estimators=700, min_child_weight=7, max_depth=5, learning_rate=0.2 \n",
            "[01:06:56] WARNING: /workspace/src/objective/regression_obj.cu:152: reg:linear is now deprecated in favor of reg:squarederror.\n",
            "[CV]  subsample=0.7, n_estimators=700, min_child_weight=7, max_depth=5, learning_rate=0.2, total=   0.5s\n",
            "[CV] subsample=0.7, n_estimators=700, min_child_weight=7, max_depth=5, learning_rate=0.2 \n",
            "[01:06:56] WARNING: /workspace/src/objective/regression_obj.cu:152: reg:linear is now deprecated in favor of reg:squarederror.\n",
            "[CV]  subsample=0.7, n_estimators=700, min_child_weight=7, max_depth=5, learning_rate=0.2, total=   0.5s\n",
            "[CV] subsample=0.6, n_estimators=100, min_child_weight=4, max_depth=30, learning_rate=0.6 \n",
            "[01:06:57] WARNING: /workspace/src/objective/regression_obj.cu:152: reg:linear is now deprecated in favor of reg:squarederror.\n",
            "[CV]  subsample=0.6, n_estimators=100, min_child_weight=4, max_depth=30, learning_rate=0.6, total=   0.2s\n",
            "[CV] subsample=0.6, n_estimators=100, min_child_weight=4, max_depth=30, learning_rate=0.6 \n",
            "[01:06:57] WARNING: /workspace/src/objective/regression_obj.cu:152: reg:linear is now deprecated in favor of reg:squarederror.\n",
            "[CV]  subsample=0.6, n_estimators=100, min_child_weight=4, max_depth=30, learning_rate=0.6, total=   0.2s\n",
            "[CV] subsample=0.6, n_estimators=100, min_child_weight=4, max_depth=30, learning_rate=0.6 \n",
            "[01:06:57] WARNING: /workspace/src/objective/regression_obj.cu:152: reg:linear is now deprecated in favor of reg:squarederror.\n",
            "[CV]  subsample=0.6, n_estimators=100, min_child_weight=4, max_depth=30, learning_rate=0.6, total=   0.2s\n",
            "[CV] subsample=0.6, n_estimators=100, min_child_weight=4, max_depth=30, learning_rate=0.6 \n",
            "[01:06:57] WARNING: /workspace/src/objective/regression_obj.cu:152: reg:linear is now deprecated in favor of reg:squarederror.\n",
            "[CV]  subsample=0.6, n_estimators=100, min_child_weight=4, max_depth=30, learning_rate=0.6, total=   0.2s\n",
            "[CV] subsample=0.6, n_estimators=100, min_child_weight=4, max_depth=30, learning_rate=0.6 \n",
            "[01:06:58] WARNING: /workspace/src/objective/regression_obj.cu:152: reg:linear is now deprecated in favor of reg:squarederror.\n",
            "[CV]  subsample=0.6, n_estimators=100, min_child_weight=4, max_depth=30, learning_rate=0.6, total=   0.2s\n",
            "[CV] subsample=0.6, n_estimators=100, min_child_weight=4, max_depth=25, learning_rate=0.05 \n",
            "[01:06:58] WARNING: /workspace/src/objective/regression_obj.cu:152: reg:linear is now deprecated in favor of reg:squarederror.\n",
            "[CV]  subsample=0.6, n_estimators=100, min_child_weight=4, max_depth=25, learning_rate=0.05, total=   0.2s\n",
            "[CV] subsample=0.6, n_estimators=100, min_child_weight=4, max_depth=25, learning_rate=0.05 \n",
            "[01:06:58] WARNING: /workspace/src/objective/regression_obj.cu:152: reg:linear is now deprecated in favor of reg:squarederror.\n",
            "[CV]  subsample=0.6, n_estimators=100, min_child_weight=4, max_depth=25, learning_rate=0.05, total=   0.2s\n",
            "[CV] subsample=0.6, n_estimators=100, min_child_weight=4, max_depth=25, learning_rate=0.05 \n",
            "[01:06:58] WARNING: /workspace/src/objective/regression_obj.cu:152: reg:linear is now deprecated in favor of reg:squarederror.\n",
            "[CV]  subsample=0.6, n_estimators=100, min_child_weight=4, max_depth=25, learning_rate=0.05, total=   0.2s\n",
            "[CV] subsample=0.6, n_estimators=100, min_child_weight=4, max_depth=25, learning_rate=0.05 \n",
            "[01:06:58] WARNING: /workspace/src/objective/regression_obj.cu:152: reg:linear is now deprecated in favor of reg:squarederror.\n",
            "[CV]  subsample=0.6, n_estimators=100, min_child_weight=4, max_depth=25, learning_rate=0.05, total=   0.2s\n",
            "[CV] subsample=0.6, n_estimators=100, min_child_weight=4, max_depth=25, learning_rate=0.05 \n",
            "[01:06:59] WARNING: /workspace/src/objective/regression_obj.cu:152: reg:linear is now deprecated in favor of reg:squarederror.\n",
            "[CV]  subsample=0.6, n_estimators=100, min_child_weight=4, max_depth=25, learning_rate=0.05, total=   0.2s\n",
            "[CV] subsample=0.6, n_estimators=900, min_child_weight=5, max_depth=5, learning_rate=0.05 \n",
            "[01:06:59] WARNING: /workspace/src/objective/regression_obj.cu:152: reg:linear is now deprecated in favor of reg:squarederror.\n",
            "[CV]  subsample=0.6, n_estimators=900, min_child_weight=5, max_depth=5, learning_rate=0.05, total=   0.6s\n",
            "[CV] subsample=0.6, n_estimators=900, min_child_weight=5, max_depth=5, learning_rate=0.05 \n",
            "[01:06:59] WARNING: /workspace/src/objective/regression_obj.cu:152: reg:linear is now deprecated in favor of reg:squarederror.\n",
            "[CV]  subsample=0.6, n_estimators=900, min_child_weight=5, max_depth=5, learning_rate=0.05, total=   0.6s\n",
            "[CV] subsample=0.6, n_estimators=900, min_child_weight=5, max_depth=5, learning_rate=0.05 \n",
            "[01:07:00] WARNING: /workspace/src/objective/regression_obj.cu:152: reg:linear is now deprecated in favor of reg:squarederror.\n",
            "[CV]  subsample=0.6, n_estimators=900, min_child_weight=5, max_depth=5, learning_rate=0.05, total=   0.6s\n",
            "[CV] subsample=0.6, n_estimators=900, min_child_weight=5, max_depth=5, learning_rate=0.05 \n",
            "[01:07:01] WARNING: /workspace/src/objective/regression_obj.cu:152: reg:linear is now deprecated in favor of reg:squarederror.\n",
            "[CV]  subsample=0.6, n_estimators=900, min_child_weight=5, max_depth=5, learning_rate=0.05, total=   0.6s\n",
            "[CV] subsample=0.6, n_estimators=900, min_child_weight=5, max_depth=5, learning_rate=0.05 \n",
            "[01:07:01] WARNING: /workspace/src/objective/regression_obj.cu:152: reg:linear is now deprecated in favor of reg:squarederror.\n",
            "[CV]  subsample=0.6, n_estimators=900, min_child_weight=5, max_depth=5, learning_rate=0.05, total=   0.6s\n",
            "[CV] subsample=0.7, n_estimators=800, min_child_weight=5, max_depth=25, learning_rate=0.6 \n",
            "[01:07:02] WARNING: /workspace/src/objective/regression_obj.cu:152: reg:linear is now deprecated in favor of reg:squarederror.\n",
            "[CV]  subsample=0.7, n_estimators=800, min_child_weight=5, max_depth=25, learning_rate=0.6, total=   0.7s\n",
            "[CV] subsample=0.7, n_estimators=800, min_child_weight=5, max_depth=25, learning_rate=0.6 \n",
            "[01:07:03] WARNING: /workspace/src/objective/regression_obj.cu:152: reg:linear is now deprecated in favor of reg:squarederror.\n",
            "[CV]  subsample=0.7, n_estimators=800, min_child_weight=5, max_depth=25, learning_rate=0.6, total=   0.8s\n",
            "[CV] subsample=0.7, n_estimators=800, min_child_weight=5, max_depth=25, learning_rate=0.6 \n",
            "[01:07:03] WARNING: /workspace/src/objective/regression_obj.cu:152: reg:linear is now deprecated in favor of reg:squarederror.\n",
            "[CV]  subsample=0.7, n_estimators=800, min_child_weight=5, max_depth=25, learning_rate=0.6, total=   0.5s\n",
            "[CV] subsample=0.7, n_estimators=800, min_child_weight=5, max_depth=25, learning_rate=0.6 \n",
            "[01:07:04] WARNING: /workspace/src/objective/regression_obj.cu:152: reg:linear is now deprecated in favor of reg:squarederror.\n",
            "[CV]  subsample=0.7, n_estimators=800, min_child_weight=5, max_depth=25, learning_rate=0.6, total=   1.0s\n",
            "[CV] subsample=0.7, n_estimators=800, min_child_weight=5, max_depth=25, learning_rate=0.6 \n",
            "[01:07:05] WARNING: /workspace/src/objective/regression_obj.cu:152: reg:linear is now deprecated in favor of reg:squarederror.\n",
            "[CV]  subsample=0.7, n_estimators=800, min_child_weight=5, max_depth=25, learning_rate=0.6, total=   0.9s\n",
            "[CV] subsample=0.8, n_estimators=400, min_child_weight=4, max_depth=15, learning_rate=0.1 \n",
            "[01:07:06] WARNING: /workspace/src/objective/regression_obj.cu:152: reg:linear is now deprecated in favor of reg:squarederror.\n",
            "[CV]  subsample=0.8, n_estimators=400, min_child_weight=4, max_depth=15, learning_rate=0.1, total=   0.8s\n",
            "[CV] subsample=0.8, n_estimators=400, min_child_weight=4, max_depth=15, learning_rate=0.1 \n",
            "[01:07:07] WARNING: /workspace/src/objective/regression_obj.cu:152: reg:linear is now deprecated in favor of reg:squarederror.\n",
            "[CV]  subsample=0.8, n_estimators=400, min_child_weight=4, max_depth=15, learning_rate=0.1, total=   0.8s\n",
            "[CV] subsample=0.8, n_estimators=400, min_child_weight=4, max_depth=15, learning_rate=0.1 \n",
            "[01:07:07] WARNING: /workspace/src/objective/regression_obj.cu:152: reg:linear is now deprecated in favor of reg:squarederror.\n",
            "[CV]  subsample=0.8, n_estimators=400, min_child_weight=4, max_depth=15, learning_rate=0.1, total=   0.7s\n",
            "[CV] subsample=0.8, n_estimators=400, min_child_weight=4, max_depth=15, learning_rate=0.1 \n",
            "[01:07:08] WARNING: /workspace/src/objective/regression_obj.cu:152: reg:linear is now deprecated in favor of reg:squarederror.\n",
            "[CV]  subsample=0.8, n_estimators=400, min_child_weight=4, max_depth=15, learning_rate=0.1, total=   0.8s\n",
            "[CV] subsample=0.8, n_estimators=400, min_child_weight=4, max_depth=15, learning_rate=0.1 \n",
            "[01:07:09] WARNING: /workspace/src/objective/regression_obj.cu:152: reg:linear is now deprecated in favor of reg:squarederror.\n",
            "[CV]  subsample=0.8, n_estimators=400, min_child_weight=4, max_depth=15, learning_rate=0.1, total=   0.8s\n",
            "[CV] subsample=0.7, n_estimators=400, min_child_weight=5, max_depth=30, learning_rate=0.05 \n",
            "[01:07:10] WARNING: /workspace/src/objective/regression_obj.cu:152: reg:linear is now deprecated in favor of reg:squarederror.\n",
            "[CV]  subsample=0.7, n_estimators=400, min_child_weight=5, max_depth=30, learning_rate=0.05, total=   0.8s\n",
            "[CV] subsample=0.7, n_estimators=400, min_child_weight=5, max_depth=30, learning_rate=0.05 \n",
            "[01:07:10] WARNING: /workspace/src/objective/regression_obj.cu:152: reg:linear is now deprecated in favor of reg:squarederror.\n",
            "[CV]  subsample=0.7, n_estimators=400, min_child_weight=5, max_depth=30, learning_rate=0.05, total=   0.7s\n",
            "[CV] subsample=0.7, n_estimators=400, min_child_weight=5, max_depth=30, learning_rate=0.05 \n",
            "[01:07:11] WARNING: /workspace/src/objective/regression_obj.cu:152: reg:linear is now deprecated in favor of reg:squarederror.\n",
            "[CV]  subsample=0.7, n_estimators=400, min_child_weight=5, max_depth=30, learning_rate=0.05, total=   0.8s\n",
            "[CV] subsample=0.7, n_estimators=400, min_child_weight=5, max_depth=30, learning_rate=0.05 \n",
            "[01:07:12] WARNING: /workspace/src/objective/regression_obj.cu:152: reg:linear is now deprecated in favor of reg:squarederror.\n",
            "[CV]  subsample=0.7, n_estimators=400, min_child_weight=5, max_depth=30, learning_rate=0.05, total=   0.8s\n",
            "[CV] subsample=0.7, n_estimators=400, min_child_weight=5, max_depth=30, learning_rate=0.05 \n",
            "[01:07:13] WARNING: /workspace/src/objective/regression_obj.cu:152: reg:linear is now deprecated in favor of reg:squarederror.\n",
            "[CV]  subsample=0.7, n_estimators=400, min_child_weight=5, max_depth=30, learning_rate=0.05, total=   0.8s\n",
            "[CV] subsample=0.7, n_estimators=300, min_child_weight=6, max_depth=10, learning_rate=0.1 \n",
            "[01:07:13] WARNING: /workspace/src/objective/regression_obj.cu:152: reg:linear is now deprecated in favor of reg:squarederror.\n",
            "[CV]  subsample=0.7, n_estimators=300, min_child_weight=6, max_depth=10, learning_rate=0.1, total=   0.4s\n",
            "[CV] subsample=0.7, n_estimators=300, min_child_weight=6, max_depth=10, learning_rate=0.1 \n",
            "[01:07:14] WARNING: /workspace/src/objective/regression_obj.cu:152: reg:linear is now deprecated in favor of reg:squarederror.\n",
            "[CV]  subsample=0.7, n_estimators=300, min_child_weight=6, max_depth=10, learning_rate=0.1, total=   0.4s\n",
            "[CV] subsample=0.7, n_estimators=300, min_child_weight=6, max_depth=10, learning_rate=0.1 \n",
            "[01:07:14] WARNING: /workspace/src/objective/regression_obj.cu:152: reg:linear is now deprecated in favor of reg:squarederror.\n",
            "[CV]  subsample=0.7, n_estimators=300, min_child_weight=6, max_depth=10, learning_rate=0.1, total=   0.4s\n",
            "[CV] subsample=0.7, n_estimators=300, min_child_weight=6, max_depth=10, learning_rate=0.1 \n",
            "[01:07:15] WARNING: /workspace/src/objective/regression_obj.cu:152: reg:linear is now deprecated in favor of reg:squarederror.\n",
            "[CV]  subsample=0.7, n_estimators=300, min_child_weight=6, max_depth=10, learning_rate=0.1, total=   0.4s\n",
            "[CV] subsample=0.7, n_estimators=300, min_child_weight=6, max_depth=10, learning_rate=0.1 \n",
            "[01:07:15] WARNING: /workspace/src/objective/regression_obj.cu:152: reg:linear is now deprecated in favor of reg:squarederror.\n",
            "[CV]  subsample=0.7, n_estimators=300, min_child_weight=6, max_depth=10, learning_rate=0.1, total=   0.4s\n",
            "[CV] subsample=0.8, n_estimators=1100, min_child_weight=5, max_depth=25, learning_rate=0.6 \n",
            "[01:07:15] WARNING: /workspace/src/objective/regression_obj.cu:152: reg:linear is now deprecated in favor of reg:squarederror.\n",
            "[CV]  subsample=0.8, n_estimators=1100, min_child_weight=5, max_depth=25, learning_rate=0.6, total=   0.6s\n",
            "[CV] subsample=0.8, n_estimators=1100, min_child_weight=5, max_depth=25, learning_rate=0.6 \n",
            "[01:07:16] WARNING: /workspace/src/objective/regression_obj.cu:152: reg:linear is now deprecated in favor of reg:squarederror.\n",
            "[CV]  subsample=0.8, n_estimators=1100, min_child_weight=5, max_depth=25, learning_rate=0.6, total=   0.6s\n",
            "[CV] subsample=0.8, n_estimators=1100, min_child_weight=5, max_depth=25, learning_rate=0.6 \n",
            "[01:07:17] WARNING: /workspace/src/objective/regression_obj.cu:152: reg:linear is now deprecated in favor of reg:squarederror.\n",
            "[CV]  subsample=0.8, n_estimators=1100, min_child_weight=5, max_depth=25, learning_rate=0.6, total=   0.6s\n",
            "[CV] subsample=0.8, n_estimators=1100, min_child_weight=5, max_depth=25, learning_rate=0.6 \n",
            "[01:07:17] WARNING: /workspace/src/objective/regression_obj.cu:152: reg:linear is now deprecated in favor of reg:squarederror.\n",
            "[CV]  subsample=0.8, n_estimators=1100, min_child_weight=5, max_depth=25, learning_rate=0.6, total=   0.7s\n",
            "[CV] subsample=0.8, n_estimators=1100, min_child_weight=5, max_depth=25, learning_rate=0.6 \n",
            "[01:07:18] WARNING: /workspace/src/objective/regression_obj.cu:152: reg:linear is now deprecated in favor of reg:squarederror.\n",
            "[CV]  subsample=0.8, n_estimators=1100, min_child_weight=5, max_depth=25, learning_rate=0.6, total=   0.7s\n",
            "[CV] subsample=0.8, n_estimators=800, min_child_weight=5, max_depth=20, learning_rate=0.2 \n",
            "[01:07:19] WARNING: /workspace/src/objective/regression_obj.cu:152: reg:linear is now deprecated in favor of reg:squarederror.\n",
            "[CV]  subsample=0.8, n_estimators=800, min_child_weight=5, max_depth=20, learning_rate=0.2, total=   1.4s\n",
            "[CV] subsample=0.8, n_estimators=800, min_child_weight=5, max_depth=20, learning_rate=0.2 \n",
            "[01:07:20] WARNING: /workspace/src/objective/regression_obj.cu:152: reg:linear is now deprecated in favor of reg:squarederror.\n",
            "[CV]  subsample=0.8, n_estimators=800, min_child_weight=5, max_depth=20, learning_rate=0.2, total=   1.3s\n",
            "[CV] subsample=0.8, n_estimators=800, min_child_weight=5, max_depth=20, learning_rate=0.2 \n",
            "[01:07:21] WARNING: /workspace/src/objective/regression_obj.cu:152: reg:linear is now deprecated in favor of reg:squarederror.\n",
            "[CV]  subsample=0.8, n_estimators=800, min_child_weight=5, max_depth=20, learning_rate=0.2, total=   1.4s\n",
            "[CV] subsample=0.8, n_estimators=800, min_child_weight=5, max_depth=20, learning_rate=0.2 \n",
            "[01:07:23] WARNING: /workspace/src/objective/regression_obj.cu:152: reg:linear is now deprecated in favor of reg:squarederror.\n",
            "[CV]  subsample=0.8, n_estimators=800, min_child_weight=5, max_depth=20, learning_rate=0.2, total=   1.6s\n",
            "[CV] subsample=0.8, n_estimators=800, min_child_weight=5, max_depth=20, learning_rate=0.2 \n",
            "[01:07:24] WARNING: /workspace/src/objective/regression_obj.cu:152: reg:linear is now deprecated in favor of reg:squarederror.\n",
            "[CV]  subsample=0.8, n_estimators=800, min_child_weight=5, max_depth=20, learning_rate=0.2, total=   1.5s\n",
            "[CV] subsample=0.7, n_estimators=100, min_child_weight=4, max_depth=5, learning_rate=0.3 \n",
            "[01:07:26] WARNING: /workspace/src/objective/regression_obj.cu:152: reg:linear is now deprecated in favor of reg:squarederror.\n",
            "[CV]  subsample=0.7, n_estimators=100, min_child_weight=4, max_depth=5, learning_rate=0.3, total=   0.1s\n",
            "[CV] subsample=0.7, n_estimators=100, min_child_weight=4, max_depth=5, learning_rate=0.3 \n",
            "[01:07:26] WARNING: /workspace/src/objective/regression_obj.cu:152: reg:linear is now deprecated in favor of reg:squarederror.\n",
            "[CV]  subsample=0.7, n_estimators=100, min_child_weight=4, max_depth=5, learning_rate=0.3, total=   0.1s\n",
            "[CV] subsample=0.7, n_estimators=100, min_child_weight=4, max_depth=5, learning_rate=0.3 \n",
            "[01:07:26] WARNING: /workspace/src/objective/regression_obj.cu:152: reg:linear is now deprecated in favor of reg:squarederror.\n",
            "[CV]  subsample=0.7, n_estimators=100, min_child_weight=4, max_depth=5, learning_rate=0.3, total=   0.1s\n",
            "[CV] subsample=0.7, n_estimators=100, min_child_weight=4, max_depth=5, learning_rate=0.3 \n",
            "[01:07:26] WARNING: /workspace/src/objective/regression_obj.cu:152: reg:linear is now deprecated in favor of reg:squarederror.\n",
            "[CV]  subsample=0.7, n_estimators=100, min_child_weight=4, max_depth=5, learning_rate=0.3, total=   0.1s\n",
            "[CV] subsample=0.7, n_estimators=100, min_child_weight=4, max_depth=5, learning_rate=0.3 \n",
            "[01:07:26] WARNING: /workspace/src/objective/regression_obj.cu:152: reg:linear is now deprecated in favor of reg:squarederror.\n",
            "[CV]  subsample=0.7, n_estimators=100, min_child_weight=4, max_depth=5, learning_rate=0.3, total=   0.1s\n",
            "[CV] subsample=0.8, n_estimators=800, min_child_weight=3, max_depth=20, learning_rate=0.5 \n",
            "[01:07:26] WARNING: /workspace/src/objective/regression_obj.cu:152: reg:linear is now deprecated in favor of reg:squarederror.\n",
            "[CV]  subsample=0.8, n_estimators=800, min_child_weight=3, max_depth=20, learning_rate=0.5, total=   0.4s\n",
            "[CV] subsample=0.8, n_estimators=800, min_child_weight=3, max_depth=20, learning_rate=0.5 \n",
            "[01:07:27] WARNING: /workspace/src/objective/regression_obj.cu:152: reg:linear is now deprecated in favor of reg:squarederror.\n",
            "[CV]  subsample=0.8, n_estimators=800, min_child_weight=3, max_depth=20, learning_rate=0.5, total=   0.4s\n",
            "[CV] subsample=0.8, n_estimators=800, min_child_weight=3, max_depth=20, learning_rate=0.5 \n",
            "[01:07:27] WARNING: /workspace/src/objective/regression_obj.cu:152: reg:linear is now deprecated in favor of reg:squarederror.\n",
            "[CV]  subsample=0.8, n_estimators=800, min_child_weight=3, max_depth=20, learning_rate=0.5, total=   0.4s\n",
            "[CV] subsample=0.8, n_estimators=800, min_child_weight=3, max_depth=20, learning_rate=0.5 \n",
            "[01:07:27] WARNING: /workspace/src/objective/regression_obj.cu:152: reg:linear is now deprecated in favor of reg:squarederror.\n",
            "[CV]  subsample=0.8, n_estimators=800, min_child_weight=3, max_depth=20, learning_rate=0.5, total=   0.5s\n",
            "[CV] subsample=0.8, n_estimators=800, min_child_weight=3, max_depth=20, learning_rate=0.5 \n",
            "[01:07:28] WARNING: /workspace/src/objective/regression_obj.cu:152: reg:linear is now deprecated in favor of reg:squarederror.\n",
            "[CV]  subsample=0.8, n_estimators=800, min_child_weight=3, max_depth=20, learning_rate=0.5, total=   0.4s\n",
            "[CV] subsample=0.7, n_estimators=900, min_child_weight=6, max_depth=5, learning_rate=0.5 \n",
            "[01:07:28] WARNING: /workspace/src/objective/regression_obj.cu:152: reg:linear is now deprecated in favor of reg:squarederror.\n",
            "[CV]  subsample=0.7, n_estimators=900, min_child_weight=6, max_depth=5, learning_rate=0.5, total=   0.5s\n",
            "[CV] subsample=0.7, n_estimators=900, min_child_weight=6, max_depth=5, learning_rate=0.5 \n",
            "[01:07:29] WARNING: /workspace/src/objective/regression_obj.cu:152: reg:linear is now deprecated in favor of reg:squarederror.\n",
            "[CV]  subsample=0.7, n_estimators=900, min_child_weight=6, max_depth=5, learning_rate=0.5, total=   0.5s\n",
            "[CV] subsample=0.7, n_estimators=900, min_child_weight=6, max_depth=5, learning_rate=0.5 \n",
            "[01:07:29] WARNING: /workspace/src/objective/regression_obj.cu:152: reg:linear is now deprecated in favor of reg:squarederror.\n",
            "[CV]  subsample=0.7, n_estimators=900, min_child_weight=6, max_depth=5, learning_rate=0.5, total=   0.5s\n",
            "[CV] subsample=0.7, n_estimators=900, min_child_weight=6, max_depth=5, learning_rate=0.5 \n",
            "[01:07:30] WARNING: /workspace/src/objective/regression_obj.cu:152: reg:linear is now deprecated in favor of reg:squarederror.\n",
            "[CV]  subsample=0.7, n_estimators=900, min_child_weight=6, max_depth=5, learning_rate=0.5, total=   0.5s\n",
            "[CV] subsample=0.7, n_estimators=900, min_child_weight=6, max_depth=5, learning_rate=0.5 \n",
            "[01:07:30] WARNING: /workspace/src/objective/regression_obj.cu:152: reg:linear is now deprecated in favor of reg:squarederror.\n",
            "[CV]  subsample=0.7, n_estimators=900, min_child_weight=6, max_depth=5, learning_rate=0.5, total=   0.5s\n",
            "[CV] subsample=0.7, n_estimators=100, min_child_weight=7, max_depth=5, learning_rate=0.6 \n",
            "[01:07:31] WARNING: /workspace/src/objective/regression_obj.cu:152: reg:linear is now deprecated in favor of reg:squarederror.\n",
            "[CV]  subsample=0.7, n_estimators=100, min_child_weight=7, max_depth=5, learning_rate=0.6, total=   0.1s\n",
            "[CV] subsample=0.7, n_estimators=100, min_child_weight=7, max_depth=5, learning_rate=0.6 \n",
            "[01:07:31] WARNING: /workspace/src/objective/regression_obj.cu:152: reg:linear is now deprecated in favor of reg:squarederror.\n",
            "[CV]  subsample=0.7, n_estimators=100, min_child_weight=7, max_depth=5, learning_rate=0.6, total=   0.1s\n",
            "[CV] subsample=0.7, n_estimators=100, min_child_weight=7, max_depth=5, learning_rate=0.6 \n",
            "[01:07:31] WARNING: /workspace/src/objective/regression_obj.cu:152: reg:linear is now deprecated in favor of reg:squarederror.\n",
            "[CV]  subsample=0.7, n_estimators=100, min_child_weight=7, max_depth=5, learning_rate=0.6, total=   0.1s\n",
            "[CV] subsample=0.7, n_estimators=100, min_child_weight=7, max_depth=5, learning_rate=0.6 \n",
            "[01:07:31] WARNING: /workspace/src/objective/regression_obj.cu:152: reg:linear is now deprecated in favor of reg:squarederror.\n",
            "[CV]  subsample=0.7, n_estimators=100, min_child_weight=7, max_depth=5, learning_rate=0.6, total=   0.1s\n",
            "[CV] subsample=0.7, n_estimators=100, min_child_weight=7, max_depth=5, learning_rate=0.6 \n",
            "[01:07:31] WARNING: /workspace/src/objective/regression_obj.cu:152: reg:linear is now deprecated in favor of reg:squarederror.\n",
            "[CV]  subsample=0.7, n_estimators=100, min_child_weight=7, max_depth=5, learning_rate=0.6, total=   0.1s\n",
            "[CV] subsample=0.8, n_estimators=200, min_child_weight=6, max_depth=10, learning_rate=0.2 \n",
            "[01:07:31] WARNING: /workspace/src/objective/regression_obj.cu:152: reg:linear is now deprecated in favor of reg:squarederror.\n",
            "[CV]  subsample=0.8, n_estimators=200, min_child_weight=6, max_depth=10, learning_rate=0.2, total=   0.3s\n",
            "[CV] subsample=0.8, n_estimators=200, min_child_weight=6, max_depth=10, learning_rate=0.2 \n",
            "[01:07:31] WARNING: /workspace/src/objective/regression_obj.cu:152: reg:linear is now deprecated in favor of reg:squarederror.\n",
            "[CV]  subsample=0.8, n_estimators=200, min_child_weight=6, max_depth=10, learning_rate=0.2, total=   0.3s\n",
            "[CV] subsample=0.8, n_estimators=200, min_child_weight=6, max_depth=10, learning_rate=0.2 \n",
            "[01:07:32] WARNING: /workspace/src/objective/regression_obj.cu:152: reg:linear is now deprecated in favor of reg:squarederror.\n",
            "[CV]  subsample=0.8, n_estimators=200, min_child_weight=6, max_depth=10, learning_rate=0.2, total=   0.3s\n",
            "[CV] subsample=0.8, n_estimators=200, min_child_weight=6, max_depth=10, learning_rate=0.2 \n",
            "[01:07:32] WARNING: /workspace/src/objective/regression_obj.cu:152: reg:linear is now deprecated in favor of reg:squarederror.\n",
            "[CV]  subsample=0.8, n_estimators=200, min_child_weight=6, max_depth=10, learning_rate=0.2, total=   0.3s\n",
            "[CV] subsample=0.8, n_estimators=200, min_child_weight=6, max_depth=10, learning_rate=0.2 \n",
            "[01:07:32] WARNING: /workspace/src/objective/regression_obj.cu:152: reg:linear is now deprecated in favor of reg:squarederror.\n",
            "[CV]  subsample=0.8, n_estimators=200, min_child_weight=6, max_depth=10, learning_rate=0.2, total=   0.3s\n",
            "[CV] subsample=0.6, n_estimators=1200, min_child_weight=7, max_depth=15, learning_rate=0.1 \n",
            "[01:07:32] WARNING: /workspace/src/objective/regression_obj.cu:152: reg:linear is now deprecated in favor of reg:squarederror.\n",
            "[CV]  subsample=0.6, n_estimators=1200, min_child_weight=7, max_depth=15, learning_rate=0.1, total=   1.8s\n",
            "[CV] subsample=0.6, n_estimators=1200, min_child_weight=7, max_depth=15, learning_rate=0.1 \n",
            "[01:07:34] WARNING: /workspace/src/objective/regression_obj.cu:152: reg:linear is now deprecated in favor of reg:squarederror.\n",
            "[CV]  subsample=0.6, n_estimators=1200, min_child_weight=7, max_depth=15, learning_rate=0.1, total=   1.9s\n",
            "[CV] subsample=0.6, n_estimators=1200, min_child_weight=7, max_depth=15, learning_rate=0.1 \n",
            "[01:07:36] WARNING: /workspace/src/objective/regression_obj.cu:152: reg:linear is now deprecated in favor of reg:squarederror.\n",
            "[CV]  subsample=0.6, n_estimators=1200, min_child_weight=7, max_depth=15, learning_rate=0.1, total=   1.8s\n",
            "[CV] subsample=0.6, n_estimators=1200, min_child_weight=7, max_depth=15, learning_rate=0.1 \n",
            "[01:07:38] WARNING: /workspace/src/objective/regression_obj.cu:152: reg:linear is now deprecated in favor of reg:squarederror.\n",
            "[CV]  subsample=0.6, n_estimators=1200, min_child_weight=7, max_depth=15, learning_rate=0.1, total=   1.8s\n",
            "[CV] subsample=0.6, n_estimators=1200, min_child_weight=7, max_depth=15, learning_rate=0.1 \n",
            "[01:07:40] WARNING: /workspace/src/objective/regression_obj.cu:152: reg:linear is now deprecated in favor of reg:squarederror.\n",
            "[CV]  subsample=0.6, n_estimators=1200, min_child_weight=7, max_depth=15, learning_rate=0.1, total=   1.8s\n",
            "[CV] subsample=0.6, n_estimators=200, min_child_weight=3, max_depth=25, learning_rate=0.2 \n",
            "[01:07:42] WARNING: /workspace/src/objective/regression_obj.cu:152: reg:linear is now deprecated in favor of reg:squarederror.\n",
            "[CV]  subsample=0.6, n_estimators=200, min_child_weight=3, max_depth=25, learning_rate=0.2, total=   0.5s\n",
            "[CV] subsample=0.6, n_estimators=200, min_child_weight=3, max_depth=25, learning_rate=0.2 \n",
            "[01:07:42] WARNING: /workspace/src/objective/regression_obj.cu:152: reg:linear is now deprecated in favor of reg:squarederror.\n",
            "[CV]  subsample=0.6, n_estimators=200, min_child_weight=3, max_depth=25, learning_rate=0.2, total=   0.5s\n",
            "[CV] subsample=0.6, n_estimators=200, min_child_weight=3, max_depth=25, learning_rate=0.2 \n",
            "[01:07:43] WARNING: /workspace/src/objective/regression_obj.cu:152: reg:linear is now deprecated in favor of reg:squarederror.\n",
            "[CV]  subsample=0.6, n_estimators=200, min_child_weight=3, max_depth=25, learning_rate=0.2, total=   0.5s\n",
            "[CV] subsample=0.6, n_estimators=200, min_child_weight=3, max_depth=25, learning_rate=0.2 \n",
            "[01:07:43] WARNING: /workspace/src/objective/regression_obj.cu:152: reg:linear is now deprecated in favor of reg:squarederror.\n",
            "[CV]  subsample=0.6, n_estimators=200, min_child_weight=3, max_depth=25, learning_rate=0.2, total=   0.4s\n",
            "[CV] subsample=0.6, n_estimators=200, min_child_weight=3, max_depth=25, learning_rate=0.2 \n",
            "[01:07:43] WARNING: /workspace/src/objective/regression_obj.cu:152: reg:linear is now deprecated in favor of reg:squarederror.\n",
            "[CV]  subsample=0.6, n_estimators=200, min_child_weight=3, max_depth=25, learning_rate=0.2, total=   0.4s\n",
            "[CV] subsample=0.6, n_estimators=400, min_child_weight=5, max_depth=25, learning_rate=0.3 \n",
            "[01:07:44] WARNING: /workspace/src/objective/regression_obj.cu:152: reg:linear is now deprecated in favor of reg:squarederror.\n",
            "[CV]  subsample=0.6, n_estimators=400, min_child_weight=5, max_depth=25, learning_rate=0.3, total=   0.8s\n",
            "[CV] subsample=0.6, n_estimators=400, min_child_weight=5, max_depth=25, learning_rate=0.3 \n",
            "[01:07:45] WARNING: /workspace/src/objective/regression_obj.cu:152: reg:linear is now deprecated in favor of reg:squarederror.\n",
            "[CV]  subsample=0.6, n_estimators=400, min_child_weight=5, max_depth=25, learning_rate=0.3, total=   0.8s\n",
            "[CV] subsample=0.6, n_estimators=400, min_child_weight=5, max_depth=25, learning_rate=0.3 \n",
            "[01:07:45] WARNING: /workspace/src/objective/regression_obj.cu:152: reg:linear is now deprecated in favor of reg:squarederror.\n",
            "[CV]  subsample=0.6, n_estimators=400, min_child_weight=5, max_depth=25, learning_rate=0.3, total=   0.8s\n",
            "[CV] subsample=0.6, n_estimators=400, min_child_weight=5, max_depth=25, learning_rate=0.3 \n",
            "[01:07:46] WARNING: /workspace/src/objective/regression_obj.cu:152: reg:linear is now deprecated in favor of reg:squarederror.\n",
            "[CV]  subsample=0.6, n_estimators=400, min_child_weight=5, max_depth=25, learning_rate=0.3, total=   0.8s\n",
            "[CV] subsample=0.6, n_estimators=400, min_child_weight=5, max_depth=25, learning_rate=0.3 \n",
            "[01:07:47] WARNING: /workspace/src/objective/regression_obj.cu:152: reg:linear is now deprecated in favor of reg:squarederror.\n",
            "[CV]  subsample=0.6, n_estimators=400, min_child_weight=5, max_depth=25, learning_rate=0.3, total=   0.8s\n",
            "[CV] subsample=0.8, n_estimators=1100, min_child_weight=4, max_depth=10, learning_rate=0.1 \n",
            "[01:07:48] WARNING: /workspace/src/objective/regression_obj.cu:152: reg:linear is now deprecated in favor of reg:squarederror.\n",
            "[CV]  subsample=0.8, n_estimators=1100, min_child_weight=4, max_depth=10, learning_rate=0.1, total=   1.3s\n",
            "[CV] subsample=0.8, n_estimators=1100, min_child_weight=4, max_depth=10, learning_rate=0.1 \n",
            "[01:07:49] WARNING: /workspace/src/objective/regression_obj.cu:152: reg:linear is now deprecated in favor of reg:squarederror.\n",
            "[CV]  subsample=0.8, n_estimators=1100, min_child_weight=4, max_depth=10, learning_rate=0.1, total=   1.4s\n",
            "[CV] subsample=0.8, n_estimators=1100, min_child_weight=4, max_depth=10, learning_rate=0.1 \n",
            "[01:07:50] WARNING: /workspace/src/objective/regression_obj.cu:152: reg:linear is now deprecated in favor of reg:squarederror.\n",
            "[CV]  subsample=0.8, n_estimators=1100, min_child_weight=4, max_depth=10, learning_rate=0.1, total=   1.1s\n",
            "[CV] subsample=0.8, n_estimators=1100, min_child_weight=4, max_depth=10, learning_rate=0.1 \n",
            "[01:07:52] WARNING: /workspace/src/objective/regression_obj.cu:152: reg:linear is now deprecated in favor of reg:squarederror.\n",
            "[CV]  subsample=0.8, n_estimators=1100, min_child_weight=4, max_depth=10, learning_rate=0.1, total=   1.4s\n",
            "[CV] subsample=0.8, n_estimators=1100, min_child_weight=4, max_depth=10, learning_rate=0.1 \n",
            "[01:07:53] WARNING: /workspace/src/objective/regression_obj.cu:152: reg:linear is now deprecated in favor of reg:squarederror.\n",
            "[CV]  subsample=0.8, n_estimators=1100, min_child_weight=4, max_depth=10, learning_rate=0.1, total=   1.1s\n",
            "[CV] subsample=0.7, n_estimators=600, min_child_weight=6, max_depth=20, learning_rate=0.5 \n",
            "[01:07:54] WARNING: /workspace/src/objective/regression_obj.cu:152: reg:linear is now deprecated in favor of reg:squarederror.\n",
            "[CV]  subsample=0.7, n_estimators=600, min_child_weight=6, max_depth=20, learning_rate=0.5, total=   0.9s\n",
            "[CV] subsample=0.7, n_estimators=600, min_child_weight=6, max_depth=20, learning_rate=0.5 \n",
            "[01:07:55] WARNING: /workspace/src/objective/regression_obj.cu:152: reg:linear is now deprecated in favor of reg:squarederror.\n",
            "[CV]  subsample=0.7, n_estimators=600, min_child_weight=6, max_depth=20, learning_rate=0.5, total=   0.6s\n",
            "[CV] subsample=0.7, n_estimators=600, min_child_weight=6, max_depth=20, learning_rate=0.5 \n",
            "[01:07:56] WARNING: /workspace/src/objective/regression_obj.cu:152: reg:linear is now deprecated in favor of reg:squarederror.\n",
            "[CV]  subsample=0.7, n_estimators=600, min_child_weight=6, max_depth=20, learning_rate=0.5, total=   0.9s\n",
            "[CV] subsample=0.7, n_estimators=600, min_child_weight=6, max_depth=20, learning_rate=0.5 \n",
            "[01:07:57] WARNING: /workspace/src/objective/regression_obj.cu:152: reg:linear is now deprecated in favor of reg:squarederror.\n",
            "[CV]  subsample=0.7, n_estimators=600, min_child_weight=6, max_depth=20, learning_rate=0.5, total=   0.5s\n",
            "[CV] subsample=0.7, n_estimators=600, min_child_weight=6, max_depth=20, learning_rate=0.5 \n",
            "[01:07:57] WARNING: /workspace/src/objective/regression_obj.cu:152: reg:linear is now deprecated in favor of reg:squarederror.\n",
            "[CV]  subsample=0.7, n_estimators=600, min_child_weight=6, max_depth=20, learning_rate=0.5, total=   0.6s\n",
            "[CV] subsample=0.6, n_estimators=800, min_child_weight=7, max_depth=25, learning_rate=0.2 \n",
            "[01:07:58] WARNING: /workspace/src/objective/regression_obj.cu:152: reg:linear is now deprecated in favor of reg:squarederror.\n",
            "[CV]  subsample=0.6, n_estimators=800, min_child_weight=7, max_depth=25, learning_rate=0.2, total=   1.4s\n",
            "[CV] subsample=0.6, n_estimators=800, min_child_weight=7, max_depth=25, learning_rate=0.2 \n",
            "[01:07:59] WARNING: /workspace/src/objective/regression_obj.cu:152: reg:linear is now deprecated in favor of reg:squarederror.\n",
            "[CV]  subsample=0.6, n_estimators=800, min_child_weight=7, max_depth=25, learning_rate=0.2, total=   1.3s\n",
            "[CV] subsample=0.6, n_estimators=800, min_child_weight=7, max_depth=25, learning_rate=0.2 \n",
            "[01:08:00] WARNING: /workspace/src/objective/regression_obj.cu:152: reg:linear is now deprecated in favor of reg:squarederror.\n",
            "[CV]  subsample=0.6, n_estimators=800, min_child_weight=7, max_depth=25, learning_rate=0.2, total=   1.4s\n",
            "[CV] subsample=0.6, n_estimators=800, min_child_weight=7, max_depth=25, learning_rate=0.2 \n",
            "[01:08:02] WARNING: /workspace/src/objective/regression_obj.cu:152: reg:linear is now deprecated in favor of reg:squarederror.\n",
            "[CV]  subsample=0.6, n_estimators=800, min_child_weight=7, max_depth=25, learning_rate=0.2, total=   1.3s\n",
            "[CV] subsample=0.6, n_estimators=800, min_child_weight=7, max_depth=25, learning_rate=0.2 \n",
            "[01:08:03] WARNING: /workspace/src/objective/regression_obj.cu:152: reg:linear is now deprecated in favor of reg:squarederror.\n",
            "[CV]  subsample=0.6, n_estimators=800, min_child_weight=7, max_depth=25, learning_rate=0.2, total=   1.3s\n",
            "[CV] subsample=0.6, n_estimators=1200, min_child_weight=4, max_depth=15, learning_rate=0.1 \n",
            "[01:08:05] WARNING: /workspace/src/objective/regression_obj.cu:152: reg:linear is now deprecated in favor of reg:squarederror.\n",
            "[CV]  subsample=0.6, n_estimators=1200, min_child_weight=4, max_depth=15, learning_rate=0.1, total=   2.0s\n",
            "[CV] subsample=0.6, n_estimators=1200, min_child_weight=4, max_depth=15, learning_rate=0.1 \n",
            "[01:08:07] WARNING: /workspace/src/objective/regression_obj.cu:152: reg:linear is now deprecated in favor of reg:squarederror.\n",
            "[CV]  subsample=0.6, n_estimators=1200, min_child_weight=4, max_depth=15, learning_rate=0.1, total=   1.9s\n",
            "[CV] subsample=0.6, n_estimators=1200, min_child_weight=4, max_depth=15, learning_rate=0.1 \n",
            "[01:08:08] WARNING: /workspace/src/objective/regression_obj.cu:152: reg:linear is now deprecated in favor of reg:squarederror.\n",
            "[CV]  subsample=0.6, n_estimators=1200, min_child_weight=4, max_depth=15, learning_rate=0.1, total=   2.0s\n",
            "[CV] subsample=0.6, n_estimators=1200, min_child_weight=4, max_depth=15, learning_rate=0.1 \n",
            "[01:08:10] WARNING: /workspace/src/objective/regression_obj.cu:152: reg:linear is now deprecated in favor of reg:squarederror.\n",
            "[CV]  subsample=0.6, n_estimators=1200, min_child_weight=4, max_depth=15, learning_rate=0.1, total=   2.1s\n",
            "[CV] subsample=0.6, n_estimators=1200, min_child_weight=4, max_depth=15, learning_rate=0.1 \n",
            "[01:08:13] WARNING: /workspace/src/objective/regression_obj.cu:152: reg:linear is now deprecated in favor of reg:squarederror.\n",
            "[CV]  subsample=0.6, n_estimators=1200, min_child_weight=4, max_depth=15, learning_rate=0.1, total=   1.9s\n",
            "[CV] subsample=0.8, n_estimators=400, min_child_weight=3, max_depth=20, learning_rate=0.6 \n",
            "[01:08:14] WARNING: /workspace/src/objective/regression_obj.cu:152: reg:linear is now deprecated in favor of reg:squarederror.\n",
            "[CV]  subsample=0.8, n_estimators=400, min_child_weight=3, max_depth=20, learning_rate=0.6, total=   0.4s\n",
            "[CV] subsample=0.8, n_estimators=400, min_child_weight=3, max_depth=20, learning_rate=0.6 \n",
            "[01:08:15] WARNING: /workspace/src/objective/regression_obj.cu:152: reg:linear is now deprecated in favor of reg:squarederror.\n",
            "[CV]  subsample=0.8, n_estimators=400, min_child_weight=3, max_depth=20, learning_rate=0.6, total=   0.4s\n",
            "[CV] subsample=0.8, n_estimators=400, min_child_weight=3, max_depth=20, learning_rate=0.6 \n",
            "[01:08:15] WARNING: /workspace/src/objective/regression_obj.cu:152: reg:linear is now deprecated in favor of reg:squarederror.\n",
            "[CV]  subsample=0.8, n_estimators=400, min_child_weight=3, max_depth=20, learning_rate=0.6, total=   0.4s\n",
            "[CV] subsample=0.8, n_estimators=400, min_child_weight=3, max_depth=20, learning_rate=0.6 \n",
            "[01:08:16] WARNING: /workspace/src/objective/regression_obj.cu:152: reg:linear is now deprecated in favor of reg:squarederror.\n",
            "[CV]  subsample=0.8, n_estimators=400, min_child_weight=3, max_depth=20, learning_rate=0.6, total=   0.3s\n",
            "[CV] subsample=0.8, n_estimators=400, min_child_weight=3, max_depth=20, learning_rate=0.6 \n",
            "[01:08:16] WARNING: /workspace/src/objective/regression_obj.cu:152: reg:linear is now deprecated in favor of reg:squarederror.\n",
            "[CV]  subsample=0.8, n_estimators=400, min_child_weight=3, max_depth=20, learning_rate=0.6, total=   0.3s\n",
            "[CV] subsample=0.6, n_estimators=700, min_child_weight=3, max_depth=10, learning_rate=0.05 \n",
            "[01:08:16] WARNING: /workspace/src/objective/regression_obj.cu:152: reg:linear is now deprecated in favor of reg:squarederror.\n",
            "[CV]  subsample=0.6, n_estimators=700, min_child_weight=3, max_depth=10, learning_rate=0.05, total=   1.0s\n",
            "[CV] subsample=0.6, n_estimators=700, min_child_weight=3, max_depth=10, learning_rate=0.05 \n",
            "[01:08:17] WARNING: /workspace/src/objective/regression_obj.cu:152: reg:linear is now deprecated in favor of reg:squarederror.\n",
            "[CV]  subsample=0.6, n_estimators=700, min_child_weight=3, max_depth=10, learning_rate=0.05, total=   1.0s\n",
            "[CV] subsample=0.6, n_estimators=700, min_child_weight=3, max_depth=10, learning_rate=0.05 \n",
            "[01:08:18] WARNING: /workspace/src/objective/regression_obj.cu:152: reg:linear is now deprecated in favor of reg:squarederror.\n",
            "[CV]  subsample=0.6, n_estimators=700, min_child_weight=3, max_depth=10, learning_rate=0.05, total=   1.0s\n",
            "[CV] subsample=0.6, n_estimators=700, min_child_weight=3, max_depth=10, learning_rate=0.05 \n",
            "[01:08:19] WARNING: /workspace/src/objective/regression_obj.cu:152: reg:linear is now deprecated in favor of reg:squarederror.\n",
            "[CV]  subsample=0.6, n_estimators=700, min_child_weight=3, max_depth=10, learning_rate=0.05, total=   1.0s\n",
            "[CV] subsample=0.6, n_estimators=700, min_child_weight=3, max_depth=10, learning_rate=0.05 \n",
            "[01:08:20] WARNING: /workspace/src/objective/regression_obj.cu:152: reg:linear is now deprecated in favor of reg:squarederror.\n",
            "[CV]  subsample=0.6, n_estimators=700, min_child_weight=3, max_depth=10, learning_rate=0.05, total=   1.0s\n",
            "[01:08:21] WARNING: /workspace/src/objective/regression_obj.cu:152: reg:linear is now deprecated in favor of reg:squarederror.\n"
          ],
          "name": "stdout"
        },
        {
          "output_type": "stream",
          "text": [
            "[Parallel(n_jobs=1)]: Done 500 out of 500 | elapsed:  6.6min finished\n"
          ],
          "name": "stderr"
        },
        {
          "output_type": "execute_result",
          "data": {
            "text/plain": [
              "RandomizedSearchCV(cv=5, error_score=nan,\n",
              "                   estimator=XGBRegressor(base_score=0.5, booster='gbtree',\n",
              "                                          colsample_bylevel=1,\n",
              "                                          colsample_bynode=1,\n",
              "                                          colsample_bytree=1, gamma=0,\n",
              "                                          importance_type='gain',\n",
              "                                          learning_rate=0.1, max_delta_step=0,\n",
              "                                          max_depth=3, min_child_weight=1,\n",
              "                                          missing=None, n_estimators=100,\n",
              "                                          n_jobs=1, nthread=None,\n",
              "                                          objective='reg:linear',\n",
              "                                          random_state=0, reg_alpha=...\n",
              "                   param_distributions={'learning_rate': ['0.05', '0.1', '0.2',\n",
              "                                                          '0.3', '0.5', '0.6'],\n",
              "                                        'max_depth': [5, 10, 15, 20, 25, 30],\n",
              "                                        'min_child_weight': [3, 4, 5, 6, 7],\n",
              "                                        'n_estimators': [100, 200, 300, 400,\n",
              "                                                         500, 600, 700, 800,\n",
              "                                                         900, 1000, 1100,\n",
              "                                                         1200],\n",
              "                                        'subsample': [0.6, 0.7, 0.8]},\n",
              "                   pre_dispatch='2*n_jobs', random_state=42, refit=True,\n",
              "                   return_train_score=False, scoring='neg_mean_squared_error',\n",
              "                   verbose=2)"
            ]
          },
          "metadata": {
            "tags": []
          },
          "execution_count": 36
        }
      ]
    },
    {
      "cell_type": "code",
      "metadata": {
        "id": "IBDYvM5fIcER",
        "outputId": "27ec535a-b565-48d3-dd69-c9d8714e69eb",
        "colab": {
          "base_uri": "https://localhost:8080/"
        }
      },
      "source": [
        "xg_random.best_params_"
      ],
      "execution_count": 37,
      "outputs": [
        {
          "output_type": "execute_result",
          "data": {
            "text/plain": [
              "{'learning_rate': '0.05',\n",
              " 'max_depth': 30,\n",
              " 'min_child_weight': 3,\n",
              " 'n_estimators': 1100,\n",
              " 'subsample': 0.8}"
            ]
          },
          "metadata": {
            "tags": []
          },
          "execution_count": 37
        }
      ]
    },
    {
      "cell_type": "code",
      "metadata": {
        "id": "KBI-iZAgOSqv",
        "outputId": "e9f2232b-9ea8-408c-abdd-ed78df061f0a",
        "colab": {
          "base_uri": "https://localhost:8080/"
        }
      },
      "source": [
        "xg_random.best_score_"
      ],
      "execution_count": 38,
      "outputs": [
        {
          "output_type": "execute_result",
          "data": {
            "text/plain": [
              "-1380.5446667169047"
            ]
          },
          "metadata": {
            "tags": []
          },
          "execution_count": 38
        }
      ]
    },
    {
      "cell_type": "code",
      "metadata": {
        "id": "gxVV6ADyPo2o"
      },
      "source": [
        "prediction = xg_random.predict(x_test)"
      ],
      "execution_count": 39,
      "outputs": []
    },
    {
      "cell_type": "code",
      "metadata": {
        "id": "1eJmT3L5Pwbb",
        "outputId": "99bc7c4d-a18e-42be-feb0-3aaccee8140e",
        "colab": {
          "base_uri": "https://localhost:8080/",
          "height": 354
        }
      },
      "source": [
        "sns.distplot(y_test - prediction)"
      ],
      "execution_count": 40,
      "outputs": [
        {
          "output_type": "stream",
          "text": [
            "/usr/local/lib/python3.6/dist-packages/seaborn/distributions.py:2551: FutureWarning: `distplot` is a deprecated function and will be removed in a future version. Please adapt your code to use either `displot` (a figure-level function with similar flexibility) or `histplot` (an axes-level function for histograms).\n",
            "  warnings.warn(msg, FutureWarning)\n"
          ],
          "name": "stderr"
        },
        {
          "output_type": "execute_result",
          "data": {
            "text/plain": [
              "<matplotlib.axes._subplots.AxesSubplot at 0x7f13f625ad30>"
            ]
          },
          "metadata": {
            "tags": []
          },
          "execution_count": 40
        },
        {
          "output_type": "display_data",
          "data": {
            "image/png": "[encoded data removed]",
            "text/plain": [
              "<Figure size 432x288 with 1 Axes>"
            ]
          },
          "metadata": {
            "tags": [],
            "needs_background": "light"
          }
        }
      ]
    },
    {
      "cell_type": "code",
      "metadata": {
        "id": "A6jqfGhNP1eb",
        "outputId": "d8aa115a-037a-4c01-9003-63518297cc20",
        "colab": {
          "base_uri": "https://localhost:8080/",
          "height": 286
        }
      },
      "source": [
        "plt.scatter(y_test, prediction)"
      ],
      "execution_count": 41,
      "outputs": [
        {
          "output_type": "execute_result",
          "data": {
            "text/plain": [
              "<matplotlib.collections.PathCollection at 0x7f1431a8d7b8>"
            ]
          },
          "metadata": {
            "tags": []
          },
          "execution_count": 41
        },
        {
          "output_type": "display_data",
          "data": {
            "image/png": "[encoded data removed]",
            "text/plain": [
              "<Figure size 432x288 with 1 Axes>"
            ]
          },
          "metadata": {
            "tags": [],
            "needs_background": "light"
          }
        }
      ]
    },
    {
      "cell_type": "code",
      "metadata": {
        "id": "_hpeD77hP-Ju",
        "outputId": "e9ec8ba6-c189-4bdd-992a-806d9d6bb8df",
        "colab": {
          "base_uri": "https://localhost:8080/"
        }
      },
      "source": [
        "from sklearn import metrics\n",
        "\n",
        "print ('MAE: ', metrics.mean_absolute_error(y_test, prediction))\n",
        "print ('MSE: ', metrics.mean_squared_error(y_test, prediction))\n",
        "print ('RMSE: ', np.sqrt(metrics.mean_squared_error(y_test, prediction)))"
      ],
      "execution_count": 42,
      "outputs": [
        {
          "output_type": "stream",
          "text": [
            "MAE:  19.02743707274397\n",
            "MSE:  1355.708107839994\n",
            "RMSE:  36.8199417142395\n"
          ],
          "name": "stdout"
        }
      ]
    },
    {
      "cell_type": "code",
      "metadata": {
        "id": "zquJRUW-Q2NP"
      },
      "source": [
        "import pickle"
      ],
      "execution_count": 44,
      "outputs": []
    },
    {
      "cell_type": "code",
      "metadata": {
        "id": "HaNfuHRnRLNs"
      },
      "source": [
        "### Open a file where you want to store the data\n",
        "\n",
        "file = open('xgboost_regression_model.pkl', 'wb')\n",
        "\n",
        "### Dump information to that file\n",
        "pickle.dump(xg_random, file)"
      ],
      "execution_count": 45,
      "outputs": []
    },
    {
      "cell_type": "code",
      "metadata": {
        "id": "NexM3j8gRpol"
      },
      "source": [
        ""
      ],
      "execution_count": null,
      "outputs": []
    }
  ]
}